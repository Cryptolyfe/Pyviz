{
 "cells": [
  {
   "cell_type": "markdown",
   "metadata": {},
   "source": [
    "# San Francisco Rental Prices Dashboard\n",
    "\n",
    "In this notebook, you will compile the visualizations from the previous analysis into functions that can be used for a Panel dashboard."
   ]
  },
  {
   "cell_type": "code",
   "execution_count": 202,
   "metadata": {},
   "outputs": [],
   "source": [
    "# imports\n",
    "import panel as pn\n",
    "pn.extension('plotly')\n",
    "import plotly.express as px\n",
    "import pandas as pd\n",
    "import hvplot.pandas\n",
    "import matplotlib.pyplot as plt\n",
    "import os\n",
    "from pathlib import Path\n",
    "from dotenv import load_dotenv"
   ]
  },
  {
   "cell_type": "code",
   "execution_count": 203,
   "metadata": {},
   "outputs": [],
   "source": [
    "# Read the Mapbox API key\n",
    "load_dotenv()\n",
    "map_box_api = os.getenv(\"MAPBOX_API_KEY\")\n",
    "px.set_mapbox_access_token(map_box_api)"
   ]
  },
  {
   "cell_type": "markdown",
   "metadata": {},
   "source": [
    "# Import Data"
   ]
  },
  {
   "cell_type": "code",
   "execution_count": 204,
   "metadata": {},
   "outputs": [],
   "source": [
    "# Import the necessary CSVs to Pandas DataFrames\n",
    "# YOUR CODE HERE!\n",
    "\n",
    "file_path = Path(\"Data/neighborhoods_coordinates.csv\")\n",
    "coordinates_data = pd.read_csv(file_path, index_col=\"Neighborhood\")\n",
    "\n",
    "\n",
    "file_path = Path(\"Data/sfo_neighborhoods_census_data.csv\")\n",
    "sfo_data = pd.read_csv(file_path, index_col=\"year\")\n",
    "\n",
    "#sfo_data\n",
    "\n",
    "#sfo_with_index = sfo_data.reset_index(inplace=True)\n",
    "\n",
    "#sfo_coordinates = (\n",
    "    #pd.concat([coordinates_data, sfo_data], axis='columns',join='inner' ,sort=True)\n",
    "    #.reset_index()\n",
    "#)\n",
    "#sfo_coordinates"
   ]
  },
  {
   "cell_type": "markdown",
   "metadata": {},
   "source": [
    "- - -"
   ]
  },
  {
   "cell_type": "markdown",
   "metadata": {},
   "source": [
    "## Panel Visualizations\n",
    "\n",
    "In this section, you will copy the code for each plot type from your analysis notebook and place it into separate functions that Panel can use to create panes for the dashboard. \n",
    "\n",
    "These functions will convert the plot object to a Panel pane.\n",
    "\n",
    "Be sure to include any DataFrame transformation/manipulation code required along with the plotting code.\n",
    "\n",
    "Return a Panel pane object from each function that can be used to build the dashboard.\n",
    "\n",
    "Note: Remove any `.show()` lines from the code. We want to return the plots instead of showing them. The Panel dashboard will then display the plots."
   ]
  },
  {
   "cell_type": "code",
   "execution_count": 205,
   "metadata": {},
   "outputs": [],
   "source": [
    "# Define Panel Visualization Functions\n",
    "\n",
    "\n",
    "housing_df= sfo_data.groupby('year').mean()\n",
    "\n",
    "\n",
    "\n",
    "def housing_units_per_year():\n",
    "    housing_units_plot = px.bar(\n",
    "        housing_df,\n",
    "        x=housing_df.index,\n",
    "        y='housing_units',\n",
    "        title=\"Housing Units Per Year\",\n",
    "        width=1000,\n",
    "    )\n",
    "    return housing_units_plot\n",
    "    \n",
    "    \n",
    "    \n",
    "gross_rent_df = sfo_data.groupby('year').mean() \n",
    "\n",
    "\n",
    "\n",
    "def average_gross_rent():\n",
    "    gross_rent_df = sfo_data[['housing_units']].groupby('year').mean()\n",
    "    gross_rent_plot = gross_rent_df.hvplot(title= 'Gross Rent')\n",
    "    \n",
    "\n",
    "    return gross_rent_plot\n",
    "    \n",
    "\n",
    "  \n",
    "def avg_sale_price():\n",
    "    sale_price_sqr_df = sfo_data[[\"sale_price_sqr_foot\"]].groupby('year').mean()\n",
    "    avg_plot = sale_price_sqr_df.hvplot(title='Sale Price Per Sq Ft')\n",
    "    \n",
    "    \n",
    "    return avg_plot\n",
    "    \n",
    "    \n",
    "\n",
    "def average_price_by_neighborhood():\n",
    "    housing_df = sfo_data.groupby([sfo_data.index ,\"neighborhood\"]).mean()\n",
    "    sf_sales = housing_df[\"sale_price_sqr_foot\"]\n",
    "    sf_sales_df = pd.DataFrame(sf_sales).reset_index()\n",
    "    avg_price_plot = sf_sales_df.hvplot(y = 'sale_price_sqr_foot', x = 'year', groupby='neighborhood')\n",
    "\n",
    "    return avg_price_plot\n",
    "\n",
    "\n",
    "\n",
    "\n",
    "def top_most_expensive_neighborhoods():\n",
    "    top_10_most_expensive = sfo_data.sort_values(by='sale_price_sqr_foot', ascending=False)\n",
    "    #top_10_most_expensive.reset_index()\n",
    "    most_exp_plot = top_10_most_expensive.hvplot.bar(\n",
    "    x=\"neighborhood\", \n",
    "    y=\"sale_price_sqr_foot\",\n",
    "    height=400, \n",
    "    width=1000,\n",
    "    color='neighborhood',\n",
    "    groupby='year'\n",
    ")\n",
    "\n",
    "    return most_exp_plot\n",
    "\n",
    "\n",
    "\n",
    "#def top_most_expensive_neighborhoods():\n",
    "   #top_most_expensive_plot = px.scatter_mapbox(\n",
    "       # top_10_most_expensive,\n",
    "        #lat=\"latitude\",\n",
    "        #lon=\"longitude\",\n",
    "        #size=\"year\",\n",
    "        #color=\"index\",\n",
    "        #color_continuous_scale=px.colors.cyclical.IceFire,\n",
    "        #title=\"Housing Units Per Year\",\n",
    "        #zoom=3,\n",
    "        #width=1000,\n",
    "   # )\n",
    "   # return top_most_expensive_plot\n",
    "\n",
    "\n",
    "def most_expensive_neighborhoods_rent_sales():\n",
    "    \"\"\"Comparison of Rent and Sales Prices of Most Expensive Neighborhoods.\"\"\"   \n",
    "    \n",
    "    # YOUR CODE HERE!\n",
    "\n",
    "    \n",
    "    \n",
    "def parallel_coordinates():\n",
    "    \"\"\"Parallel Coordinates Plot.\"\"\"\n",
    "\n",
    "    # YOUR CODE HERE!\n",
    "\n",
    "\n",
    "\n",
    "def parallel_categories():\n",
    "    \"\"\"Parallel Categories Plot.\"\"\"\n",
    "    \n",
    "    # YOUR CODE HERE!\n",
    "\n",
    "\n",
    "\n",
    "def neighborhood_map():\n",
    "    \"\"\"Neighborhood Map.\"\"\"\n",
    "\n",
    "    # YOUR CODE HERE!\n",
    "\n",
    "\n",
    "def sunburst():\n",
    "    \"\"\"Sunburst Plot.\"\"\"\n",
    "    \n",
    "    # YOUR CODE HERE!\n"
   ]
  },
  {
   "cell_type": "code",
   "execution_count": null,
   "metadata": {},
   "outputs": [],
   "source": [
    "top_most_expensive_neighborhoods()"
   ]
  },
  {
   "cell_type": "code",
   "execution_count": null,
   "metadata": {},
   "outputs": [],
   "source": []
  },
  {
   "cell_type": "markdown",
   "metadata": {},
   "source": [
    "## Panel Dashboard\n",
    "\n",
    "In this section, you will combine all of the plots into a single dashboard view using Panel. Be creative with your dashboard design!"
   ]
  },
  {
   "cell_type": "code",
   "execution_count": 201,
   "metadata": {},
   "outputs": [
    {
     "data": {},
     "metadata": {},
     "output_type": "display_data"
    },
    {
     "data": {},
     "metadata": {},
     "output_type": "display_data"
    },
    {
     "data": {
      "application/vnd.holoviews_exec.v0+json": "",
      "text/html": [
       "<div id='5710'>\n",
       "\n",
       "\n",
       "\n",
       "\n",
       "\n",
       "  <div class=\"bk-root\" id=\"640ccde3-cc70-4b4d-9e8f-4db273e86c88\" data-root-id=\"5710\"></div>\n",
       "</div>\n",
       "<script type=\"application/javascript\">(function(root) {\n",
       "  function embed_document(root) {\n",
       "    var docs_json = {\"49eb8e50-8508-4c84-88ea-7682c2ff2e28\":{\"defs\":[{\"extends\":null,\"module\":null,\"name\":\"ReactiveHTML1\",\"overrides\":[],\"properties\":[]},{\"extends\":null,\"module\":null,\"name\":\"FlexBox1\",\"overrides\":[],\"properties\":[{\"default\":\"flex-start\",\"kind\":null,\"name\":\"align_content\"},{\"default\":\"flex-start\",\"kind\":null,\"name\":\"align_items\"},{\"default\":\"row\",\"kind\":null,\"name\":\"flex_direction\"},{\"default\":\"wrap\",\"kind\":null,\"name\":\"flex_wrap\"},{\"default\":\"flex-start\",\"kind\":null,\"name\":\"justify_content\"}]},{\"extends\":null,\"module\":null,\"name\":\"TemplateActions1\",\"overrides\":[],\"properties\":[{\"default\":0,\"kind\":null,\"name\":\"open_modal\"},{\"default\":0,\"kind\":null,\"name\":\"close_modal\"}]},{\"extends\":null,\"module\":null,\"name\":\"MaterialTemplateActions1\",\"overrides\":[],\"properties\":[{\"default\":0,\"kind\":null,\"name\":\"open_modal\"},{\"default\":0,\"kind\":null,\"name\":\"close_modal\"}]}],\"roots\":{\"references\":[{\"attributes\":{\"source\":{\"id\":\"5885\"}},\"id\":\"5892\",\"type\":\"CDSView\"},{\"attributes\":{\"text\":\"Gross Rent\",\"text_color\":\"black\",\"text_font_size\":\"12pt\"},\"id\":\"5719\",\"type\":\"Title\"},{\"attributes\":{},\"id\":\"5800\",\"type\":\"BasicTicker\"},{\"attributes\":{},\"id\":\"5899\",\"type\":\"BasicTickFormatter\"},{\"attributes\":{\"end\":6,\"js_property_callbacks\":{\"change:value\":[{\"id\":\"6070\"}]},\"margin\":[0,20,20,20],\"min_width\":250,\"show_value\":false,\"start\":0,\"tooltips\":false,\"value\":0,\"width\":250},\"id\":\"6025\",\"type\":\"Slider\"},{\"attributes\":{\"css_classes\":[\"markdown\"],\"margin\":[5,5,5,5],\"name\":\"Markdown07824\",\"text\":\"&lt;h2&gt;San Francisco Real Estate Analysis From 2010 to 2016&lt;/h2&gt;\"},\"id\":\"5712\",\"type\":\"panel.models.markup.HTML\"},{\"attributes\":{\"axis\":{\"id\":\"5799\"},\"dimension\":1,\"grid_line_color\":null,\"ticker\":null},\"id\":\"5802\",\"type\":\"Grid\"},{\"attributes\":{},\"id\":\"5896\",\"type\":\"BasicTickFormatter\"},{\"attributes\":{\"line_color\":\"#30a2da\",\"line_width\":2,\"x\":{\"field\":\"year\"},\"y\":{\"field\":\"sale_price_sqr_foot\"}},\"id\":\"5893\",\"type\":\"Line\"},{\"attributes\":{\"children\":[{\"id\":\"5712\"},{\"id\":\"5714\"},{\"id\":\"5718\"},{\"id\":\"5786\"},{\"id\":\"5851\"}],\"margin\":[0,0,0,0],\"name\":\"Column07847\"},\"id\":\"5711\",\"type\":\"Column\"},{\"attributes\":{},\"id\":\"5986\",\"type\":\"UnionRenderers\"},{\"attributes\":{},\"id\":\"5723\",\"type\":\"LinearScale\"},{\"attributes\":{\"data_source\":{\"id\":\"5816\"},\"glyph\":{\"id\":\"5819\"},\"hover_glyph\":null,\"muted_glyph\":{\"id\":\"5821\"},\"nonselection_glyph\":{\"id\":\"5820\"},\"selection_glyph\":{\"id\":\"5824\"},\"view\":{\"id\":\"5823\"}},\"id\":\"5822\",\"type\":\"GlyphRenderer\"},{\"attributes\":{},\"id\":\"5898\",\"type\":\"AllLabels\"},{\"attributes\":{\"axis\":{\"id\":\"5731\"},\"dimension\":1,\"grid_line_color\":null,\"ticker\":null},\"id\":\"5734\",\"type\":\"Grid\"},{\"attributes\":{\"line_alpha\":0.1,\"line_color\":\"#30a2da\",\"line_width\":2,\"x\":{\"field\":\"year\"},\"y\":{\"field\":\"sale_price_sqr_foot\"}},\"id\":\"5820\",\"type\":\"Line\"},{\"attributes\":{\"items\":[{\"id\":\"5988\"}],\"location\":[0,0]},\"id\":\"5987\",\"type\":\"Legend\"},{\"attributes\":{},\"id\":\"5982\",\"type\":\"AllLabels\"},{\"attributes\":{\"active_multi\":null,\"tools\":[{\"id\":\"5785\"},{\"id\":\"5803\"},{\"id\":\"5804\"},{\"id\":\"5805\"},{\"id\":\"5806\"},{\"id\":\"5807\"}]},\"id\":\"5809\",\"type\":\"Toolbar\"},{\"attributes\":{},\"id\":\"5979\",\"type\":\"AllLabels\"},{\"attributes\":{},\"id\":\"5739\",\"type\":\"ResetTool\"},{\"attributes\":{\"line_color\":\"#30a2da\",\"line_width\":2,\"x\":{\"field\":\"year\"},\"y\":{\"field\":\"housing_units\"}},\"id\":\"5756\",\"type\":\"Line\"},{\"attributes\":{\"line_alpha\":0.2,\"line_color\":\"#30a2da\",\"line_width\":2,\"x\":{\"field\":\"year\"},\"y\":{\"field\":\"sale_price_sqr_foot\"}},\"id\":\"5821\",\"type\":\"Line\"},{\"attributes\":{},\"id\":\"5803\",\"type\":\"SaveTool\"},{\"attributes\":{},\"id\":\"5980\",\"type\":\"BasicTickFormatter\"},{\"attributes\":{\"fill_alpha\":{\"value\":0.2},\"fill_color\":{\"field\":\"color\",\"transform\":{\"id\":\"5966\"}},\"line_alpha\":{\"value\":0.2},\"top\":{\"field\":\"sale_price_sqr_foot\"},\"width\":{\"value\":0.8},\"x\":{\"field\":\"neighborhood\"}},\"id\":\"5974\",\"type\":\"VBar\"},{\"attributes\":{\"active_multi\":null,\"tools\":[{\"id\":\"5717\"},{\"id\":\"5735\"},{\"id\":\"5736\"},{\"id\":\"5737\"},{\"id\":\"5738\"},{\"id\":\"5739\"}]},\"id\":\"5741\",\"type\":\"Toolbar\"},{\"attributes\":{},\"id\":\"5804\",\"type\":\"PanTool\"},{\"attributes\":{},\"id\":\"5983\",\"type\":\"CategoricalTickFormatter\"},{\"attributes\":{},\"id\":\"5805\",\"type\":\"WheelZoomTool\"},{\"attributes\":{\"axis\":{\"id\":\"5727\"},\"grid_line_color\":null,\"ticker\":null},\"id\":\"5730\",\"type\":\"Grid\"},{\"attributes\":{\"overlay\":{\"id\":\"5808\"}},\"id\":\"5806\",\"type\":\"BoxZoomTool\"},{\"attributes\":{\"margin\":[20,0,0,20],\"name\":\"\",\"style\":{\"white-space\":\"nowrap\"},\"text\":\"year: <b>2010</b>\",\"width\":250},\"id\":\"6024\",\"type\":\"Div\"},{\"attributes\":{\"source\":{\"id\":\"5748\"}},\"id\":\"5755\",\"type\":\"CDSView\"},{\"attributes\":{\"label\":{\"field\":\"color\"},\"renderers\":[{\"id\":\"5975\"}]},\"id\":\"5988\",\"type\":\"LegendItem\"},{\"attributes\":{},\"id\":\"5732\",\"type\":\"BasicTicker\"},{\"attributes\":{},\"id\":\"5807\",\"type\":\"ResetTool\"},{\"attributes\":{\"source\":{\"id\":\"5967\"}},\"id\":\"5976\",\"type\":\"CDSView\"},{\"attributes\":{\"axis_label\":\"housing_units\",\"formatter\":{\"id\":\"5762\"},\"major_label_policy\":{\"id\":\"5761\"},\"ticker\":{\"id\":\"5732\"}},\"id\":\"5731\",\"type\":\"LinearAxis\"},{\"attributes\":{\"overlay\":{\"id\":\"5740\"}},\"id\":\"5738\",\"type\":\"BoxZoomTool\"},{\"attributes\":{\"callback\":null,\"renderers\":[{\"id\":\"5975\"}],\"tags\":[\"hv_created\"],\"tooltips\":[[\"neighborhood\",\"@{neighborhood}\"],[\"sale_price_sqr_foot\",\"@{sale_price_sqr_foot}\"]]},\"id\":\"5936\",\"type\":\"HoverTool\"},{\"attributes\":{\"below\":[{\"id\":\"5727\"}],\"center\":[{\"id\":\"5730\"},{\"id\":\"5734\"}],\"height\":300,\"left\":[{\"id\":\"5731\"}],\"margin\":[5,5,5,5],\"min_border_bottom\":10,\"min_border_left\":10,\"min_border_right\":10,\"min_border_top\":10,\"renderers\":[{\"id\":\"5754\"}],\"sizing_mode\":\"fixed\",\"title\":{\"id\":\"5719\"},\"toolbar\":{\"id\":\"5741\"},\"width\":700,\"x_range\":{\"id\":\"5715\"},\"x_scale\":{\"id\":\"5723\"},\"y_range\":{\"id\":\"5716\"},\"y_scale\":{\"id\":\"5725\"}},\"id\":\"5718\",\"subtype\":\"Figure\",\"type\":\"Plot\"},{\"attributes\":{\"data_source\":{\"id\":\"5748\"},\"glyph\":{\"id\":\"5751\"},\"hover_glyph\":null,\"muted_glyph\":{\"id\":\"5753\"},\"nonselection_glyph\":{\"id\":\"5752\"},\"selection_glyph\":{\"id\":\"5756\"},\"view\":{\"id\":\"5755\"}},\"id\":\"5754\",\"type\":\"GlyphRenderer\"},{\"attributes\":{\"children\":[{\"id\":\"6023\"}],\"css_classes\":[\"panel-widget-box\"],\"margin\":[5,5,5,5],\"name\":\"WidgetBox07877\"},\"id\":\"6022\",\"type\":\"Column\"},{\"attributes\":{},\"id\":\"5737\",\"type\":\"WheelZoomTool\"},{\"attributes\":{\"children\":[{\"id\":\"5928\"}],\"css_classes\":[\"panel-widget-box\"],\"margin\":[5,5,5,5],\"name\":\"WidgetBox07840\"},\"id\":\"5927\",\"type\":\"Column\"},{\"attributes\":{\"line_color\":\"#30a2da\",\"line_width\":2,\"x\":{\"field\":\"year\"},\"y\":{\"field\":\"housing_units\"}},\"id\":\"5751\",\"type\":\"Line\"},{\"attributes\":{\"factors\":[\"South Beach\",\"Glen Park\",\"Miraloma Park\",\"Cow Hollow\",\"Union Square District\",\"Golden Gate Heights\",\"Presidio Heights\",\"Sunnyside\",\"Telegraph Hill\",\"Pacific Heights\",\"Potrero Hill\",\"Mission Bay\",\"Diamond Heights\",\"Parnassus/Ashbury Heights\",\"Outer Parkside\",\"Jordan Park/Laurel Heights\",\"Central Sunset\",\"Eureka Valley/Dolores Heights\",\"Financial District North\",\"South of Market\",\"Lone Mountain\",\"West Portal\",\"Marina\",\"Noe Valley\",\"Lower Pacific Heights\",\"Corona Heights\",\"Outer Sunset\",\"Excelsior\",\"Russian Hill\",\"Buena Vista Park\",\"Outer Richmond \",\"Yerba Buena\",\"Twin Peaks\",\"Park North\",\"Lake --The Presidio\",\"Central Richmond\",\"Nob Hill\",\"Portola\",\"Alamo Square\",\"Inner Richmond\",\"Oceanview\",\"Inner Sunset\",\"Ingleside \",\"Parkside\",\"Hayes Valley\",\"Anza Vista\",\"Mission Terrace\",\"Mission Dolores\",\"Haight Ashbury\",\"Downtown \",\"Inner Mission\",\"Western Addition\",\"Forest Knolls\",\"Inner Parkside\",\"Hunters Point\",\"Bayview\",\"Croker Amazon\",\"Financial District South\",\"Van Ness/ Civic Center\"],\"palette\":[\"#440154\",\"#440255\",\"#440357\",\"#450558\",\"#45065a\",\"#45085b\",\"#46095c\",\"#460b5e\",\"#460c5f\",\"#460e61\",\"#470f62\",\"#471163\",\"#471265\",\"#471466\",\"#471567\",\"#471669\",\"#47186a\",\"#48196b\",\"#481a6c\",\"#481c6e\",\"#481d6f\",\"#481e70\",\"#482071\",\"#482172\",\"#482273\",\"#482374\",\"#472575\",\"#472676\",\"#472777\",\"#472878\",\"#472a79\",\"#472b7a\",\"#472c7b\",\"#462d7c\",\"#462f7c\",\"#46307d\",\"#46317e\",\"#45327f\",\"#45347f\",\"#453580\",\"#453681\",\"#443781\",\"#443982\",\"#433a83\",\"#433b83\",\"#433c84\",\"#423d84\",\"#423e85\",\"#424085\",\"#414186\",\"#414286\",\"#404387\",\"#404487\",\"#3f4587\",\"#3f4788\",\"#3e4888\",\"#3e4989\",\"#3d4a89\",\"#3d4b89\"]},\"id\":\"5966\",\"type\":\"CategoricalColorMapper\"},{\"attributes\":{},\"id\":\"5736\",\"type\":\"PanTool\"},{\"attributes\":{\"fill_color\":{\"field\":\"color\",\"transform\":{\"id\":\"5966\"}},\"top\":{\"field\":\"sale_price_sqr_foot\"},\"width\":{\"value\":0.8},\"x\":{\"field\":\"neighborhood\"}},\"id\":\"5970\",\"type\":\"VBar\"},{\"attributes\":{\"children\":[{\"id\":\"6024\"},{\"id\":\"6025\"}],\"margin\":[0,0,0,0],\"min_width\":290,\"name\":\"Column07886\",\"width\":290},\"id\":\"6023\",\"type\":\"Column\"},{\"attributes\":{\"end\":385410.2,\"reset_end\":385410.2,\"reset_start\":371391.8,\"start\":371391.8,\"tags\":[[[\"housing_units\",\"housing_units\",null]]]},\"id\":\"5716\",\"type\":\"Range1d\"},{\"attributes\":{},\"id\":\"5735\",\"type\":\"SaveTool\"},{\"attributes\":{\"active_multi\":null,\"tools\":[{\"id\":\"5936\"},{\"id\":\"5953\"},{\"id\":\"5954\"},{\"id\":\"5955\"},{\"id\":\"5956\"},{\"id\":\"5957\"}]},\"id\":\"5959\",\"type\":\"Toolbar\"},{\"attributes\":{},\"id\":\"5749\",\"type\":\"Selection\"},{\"attributes\":{\"children\":[{\"id\":\"5927\"},{\"id\":\"5929\"}],\"margin\":[0,0,0,0],\"name\":\"Column07846\"},\"id\":\"5926\",\"type\":\"Column\"},{\"attributes\":{\"line_alpha\":0.2,\"line_color\":\"#30a2da\",\"line_width\":2,\"x\":{\"field\":\"year\"},\"y\":{\"field\":\"housing_units\"}},\"id\":\"5753\",\"type\":\"Line\"},{\"attributes\":{\"data\":{\"housing_units\":[372560,374507,376454,378401,380348,382295,384242],\"year\":[2010,2011,2012,2013,2014,2015,2016]},\"selected\":{\"id\":\"5749\"},\"selection_policy\":{\"id\":\"5772\"}},\"id\":\"5748\",\"type\":\"ColumnDataSource\"},{\"attributes\":{\"axis_label\":\"neighborhood\",\"formatter\":{\"id\":\"5983\"},\"major_label_policy\":{\"id\":\"5982\"},\"ticker\":{\"id\":\"5947\"}},\"id\":\"5946\",\"type\":\"CategoricalAxis\"},{\"attributes\":{\"bottom_units\":\"screen\",\"fill_alpha\":0.5,\"fill_color\":\"lightgrey\",\"left_units\":\"screen\",\"level\":\"overlay\",\"line_alpha\":1.0,\"line_color\":\"black\",\"line_dash\":[4,4],\"line_width\":2,\"right_units\":\"screen\",\"syncable\":false,\"top_units\":\"screen\"},\"id\":\"5808\",\"type\":\"BoxAnnotation\"},{\"attributes\":{\"css_classes\":[\"markdown\"],\"margin\":[5,5,5,5],\"name\":\"Markdown07873\",\"text\":\"&lt;h2&gt;Most Expensive Sanfrancisco Neighborhoods&lt;/h2&gt;\"},\"id\":\"5932\",\"type\":\"panel.models.markup.HTML\"},{\"attributes\":{},\"id\":\"5728\",\"type\":\"BasicTicker\"},{\"attributes\":{\"data\":{\"color\":[\"South Beach\",\"Glen Park\",\"Miraloma Park\",\"Cow Hollow\",\"Union Square District\",\"Golden Gate Heights\",\"Presidio Heights\",\"Sunnyside\",\"Telegraph Hill\",\"Pacific Heights\",\"Potrero Hill\",\"Mission Bay\",\"Diamond Heights\",\"Parnassus/Ashbury Heights\",\"Outer Parkside\",\"Jordan Park/Laurel Heights\",\"Central Sunset\",\"Eureka Valley/Dolores Heights\",\"Financial District North\",\"South of Market\",\"Lone Mountain\",\"West Portal\",\"Marina\",\"Noe Valley\",\"Lower Pacific Heights\",\"Corona Heights\",\"Outer Sunset\",\"Excelsior\",\"Russian Hill\",\"Buena Vista Park\",\"Outer Richmond \",\"Yerba Buena\",\"Twin Peaks\",\"Park North\",\"Lake --The Presidio\",\"Central Richmond\",\"Nob Hill\",\"Portola\",\"Alamo Square\",\"Inner Richmond\",\"Oceanview\",\"Inner Sunset\",\"Ingleside \",\"Parkside\",\"Hayes Valley\",\"Anza Vista\",\"Mission Terrace\",\"Mission Dolores\",\"Haight Ashbury\",\"Downtown \",\"Inner Mission\",\"Western Addition\",\"Forest Knolls\",\"Inner Parkside\",\"Hunters Point\",\"Bayview\",\"Croker Amazon\",\"Financial District South\",\"Van Ness/ Civic Center\"],\"neighborhood\":[\"South Beach\",\"Glen Park\",\"Miraloma Park\",\"Cow Hollow\",\"Union Square District\",\"Golden Gate Heights\",\"Presidio Heights\",\"Sunnyside\",\"Telegraph Hill\",\"Pacific Heights\",\"Potrero Hill\",\"Mission Bay\",\"Diamond Heights\",\"Parnassus/Ashbury Heights\",\"Outer Parkside\",\"Jordan Park/Laurel Heights\",\"Central Sunset\",\"Eureka Valley/Dolores Heights\",\"Financial District North\",\"South of Market\",\"Lone Mountain\",\"West Portal\",\"Marina\",\"Noe Valley\",\"Lower Pacific Heights\",\"Corona Heights\",\"Outer Sunset\",\"Excelsior\",\"Russian Hill\",\"Buena Vista Park\",\"Outer Richmond \",\"Yerba Buena\",\"Twin Peaks\",\"Park North\",\"Lake --The Presidio\",\"Central Richmond\",\"Nob Hill\",\"Portola\",\"Alamo Square\",\"Inner Richmond\",\"Oceanview\",\"Inner Sunset\",\"Ingleside \",\"Parkside\",\"Hayes Valley\",\"Anza Vista\",\"Mission Terrace\",\"Mission Dolores\",\"Haight Ashbury\",\"Downtown \",\"Inner Mission\",\"Western Addition\",\"Forest Knolls\",\"Inner Parkside\",\"Hunters Point\",\"Bayview\",\"Croker Amazon\",\"Financial District South\",\"Van Ness/ Civic Center\"],\"sale_price_sqr_foot\":{\"__ndarray__\":\"l7v/LmY0kEBoH3UGsVyGQJ7+Ya3eRIVALMKfLArLgUDghzcujMmBQF1Y/LBoPoFA1qRW7FcrgUB/pHziQPSAQAjqSxtZZoBAxNYMmEEIf0CHfz43M7d+QGCfz9PinH5ACCbRpeSOfECDiAR/FCR7QJ1Cn+ofA3tAuuY5ejQ+ekAG/baHwiJ6QE7pzZvkMXlA7AP43P8beUA29tdRvBR5QMM9Wo5X53hAX0cX7s+EeEBTHwwSSTZ4QBkuQhI30ndA76u8E+xgd0Ch/zTZvxV3QL7B/R38BHdArTyLdtrOdkCp6DxTkqV2QPE3ApdRtnVAB35J6gQidUDaEQJEB9J0QFjhNlzluHRAPTKCP0ZgdEDZUjclwAx0QP6gWCRx8HNAnsfa8dY6c0BITY1wf+JyQA5HO1jtMnJArudfYSjdcUCMmJ0r6qFxQHRb9c9QPHFAa4srL+gwcUCM2zn5qiJxQI8su0aPBHFAG/PQ2+u+cEDlSnYzBG5wQI8dqNfOH3BAQH/hMinPb0DpzvjjvjluQEkB/10zy21AgK0qWTbyakC1WnMVlCFqQNfGotB29mhABT/1V/9TZUA89ENEKENlQOHxGNKptGRA0ENLWkdaZED39D/L0wBbQA==\",\"dtype\":\"float64\",\"order\":\"little\",\"shape\":[59]}},\"selected\":{\"id\":\"5968\"},\"selection_policy\":{\"id\":\"5986\"}},\"id\":\"5967\",\"type\":\"ColumnDataSource\"},{\"attributes\":{\"below\":[{\"id\":\"5946\"}],\"center\":[{\"id\":\"5948\"},{\"id\":\"5952\"},{\"id\":\"5987\"}],\"height\":400,\"left\":[{\"id\":\"5949\"}],\"margin\":[5,5,5,5],\"min_border_bottom\":10,\"min_border_left\":10,\"min_border_right\":10,\"min_border_top\":10,\"renderers\":[{\"id\":\"5975\"}],\"right\":[{\"id\":\"5987\"}],\"sizing_mode\":\"fixed\",\"title\":{\"id\":\"5938\"},\"toolbar\":{\"id\":\"5959\"},\"width\":1000,\"x_range\":{\"id\":\"5934\"},\"x_scale\":{\"id\":\"5942\"},\"y_range\":{\"id\":\"5784\"},\"y_scale\":{\"id\":\"5944\"}},\"id\":\"5937\",\"subtype\":\"Figure\",\"type\":\"Plot\"},{\"attributes\":{},\"id\":\"5829\",\"type\":\"AllLabels\"},{\"attributes\":{\"fill_color\":{\"field\":\"color\",\"transform\":{\"id\":\"5966\"}},\"top\":{\"field\":\"sale_price_sqr_foot\"},\"width\":{\"value\":0.8},\"x\":{\"field\":\"neighborhood\"}},\"id\":\"5973\",\"type\":\"VBar\"},{\"attributes\":{\"bottom_units\":\"screen\",\"fill_alpha\":0.5,\"fill_color\":\"lightgrey\",\"left_units\":\"screen\",\"level\":\"overlay\",\"line_alpha\":1.0,\"line_color\":\"black\",\"line_dash\":[4,4],\"line_width\":2,\"right_units\":\"screen\",\"syncable\":false,\"top_units\":\"screen\"},\"id\":\"5958\",\"type\":\"BoxAnnotation\"},{\"attributes\":{\"child\":{\"id\":\"5931\"},\"name\":\"Column07891\",\"title\":\"Most Expensive Neighborhoods\"},\"id\":\"6027\",\"type\":\"Panel\"},{\"attributes\":{},\"id\":\"5942\",\"type\":\"CategoricalScale\"},{\"attributes\":{\"children\":[{\"id\":\"5937\"},{\"id\":\"6021\"}],\"margin\":[0,0,0,0],\"name\":\"Row07876\"},\"id\":\"5933\",\"type\":\"Row\"},{\"attributes\":{},\"id\":\"5944\",\"type\":\"LinearScale\"},{\"attributes\":{\"bottom_units\":\"screen\",\"fill_alpha\":0.5,\"fill_color\":\"lightgrey\",\"left_units\":\"screen\",\"level\":\"overlay\",\"line_alpha\":1.0,\"line_color\":\"black\",\"line_dash\":[4,4],\"line_width\":2,\"right_units\":\"screen\",\"syncable\":false,\"top_units\":\"screen\"},\"id\":\"5740\",\"type\":\"BoxAnnotation\"},{\"attributes\":{\"axis_label\":\"year\",\"formatter\":{\"id\":\"5759\"},\"major_label_policy\":{\"id\":\"5758\"},\"ticker\":{\"id\":\"5728\"}},\"id\":\"5727\",\"type\":\"LinearAxis\"},{\"attributes\":{},\"id\":\"5725\",\"type\":\"LinearScale\"},{\"attributes\":{\"source\":{\"id\":\"5816\"}},\"id\":\"5823\",\"type\":\"CDSView\"},{\"attributes\":{\"line_color\":\"#30a2da\",\"line_width\":2,\"x\":{\"field\":\"year\"},\"y\":{\"field\":\"sale_price_sqr_foot\"}},\"id\":\"5824\",\"type\":\"Line\"},{\"attributes\":{\"data\":{\"sale_price_sqr_foot\":{\"__ndarray__\":\"tQKjeIIVd0Do7CdydF51QGdijk899nhAaBKk2Jo5fkDGKCTbN2KBQPETFqRSxINAUB33UCbNhUA=\",\"dtype\":\"float64\",\"order\":\"little\",\"shape\":[7]},\"year\":[2010,2011,2012,2013,2014,2015,2016]},\"selected\":{\"id\":\"5817\"},\"selection_policy\":{\"id\":\"5840\"}},\"id\":\"5816\",\"type\":\"ColumnDataSource\"},{\"attributes\":{},\"id\":\"5886\",\"type\":\"Selection\"},{\"attributes\":{},\"id\":\"5830\",\"type\":\"BasicTickFormatter\"},{\"attributes\":{\"axis\":{\"id\":\"5949\"},\"dimension\":1,\"grid_line_color\":null,\"ticker\":null},\"id\":\"5952\",\"type\":\"Grid\"},{\"attributes\":{},\"id\":\"5827\",\"type\":\"BasicTickFormatter\"},{\"attributes\":{},\"id\":\"5826\",\"type\":\"AllLabels\"},{\"attributes\":{},\"id\":\"5772\",\"type\":\"UnionRenderers\"},{\"attributes\":{\"text\":\"year: 2010\",\"text_color\":\"black\",\"text_font_size\":\"12pt\"},\"id\":\"5938\",\"type\":\"Title\"},{\"attributes\":{\"callback\":null,\"renderers\":[{\"id\":\"5754\"}],\"tags\":[\"hv_created\"],\"tooltips\":[[\"year\",\"@{year}\"],[\"housing_units\",\"@{housing_units}\"]]},\"id\":\"5717\",\"type\":\"HoverTool\"},{\"attributes\":{\"line_color\":\"#30a2da\",\"line_width\":2,\"x\":{\"field\":\"year\"},\"y\":{\"field\":\"sale_price_sqr_foot\"}},\"id\":\"5888\",\"type\":\"Line\"},{\"attributes\":{},\"id\":\"5947\",\"type\":\"CategoricalTicker\"},{\"attributes\":{\"data_source\":{\"id\":\"5967\"},\"glyph\":{\"id\":\"5970\"},\"hover_glyph\":{\"id\":\"5973\"},\"muted_glyph\":{\"id\":\"5974\"},\"nonselection_glyph\":{\"id\":\"5971\"},\"selection_glyph\":{\"id\":\"5972\"},\"view\":{\"id\":\"5976\"}},\"id\":\"5975\",\"type\":\"GlyphRenderer\"},{\"attributes\":{\"below\":[{\"id\":\"5864\"}],\"center\":[{\"id\":\"5867\"},{\"id\":\"5871\"}],\"height\":300,\"left\":[{\"id\":\"5868\"}],\"margin\":[5,5,5,5],\"min_border_bottom\":10,\"min_border_left\":10,\"min_border_right\":10,\"min_border_top\":10,\"renderers\":[{\"id\":\"5891\"}],\"sizing_mode\":\"fixed\",\"title\":{\"id\":\"5856\"},\"toolbar\":{\"id\":\"5878\"},\"width\":700,\"x_range\":{\"id\":\"5715\"},\"x_scale\":{\"id\":\"5860\"},\"y_range\":{\"id\":\"5784\"},\"y_scale\":{\"id\":\"5862\"}},\"id\":\"5855\",\"subtype\":\"Figure\",\"type\":\"Plot\"},{\"attributes\":{\"axis\":{\"id\":\"5946\"},\"grid_line_color\":null,\"ticker\":null},\"id\":\"5948\",\"type\":\"Grid\"},{\"attributes\":{\"children\":[{\"id\":\"6022\"},{\"id\":\"6026\"}],\"margin\":[0,0,0,0],\"name\":\"Column07890\"},\"id\":\"6021\",\"type\":\"Column\"},{\"attributes\":{},\"id\":\"5950\",\"type\":\"BasicTicker\"},{\"attributes\":{\"fill_color\":{\"field\":\"color\",\"transform\":{\"id\":\"5966\"}},\"top\":{\"field\":\"sale_price_sqr_foot\"},\"width\":{\"value\":0.8},\"x\":{\"field\":\"neighborhood\"}},\"id\":\"5972\",\"type\":\"VBar\"},{\"attributes\":{},\"id\":\"5762\",\"type\":\"BasicTickFormatter\"},{\"attributes\":{\"axis_label\":\"sale_price_sqr_foot\",\"formatter\":{\"id\":\"5980\"},\"major_label_policy\":{\"id\":\"5979\"},\"ticker\":{\"id\":\"5950\"}},\"id\":\"5949\",\"type\":\"LinearAxis\"},{\"attributes\":{\"data\":{\"sale_price_sqr_foot\":{\"__ndarray__\":\"Dkc7WO0yckCafszcbwhxQIGRs5ot42ZAJzog0LQ8eEAWMinKGEd+QI0V5FDt0IJAVCHcmLVPdUA=\",\"dtype\":\"float64\",\"order\":\"little\",\"shape\":[7]},\"year\":[2010,2011,2012,2013,2014,2015,2016]},\"selected\":{\"id\":\"5886\"},\"selection_policy\":{\"id\":\"5915\"}},\"id\":\"5885\",\"type\":\"ColumnDataSource\"},{\"attributes\":{},\"id\":\"5761\",\"type\":\"AllLabels\"},{\"attributes\":{\"children\":[{\"id\":\"5932\"},{\"id\":\"5933\"}],\"margin\":[0,0,0,0],\"name\":\"Column07891\"},\"id\":\"5931\",\"type\":\"Column\"},{\"attributes\":{\"fill_alpha\":{\"value\":0.1},\"fill_color\":{\"field\":\"color\",\"transform\":{\"id\":\"5966\"}},\"line_alpha\":{\"value\":0.1},\"top\":{\"field\":\"sale_price_sqr_foot\"},\"width\":{\"value\":0.8},\"x\":{\"field\":\"neighborhood\"}},\"id\":\"5971\",\"type\":\"VBar\"},{\"attributes\":{\"children\":[{\"id\":\"5855\"},{\"id\":\"5926\"}],\"margin\":[0,0,0,0],\"name\":\"Row07839\"},\"id\":\"5851\",\"type\":\"Row\"},{\"attributes\":{\"data_source\":{\"id\":\"5885\"},\"glyph\":{\"id\":\"5888\"},\"hover_glyph\":null,\"muted_glyph\":{\"id\":\"5890\"},\"nonselection_glyph\":{\"id\":\"5889\"},\"selection_glyph\":{\"id\":\"5893\"},\"view\":{\"id\":\"5892\"}},\"id\":\"5891\",\"type\":\"GlyphRenderer\"},{\"attributes\":{\"text\":\"neighborhood: Alamo Square\",\"text_color\":\"black\",\"text_font_size\":\"12pt\"},\"id\":\"5856\",\"type\":\"Title\"},{\"attributes\":{},\"id\":\"5862\",\"type\":\"LinearScale\"},{\"attributes\":{},\"id\":\"5860\",\"type\":\"LinearScale\"},{\"attributes\":{\"client_comm_id\":\"3a6eef5b81be4ebdb8be21d5be2e49a2\",\"comm_id\":\"fca40e66f94d43d1b87f364d038ac707\",\"plot_id\":\"5710\"},\"id\":\"6356\",\"type\":\"panel.models.comm_manager.CommManager\"},{\"attributes\":{\"axis_label\":\"year\",\"formatter\":{\"id\":\"5896\"},\"major_label_policy\":{\"id\":\"5895\"},\"ticker\":{\"id\":\"5865\"}},\"id\":\"5864\",\"type\":\"LinearAxis\"},{\"attributes\":{},\"id\":\"5953\",\"type\":\"SaveTool\"},{\"attributes\":{\"data\":{\"x\":[[2010,2011,2012,2013,2014,2015,2016]],\"y\":[[372560,374507,376454,378401,380348,382295,384242]]},\"selected\":{\"id\":\"6030\"},\"selection_policy\":{\"id\":\"6031\"}},\"id\":\"5713\",\"type\":\"ColumnDataSource\"},{\"attributes\":{},\"id\":\"5954\",\"type\":\"PanTool\"},{\"attributes\":{},\"id\":\"5955\",\"type\":\"WheelZoomTool\"},{\"attributes\":{\"axis\":{\"id\":\"5868\"},\"dimension\":1,\"grid_line_color\":null,\"ticker\":null},\"id\":\"5871\",\"type\":\"Grid\"},{\"attributes\":{},\"id\":\"5865\",\"type\":\"BasicTicker\"},{\"attributes\":{\"overlay\":{\"id\":\"5958\"}},\"id\":\"5956\",\"type\":\"BoxZoomTool\"},{\"attributes\":{\"data\":[{\"alignmentgroup\":\"True\",\"hovertemplate\":\"year=%{x}<br>housing_units=%{y}<extra></extra>\",\"legendgroup\":\"\",\"marker\":{\"color\":\"#636efa\",\"pattern\":{\"shape\":\"\"}},\"name\":\"\",\"offsetgroup\":\"\",\"orientation\":\"v\",\"showlegend\":false,\"textposition\":\"auto\",\"type\":\"bar\",\"xaxis\":\"x\",\"yaxis\":\"y\"}],\"data_sources\":[{\"id\":\"5713\"}],\"layout\":{\"barmode\":\"relative\",\"legend\":{\"tracegroupgap\":0},\"template\":{\"data\":{\"bar\":[{\"error_x\":{\"color\":\"#2a3f5f\"},\"error_y\":{\"color\":\"#2a3f5f\"},\"marker\":{\"line\":{\"color\":\"#E5ECF6\",\"width\":0.5},\"pattern\":{\"fillmode\":\"overlay\",\"size\":10,\"solidity\":0.2}},\"type\":\"bar\"}],\"barpolar\":[{\"marker\":{\"line\":{\"color\":\"#E5ECF6\",\"width\":0.5},\"pattern\":{\"fillmode\":\"overlay\",\"size\":10,\"solidity\":0.2}},\"type\":\"barpolar\"}],\"carpet\":[{\"aaxis\":{\"endlinecolor\":\"#2a3f5f\",\"gridcolor\":\"white\",\"linecolor\":\"white\",\"minorgridcolor\":\"white\",\"startlinecolor\":\"#2a3f5f\"},\"baxis\":{\"endlinecolor\":\"#2a3f5f\",\"gridcolor\":\"white\",\"linecolor\":\"white\",\"minorgridcolor\":\"white\",\"startlinecolor\":\"#2a3f5f\"},\"type\":\"carpet\"}],\"choropleth\":[{\"colorbar\":{\"outlinewidth\":0,\"ticks\":\"\"},\"type\":\"choropleth\"}],\"contour\":[{\"colorbar\":{\"outlinewidth\":0,\"ticks\":\"\"},\"colorscale\":[[0.0,\"#0d0887\"],[0.1111111111111111,\"#46039f\"],[0.2222222222222222,\"#7201a8\"],[0.3333333333333333,\"#9c179e\"],[0.4444444444444444,\"#bd3786\"],[0.5555555555555556,\"#d8576b\"],[0.6666666666666666,\"#ed7953\"],[0.7777777777777778,\"#fb9f3a\"],[0.8888888888888888,\"#fdca26\"],[1.0,\"#f0f921\"]],\"type\":\"contour\"}],\"contourcarpet\":[{\"colorbar\":{\"outlinewidth\":0,\"ticks\":\"\"},\"type\":\"contourcarpet\"}],\"heatmap\":[{\"colorbar\":{\"outlinewidth\":0,\"ticks\":\"\"},\"colorscale\":[[0.0,\"#0d0887\"],[0.1111111111111111,\"#46039f\"],[0.2222222222222222,\"#7201a8\"],[0.3333333333333333,\"#9c179e\"],[0.4444444444444444,\"#bd3786\"],[0.5555555555555556,\"#d8576b\"],[0.6666666666666666,\"#ed7953\"],[0.7777777777777778,\"#fb9f3a\"],[0.8888888888888888,\"#fdca26\"],[1.0,\"#f0f921\"]],\"type\":\"heatmap\"}],\"heatmapgl\":[{\"colorbar\":{\"outlinewidth\":0,\"ticks\":\"\"},\"colorscale\":[[0.0,\"#0d0887\"],[0.1111111111111111,\"#46039f\"],[0.2222222222222222,\"#7201a8\"],[0.3333333333333333,\"#9c179e\"],[0.4444444444444444,\"#bd3786\"],[0.5555555555555556,\"#d8576b\"],[0.6666666666666666,\"#ed7953\"],[0.7777777777777778,\"#fb9f3a\"],[0.8888888888888888,\"#fdca26\"],[1.0,\"#f0f921\"]],\"type\":\"heatmapgl\"}],\"histogram\":[{\"marker\":{\"pattern\":{\"fillmode\":\"overlay\",\"size\":10,\"solidity\":0.2}},\"type\":\"histogram\"}],\"histogram2d\":[{\"colorbar\":{\"outlinewidth\":0,\"ticks\":\"\"},\"colorscale\":[[0.0,\"#0d0887\"],[0.1111111111111111,\"#46039f\"],[0.2222222222222222,\"#7201a8\"],[0.3333333333333333,\"#9c179e\"],[0.4444444444444444,\"#bd3786\"],[0.5555555555555556,\"#d8576b\"],[0.6666666666666666,\"#ed7953\"],[0.7777777777777778,\"#fb9f3a\"],[0.8888888888888888,\"#fdca26\"],[1.0,\"#f0f921\"]],\"type\":\"histogram2d\"}],\"histogram2dcontour\":[{\"colorbar\":{\"outlinewidth\":0,\"ticks\":\"\"},\"colorscale\":[[0.0,\"#0d0887\"],[0.1111111111111111,\"#46039f\"],[0.2222222222222222,\"#7201a8\"],[0.3333333333333333,\"#9c179e\"],[0.4444444444444444,\"#bd3786\"],[0.5555555555555556,\"#d8576b\"],[0.6666666666666666,\"#ed7953\"],[0.7777777777777778,\"#fb9f3a\"],[0.8888888888888888,\"#fdca26\"],[1.0,\"#f0f921\"]],\"type\":\"histogram2dcontour\"}],\"mesh3d\":[{\"colorbar\":{\"outlinewidth\":0,\"ticks\":\"\"},\"type\":\"mesh3d\"}],\"parcoords\":[{\"line\":{\"colorbar\":{\"outlinewidth\":0,\"ticks\":\"\"}},\"type\":\"parcoords\"}],\"pie\":[{\"automargin\":true,\"type\":\"pie\"}],\"scatter\":[{\"marker\":{\"colorbar\":{\"outlinewidth\":0,\"ticks\":\"\"}},\"type\":\"scatter\"}],\"scatter3d\":[{\"line\":{\"colorbar\":{\"outlinewidth\":0,\"ticks\":\"\"}},\"marker\":{\"colorbar\":{\"outlinewidth\":0,\"ticks\":\"\"}},\"type\":\"scatter3d\"}],\"scattercarpet\":[{\"marker\":{\"colorbar\":{\"outlinewidth\":0,\"ticks\":\"\"}},\"type\":\"scattercarpet\"}],\"scattergeo\":[{\"marker\":{\"colorbar\":{\"outlinewidth\":0,\"ticks\":\"\"}},\"type\":\"scattergeo\"}],\"scattergl\":[{\"marker\":{\"colorbar\":{\"outlinewidth\":0,\"ticks\":\"\"}},\"type\":\"scattergl\"}],\"scattermapbox\":[{\"marker\":{\"colorbar\":{\"outlinewidth\":0,\"ticks\":\"\"}},\"type\":\"scattermapbox\"}],\"scatterpolar\":[{\"marker\":{\"colorbar\":{\"outlinewidth\":0,\"ticks\":\"\"}},\"type\":\"scatterpolar\"}],\"scatterpolargl\":[{\"marker\":{\"colorbar\":{\"outlinewidth\":0,\"ticks\":\"\"}},\"type\":\"scatterpolargl\"}],\"scatterternary\":[{\"marker\":{\"colorbar\":{\"outlinewidth\":0,\"ticks\":\"\"}},\"type\":\"scatterternary\"}],\"surface\":[{\"colorbar\":{\"outlinewidth\":0,\"ticks\":\"\"},\"colorscale\":[[0.0,\"#0d0887\"],[0.1111111111111111,\"#46039f\"],[0.2222222222222222,\"#7201a8\"],[0.3333333333333333,\"#9c179e\"],[0.4444444444444444,\"#bd3786\"],[0.5555555555555556,\"#d8576b\"],[0.6666666666666666,\"#ed7953\"],[0.7777777777777778,\"#fb9f3a\"],[0.8888888888888888,\"#fdca26\"],[1.0,\"#f0f921\"]],\"type\":\"surface\"}],\"table\":[{\"cells\":{\"fill\":{\"color\":\"#EBF0F8\"},\"line\":{\"color\":\"white\"}},\"header\":{\"fill\":{\"color\":\"#C8D4E3\"},\"line\":{\"color\":\"white\"}},\"type\":\"table\"}]},\"layout\":{\"annotationdefaults\":{\"arrowcolor\":\"#2a3f5f\",\"arrowhead\":0,\"arrowwidth\":1},\"autotypenumbers\":\"strict\",\"coloraxis\":{\"colorbar\":{\"outlinewidth\":0,\"ticks\":\"\"}},\"colorscale\":{\"diverging\":[[0,\"#8e0152\"],[0.1,\"#c51b7d\"],[0.2,\"#de77ae\"],[0.3,\"#f1b6da\"],[0.4,\"#fde0ef\"],[0.5,\"#f7f7f7\"],[0.6,\"#e6f5d0\"],[0.7,\"#b8e186\"],[0.8,\"#7fbc41\"],[0.9,\"#4d9221\"],[1,\"#276419\"]],\"sequential\":[[0.0,\"#0d0887\"],[0.1111111111111111,\"#46039f\"],[0.2222222222222222,\"#7201a8\"],[0.3333333333333333,\"#9c179e\"],[0.4444444444444444,\"#bd3786\"],[0.5555555555555556,\"#d8576b\"],[0.6666666666666666,\"#ed7953\"],[0.7777777777777778,\"#fb9f3a\"],[0.8888888888888888,\"#fdca26\"],[1.0,\"#f0f921\"]],\"sequentialminus\":[[0.0,\"#0d0887\"],[0.1111111111111111,\"#46039f\"],[0.2222222222222222,\"#7201a8\"],[0.3333333333333333,\"#9c179e\"],[0.4444444444444444,\"#bd3786\"],[0.5555555555555556,\"#d8576b\"],[0.6666666666666666,\"#ed7953\"],[0.7777777777777778,\"#fb9f3a\"],[0.8888888888888888,\"#fdca26\"],[1.0,\"#f0f921\"]]},\"colorway\":[\"#636efa\",\"#EF553B\",\"#00cc96\",\"#ab63fa\",\"#FFA15A\",\"#19d3f3\",\"#FF6692\",\"#B6E880\",\"#FF97FF\",\"#FECB52\"],\"font\":{\"color\":\"#2a3f5f\"},\"geo\":{\"bgcolor\":\"white\",\"lakecolor\":\"white\",\"landcolor\":\"#E5ECF6\",\"showlakes\":true,\"showland\":true,\"subunitcolor\":\"white\"},\"hoverlabel\":{\"align\":\"left\"},\"hovermode\":\"closest\",\"mapbox\":{\"style\":\"light\"},\"paper_bgcolor\":\"white\",\"plot_bgcolor\":\"#E5ECF6\",\"polar\":{\"angularaxis\":{\"gridcolor\":\"white\",\"linecolor\":\"white\",\"ticks\":\"\"},\"bgcolor\":\"#E5ECF6\",\"radialaxis\":{\"gridcolor\":\"white\",\"linecolor\":\"white\",\"ticks\":\"\"}},\"scene\":{\"xaxis\":{\"backgroundcolor\":\"#E5ECF6\",\"gridcolor\":\"white\",\"gridwidth\":2,\"linecolor\":\"white\",\"showbackground\":true,\"ticks\":\"\",\"zerolinecolor\":\"white\"},\"yaxis\":{\"backgroundcolor\":\"#E5ECF6\",\"gridcolor\":\"white\",\"gridwidth\":2,\"linecolor\":\"white\",\"showbackground\":true,\"ticks\":\"\",\"zerolinecolor\":\"white\"},\"zaxis\":{\"backgroundcolor\":\"#E5ECF6\",\"gridcolor\":\"white\",\"gridwidth\":2,\"linecolor\":\"white\",\"showbackground\":true,\"ticks\":\"\",\"zerolinecolor\":\"white\"}},\"shapedefaults\":{\"line\":{\"color\":\"#2a3f5f\"}},\"ternary\":{\"aaxis\":{\"gridcolor\":\"white\",\"linecolor\":\"white\",\"ticks\":\"\"},\"baxis\":{\"gridcolor\":\"white\",\"linecolor\":\"white\",\"ticks\":\"\"},\"bgcolor\":\"#E5ECF6\",\"caxis\":{\"gridcolor\":\"white\",\"linecolor\":\"white\",\"ticks\":\"\"}},\"title\":{\"x\":0.05},\"xaxis\":{\"automargin\":true,\"gridcolor\":\"white\",\"linecolor\":\"white\",\"ticks\":\"\",\"title\":{\"standoff\":15},\"zerolinecolor\":\"white\",\"zerolinewidth\":2},\"yaxis\":{\"automargin\":true,\"gridcolor\":\"white\",\"linecolor\":\"white\",\"ticks\":\"\",\"title\":{\"standoff\":15},\"zerolinecolor\":\"white\",\"zerolinewidth\":2}}},\"title\":{\"text\":\"Housing Units Per Year\"},\"width\":1000,\"xaxis\":{\"anchor\":\"y\",\"domain\":[0.0,1.0],\"title\":{\"text\":\"year\"}},\"yaxis\":{\"anchor\":\"x\",\"domain\":[0.0,1.0],\"title\":{\"text\":\"housing_units\"}}},\"margin\":[5,5,5,5],\"name\":\"Plotly07826\",\"viewport_update_throttle\":200},\"id\":\"5714\",\"type\":\"panel.models.plotly.PlotlyPlot\"},{\"attributes\":{\"axis\":{\"id\":\"5864\"},\"grid_line_color\":null,\"ticker\":null},\"id\":\"5867\",\"type\":\"Grid\"},{\"attributes\":{},\"id\":\"5869\",\"type\":\"BasicTicker\"},{\"attributes\":{\"axis_label\":\"sale_price_sqr_foot\",\"formatter\":{\"id\":\"5899\"},\"major_label_policy\":{\"id\":\"5898\"},\"ticker\":{\"id\":\"5869\"}},\"id\":\"5868\",\"type\":\"LinearAxis\"},{\"attributes\":{\"factors\":[\"South Beach\",\"Glen Park\",\"Miraloma Park\",\"Cow Hollow\",\"Union Square District\",\"Golden Gate Heights\",\"Presidio Heights\",\"Sunnyside\",\"Telegraph Hill\",\"Pacific Heights\",\"Potrero Hill\",\"Mission Bay\",\"Diamond Heights\",\"Parnassus/Ashbury Heights\",\"Outer Parkside\",\"Jordan Park/Laurel Heights\",\"Central Sunset\",\"Eureka Valley/Dolores Heights\",\"Financial District North\",\"South of Market\",\"Lone Mountain\",\"West Portal\",\"Marina\",\"Noe Valley\",\"Lower Pacific Heights\",\"Corona Heights\",\"Outer Sunset\",\"Excelsior\",\"Russian Hill\",\"Buena Vista Park\",\"Outer Richmond \",\"Yerba Buena\",\"Twin Peaks\",\"Park North\",\"Lake --The Presidio\",\"Central Richmond\",\"Nob Hill\",\"Portola\",\"Alamo Square\",\"Inner Richmond\",\"Oceanview\",\"Inner Sunset\",\"Ingleside \",\"Parkside\",\"Hayes Valley\",\"Anza Vista\",\"Mission Terrace\",\"Mission Dolores\",\"Haight Ashbury\",\"Downtown \",\"Inner Mission\",\"Western Addition\",\"Forest Knolls\",\"Inner Parkside\",\"Hunters Point\",\"Bayview\",\"Croker Amazon\",\"Financial District South\",\"Van Ness/ Civic Center\"],\"tags\":[[[\"neighborhood\",\"neighborhood\",null]]]},\"id\":\"5934\",\"type\":\"FactorRange\"},{\"attributes\":{},\"id\":\"5957\",\"type\":\"ResetTool\"},{\"attributes\":{\"callback\":null,\"renderers\":[{\"id\":\"5891\"}],\"tags\":[\"hv_created\"],\"tooltips\":[[\"year\",\"@{year}\"],[\"sale_price_sqr_foot\",\"@{sale_price_sqr_foot}\"]]},\"id\":\"5854\",\"type\":\"HoverTool\"},{\"attributes\":{\"line_alpha\":0.1,\"line_color\":\"#30a2da\",\"line_width\":2,\"x\":{\"field\":\"year\"},\"y\":{\"field\":\"sale_price_sqr_foot\"}},\"id\":\"5889\",\"type\":\"Line\"},{\"attributes\":{\"line_alpha\":0.2,\"line_color\":\"#30a2da\",\"line_width\":2,\"x\":{\"field\":\"year\"},\"y\":{\"field\":\"sale_price_sqr_foot\"}},\"id\":\"5890\",\"type\":\"Line\"},{\"attributes\":{\"active_multi\":null,\"tools\":[{\"id\":\"5854\"},{\"id\":\"5872\"},{\"id\":\"5873\"},{\"id\":\"5874\"},{\"id\":\"5875\"},{\"id\":\"5876\"}]},\"id\":\"5878\",\"type\":\"Toolbar\"},{\"attributes\":{},\"id\":\"5872\",\"type\":\"SaveTool\"},{\"attributes\":{},\"id\":\"5758\",\"type\":\"AllLabels\"},{\"attributes\":{\"margin\":[5,5,5,5],\"name\":\"VSpacer07845\",\"sizing_mode\":\"stretch_height\"},\"id\":\"5929\",\"type\":\"Spacer\"},{\"attributes\":{},\"id\":\"5873\",\"type\":\"PanTool\"},{\"attributes\":{},\"id\":\"5874\",\"type\":\"WheelZoomTool\"},{\"attributes\":{\"below\":[{\"id\":\"5795\"}],\"center\":[{\"id\":\"5798\"},{\"id\":\"5802\"}],\"height\":300,\"left\":[{\"id\":\"5799\"}],\"margin\":[5,5,5,5],\"min_border_bottom\":10,\"min_border_left\":10,\"min_border_right\":10,\"min_border_top\":10,\"renderers\":[{\"id\":\"5822\"}],\"sizing_mode\":\"fixed\",\"title\":{\"id\":\"5787\"},\"toolbar\":{\"id\":\"5809\"},\"width\":700,\"x_range\":{\"id\":\"5715\"},\"x_scale\":{\"id\":\"5791\"},\"y_range\":{\"id\":\"5784\"},\"y_scale\":{\"id\":\"5793\"}},\"id\":\"5786\",\"subtype\":\"Figure\",\"type\":\"Plot\"},{\"attributes\":{\"overlay\":{\"id\":\"5877\"}},\"id\":\"5875\",\"type\":\"BoxZoomTool\"},{\"attributes\":{},\"id\":\"6031\",\"type\":\"UnionRenderers\"},{\"attributes\":{},\"id\":\"5876\",\"type\":\"ResetTool\"},{\"attributes\":{},\"id\":\"5791\",\"type\":\"LinearScale\"},{\"attributes\":{},\"id\":\"6030\",\"type\":\"Selection\"},{\"attributes\":{},\"id\":\"5915\",\"type\":\"UnionRenderers\"},{\"attributes\":{\"child\":{\"id\":\"5711\"},\"name\":\"Column07847\",\"title\":\"Price Data\"},\"id\":\"5930\",\"type\":\"Panel\"},{\"attributes\":{\"end\":1130.008474840318,\"reset_end\":733.2177371101802,\"reset_start\":306.3294011864627,\"start\":0.0,\"tags\":[[[\"sale_price_sqr_foot\",\"sale_price_sqr_foot\",null]]]},\"id\":\"5784\",\"type\":\"Range1d\"},{\"attributes\":{},\"id\":\"5793\",\"type\":\"LinearScale\"},{\"attributes\":{},\"id\":\"5840\",\"type\":\"UnionRenderers\"},{\"attributes\":{\"args\":{\"model\":{\"id\":\"5714\"}},\"code\":\"model.visible = (cb_obj.active == 0);\",\"tags\":[\"plotly_tab_fix5714\"]},\"id\":\"6271\",\"type\":\"CustomJS\"},{\"attributes\":{},\"id\":\"5817\",\"type\":\"Selection\"},{\"attributes\":{\"axis_label\":\"year\",\"formatter\":{\"id\":\"5827\"},\"major_label_policy\":{\"id\":\"5826\"},\"ticker\":{\"id\":\"5796\"}},\"id\":\"5795\",\"type\":\"LinearAxis\"},{\"attributes\":{\"margin\":[5,5,5,5],\"name\":\"VSpacer07889\",\"sizing_mode\":\"stretch_height\"},\"id\":\"6026\",\"type\":\"Spacer\"},{\"attributes\":{\"end\":2016.0,\"reset_end\":2016.0,\"reset_start\":2010.0,\"start\":2010.0,\"tags\":[[[\"year\",\"year\",null]]]},\"id\":\"5715\",\"type\":\"Range1d\"},{\"attributes\":{},\"id\":\"5968\",\"type\":\"Selection\"},{\"attributes\":{\"args\":{\"bidirectional\":false,\"properties\":{},\"source\":{\"id\":\"6025\"},\"target\":{\"id\":\"6024\"}},\"code\":\"try { \\n    var labels = ['year: <b>2010</b>', 'year: <b>2011</b>', 'year: <b>2012</b>', 'year: <b>2013</b>', 'year: <b>2014</b>', 'year: <b>2015</b>', 'year: <b>2016</b>']\\n    target.text = labels[source.value]\\n     } catch(err) { console.log(err) }\",\"tags\":[140667862361232]},\"id\":\"6070\",\"type\":\"CustomJS\"},{\"attributes\":{\"bottom_units\":\"screen\",\"fill_alpha\":0.5,\"fill_color\":\"lightgrey\",\"left_units\":\"screen\",\"level\":\"overlay\",\"line_alpha\":1.0,\"line_color\":\"black\",\"line_dash\":[4,4],\"line_width\":2,\"right_units\":\"screen\",\"syncable\":false,\"top_units\":\"screen\"},\"id\":\"5877\",\"type\":\"BoxAnnotation\"},{\"attributes\":{\"line_color\":\"#30a2da\",\"line_width\":2,\"x\":{\"field\":\"year\"},\"y\":{\"field\":\"sale_price_sqr_foot\"}},\"id\":\"5819\",\"type\":\"Line\"},{\"attributes\":{\"callback\":null,\"renderers\":[{\"id\":\"5822\"}],\"tags\":[\"hv_created\"],\"tooltips\":[[\"year\",\"@{year}\"],[\"sale_price_sqr_foot\",\"@{sale_price_sqr_foot}\"]]},\"id\":\"5785\",\"type\":\"HoverTool\"},{\"attributes\":{},\"id\":\"5895\",\"type\":\"AllLabels\"},{\"attributes\":{\"line_alpha\":0.1,\"line_color\":\"#30a2da\",\"line_width\":2,\"x\":{\"field\":\"year\"},\"y\":{\"field\":\"housing_units\"}},\"id\":\"5752\",\"type\":\"Line\"},{\"attributes\":{\"axis_label\":\"sale_price_sqr_foot\",\"formatter\":{\"id\":\"5830\"},\"major_label_policy\":{\"id\":\"5829\"},\"ticker\":{\"id\":\"5800\"}},\"id\":\"5799\",\"type\":\"LinearAxis\"},{\"attributes\":{},\"id\":\"5759\",\"type\":\"BasicTickFormatter\"},{\"attributes\":{\"margin\":[20,20,20,20],\"min_width\":250,\"options\":[\"Alamo Square\",\"Anza Vista\",\"Bayview\",\"Buena Vista Park\",\"Central Richmond\",\"Central Sunset\",\"Corona Heights\",\"Cow Hollow\",\"Croker Amazon\",\"Diamond Heights\",\"Downtown \",\"Eureka Valley/Dolores Heights\",\"Excelsior\",\"Financial District North\",\"Financial District South\",\"Forest Knolls\",\"Glen Park\",\"Golden Gate Heights\",\"Haight Ashbury\",\"Hayes Valley\",\"Hunters Point\",\"Ingleside \",\"Inner Mission\",\"Inner Parkside\",\"Inner Richmond\",\"Inner Sunset\",\"Jordan Park/Laurel Heights\",\"Lake --The Presidio\",\"Lone Mountain\",\"Lower Pacific Heights\",\"Marina\",\"Miraloma Park\",\"Mission Bay\",\"Mission Dolores\",\"Mission Terrace\",\"Nob Hill\",\"Noe Valley\",\"Oceanview\",\"Outer Parkside\",\"Outer Richmond \",\"Outer Sunset\",\"Pacific Heights\",\"Park North\",\"Parkside\",\"Parnassus/Ashbury Heights\",\"Portola\",\"Potrero Hill\",\"Presidio Heights\",\"Russian Hill\",\"South Beach\",\"South of Market\",\"Sunnyside\",\"Telegraph Hill\",\"Twin Peaks\",\"Union Square District\",\"Van Ness/ Civic Center\",\"West Portal\",\"Western Addition\",\"Yerba Buena\",\"Bernal Heights \",\"Clarendon Heights\",\"Duboce Triangle\",\"Ingleside Heights\",\"North Beach\",\"North Waterfront\",\"Outer Mission\",\"Westwood Highlands\",\"Merced Heights\",\"Midtown Terrace\",\"Visitacion Valley\",\"Silver Terrace\",\"Westwood Park\",\"Bayview Heights\"],\"title\":\"neighborhood\",\"value\":\"Alamo Square\",\"width\":250},\"id\":\"5928\",\"type\":\"Select\"},{\"attributes\":{\"js_property_callbacks\":{\"change:active\":[{\"id\":\"6271\"}]},\"margin\":[0,0,0,0],\"tabs\":[{\"id\":\"5930\"},{\"id\":\"6027\"}]},\"id\":\"5710\",\"type\":\"Tabs\"},{\"attributes\":{\"text\":\"Sale Price Per Sq Ft\",\"text_color\":\"black\",\"text_font_size\":\"12pt\"},\"id\":\"5787\",\"type\":\"Title\"},{\"attributes\":{},\"id\":\"5796\",\"type\":\"BasicTicker\"},{\"attributes\":{\"axis\":{\"id\":\"5795\"},\"grid_line_color\":null,\"ticker\":null},\"id\":\"5798\",\"type\":\"Grid\"}],\"root_ids\":[\"5710\",\"6356\"]},\"title\":\"Bokeh Application\",\"version\":\"2.3.2\"}};\n",
       "    var render_items = [{\"docid\":\"49eb8e50-8508-4c84-88ea-7682c2ff2e28\",\"root_ids\":[\"5710\"],\"roots\":{\"5710\":\"640ccde3-cc70-4b4d-9e8f-4db273e86c88\"}}];\n",
       "    root.Bokeh.embed.embed_items_notebook(docs_json, render_items);\n",
       "  }\n",
       "  if (root.Bokeh !== undefined && root.Bokeh.Panel !== undefined && ( root['Plotly'] !== undefined)) {\n",
       "    embed_document(root);\n",
       "  } else {\n",
       "    var attempts = 0;\n",
       "    var timer = setInterval(function(root) {\n",
       "      if (root.Bokeh !== undefined && root.Bokeh.Panel !== undefined && (root['Plotly'] !== undefined)) {\n",
       "        clearInterval(timer);\n",
       "        embed_document(root);\n",
       "      } else if (document.readyState == \"complete\") {\n",
       "        attempts++;\n",
       "        if (attempts > 200) {\n",
       "          clearInterval(timer);\n",
       "          console.log(\"Bokeh: ERROR: Unable to run BokehJS code because BokehJS library is missing\");\n",
       "        }\n",
       "      }\n",
       "    }, 25, root)\n",
       "  }\n",
       "})(window);</script>"
      ],
      "text/plain": [
       "Tabs\n",
       "    [0] Column\n",
       "        [0] Markdown(str)\n",
       "        [1] Plotly(Figure)\n",
       "        [2] HoloViews(Curve)\n",
       "        [3] HoloViews(Curve)\n",
       "        [4] Row\n",
       "            [0] HoloViews(DynamicMap)\n",
       "            [1] Column\n",
       "                [0] WidgetBox\n",
       "                    [0] Select(margin=(20, 20, 20, 20), name='neighborhood', options=['Alamo Square', ...], value='Alamo Square', width=250)\n",
       "                [1] VSpacer()\n",
       "    [1] Column\n",
       "        [0] Markdown(str)\n",
       "        [1] Row\n",
       "            [0] HoloViews(DynamicMap)\n",
       "            [1] Column\n",
       "                [0] WidgetBox\n",
       "                    [0] DiscreteSlider(formatter='%d', margin=(20, 20, 20, 20), name='year', options=OrderedDict([('2010', ...]), value=2010, width=250)\n",
       "                [1] VSpacer()"
      ]
     },
     "execution_count": 201,
     "metadata": {
      "application/vnd.holoviews_exec.v0+json": {
       "id": "5710"
      }
     },
     "output_type": "execute_result"
    }
   ],
   "source": [
    "# Create a Title for the Dashboard\n",
    "# YOUR CODE HERE!\n",
    "\n",
    "\n",
    "panel_column = pn.Column(\"## San Francisco Real Estate Analysis From 2010 to 2016\", housing_units_per_year(), \n",
    "                    average_gross_rent(), \n",
    "                    avg_sale_price(), \n",
    "                    average_price_by_neighborhood())\n",
    "scatter_column = pn.Column(\n",
    "    \"## Most Expensive Sanfrancisco Neighborhoods\", top_most_expensive_neighborhoods(),\n",
    ")\n",
    "\n",
    "\n",
    "# Create a tab layout for the dashboard\n",
    "# YOUR CODE HERE!\n",
    "\n",
    "tabs = pn.Tabs(\n",
    "    (\"Price Data\", panel_column),\n",
    "    (\"Most Expensive Neighborhoods\", scatter_column))\n",
    "    \n",
    "tabs\n",
    "\n",
    "# Create the dashboard\n",
    "# YOUR CODE HERE!"
   ]
  },
  {
   "cell_type": "markdown",
   "metadata": {},
   "source": [
    "## Serve the Panel Dashboard"
   ]
  },
  {
   "cell_type": "code",
   "execution_count": 198,
   "metadata": {
    "jupyter": {
     "source_hidden": true
    }
   },
   "outputs": [
    {
     "data": {},
     "metadata": {},
     "output_type": "display_data"
    },
    {
     "data": {},
     "metadata": {},
     "output_type": "display_data"
    },
    {
     "data": {
      "application/vnd.holoviews_exec.v0+json": "",
      "text/html": [
       "<div id='3132'>\n",
       "\n",
       "\n",
       "\n",
       "\n",
       "\n",
       "  <div class=\"bk-root\" id=\"88e22651-ee4b-492b-b0bd-b2961692084c\" data-root-id=\"3132\"></div>\n",
       "</div>\n",
       "<script type=\"application/javascript\">(function(root) {\n",
       "  function embed_document(root) {\n",
       "    var docs_json = {\"d1849ced-0b3c-4eb3-b9e8-05176bc45ad5\":{\"defs\":[{\"extends\":null,\"module\":null,\"name\":\"ReactiveHTML1\",\"overrides\":[],\"properties\":[]},{\"extends\":null,\"module\":null,\"name\":\"FlexBox1\",\"overrides\":[],\"properties\":[{\"default\":\"flex-start\",\"kind\":null,\"name\":\"align_content\"},{\"default\":\"flex-start\",\"kind\":null,\"name\":\"align_items\"},{\"default\":\"row\",\"kind\":null,\"name\":\"flex_direction\"},{\"default\":\"wrap\",\"kind\":null,\"name\":\"flex_wrap\"},{\"default\":\"flex-start\",\"kind\":null,\"name\":\"justify_content\"}]},{\"extends\":null,\"module\":null,\"name\":\"TemplateActions1\",\"overrides\":[],\"properties\":[{\"default\":0,\"kind\":null,\"name\":\"open_modal\"},{\"default\":0,\"kind\":null,\"name\":\"close_modal\"}]},{\"extends\":null,\"module\":null,\"name\":\"MaterialTemplateActions1\",\"overrides\":[],\"properties\":[{\"default\":0,\"kind\":null,\"name\":\"open_modal\"},{\"default\":0,\"kind\":null,\"name\":\"close_modal\"}]}],\"roots\":{\"references\":[{\"attributes\":{},\"id\":\"3295\",\"type\":\"PanTool\"},{\"attributes\":{},\"id\":\"3183\",\"type\":\"AllLabels\"},{\"attributes\":{},\"id\":\"3194\",\"type\":\"UnionRenderers\"},{\"attributes\":{\"end\":2016.0,\"reset_end\":2016.0,\"reset_start\":2010.0,\"start\":2010.0,\"tags\":[[[\"year\",\"year\",null]]]},\"id\":\"3137\",\"type\":\"Range1d\"},{\"attributes\":{},\"id\":\"3337\",\"type\":\"UnionRenderers\"},{\"attributes\":{\"axis\":{\"id\":\"3153\"},\"dimension\":1,\"grid_line_color\":null,\"ticker\":null},\"id\":\"3156\",\"type\":\"Grid\"},{\"attributes\":{\"below\":[{\"id\":\"3217\"}],\"center\":[{\"id\":\"3220\"},{\"id\":\"3224\"}],\"height\":300,\"left\":[{\"id\":\"3221\"}],\"margin\":[5,5,5,5],\"min_border_bottom\":10,\"min_border_left\":10,\"min_border_right\":10,\"min_border_top\":10,\"renderers\":[{\"id\":\"3244\"}],\"sizing_mode\":\"fixed\",\"title\":{\"id\":\"3209\"},\"toolbar\":{\"id\":\"3231\"},\"width\":700,\"x_range\":{\"id\":\"3137\"},\"x_scale\":{\"id\":\"3213\"},\"y_range\":{\"id\":\"3206\"},\"y_scale\":{\"id\":\"3215\"}},\"id\":\"3208\",\"subtype\":\"Figure\",\"type\":\"Plot\"},{\"attributes\":{\"overlay\":{\"id\":\"3162\"}},\"id\":\"3160\",\"type\":\"BoxZoomTool\"},{\"attributes\":{},\"id\":\"3252\",\"type\":\"BasicTickFormatter\"},{\"attributes\":{\"source\":{\"id\":\"3307\"}},\"id\":\"3314\",\"type\":\"CDSView\"},{\"attributes\":{},\"id\":\"3320\",\"type\":\"AllLabels\"},{\"attributes\":{\"line_alpha\":0.2,\"line_color\":\"#30a2da\",\"line_width\":2,\"x\":{\"field\":\"year\"},\"y\":{\"field\":\"sale_price_sqr_foot\"}},\"id\":\"3312\",\"type\":\"Line\"},{\"attributes\":{\"js_property_callbacks\":{\"change:active\":[{\"id\":\"3693\"}]},\"margin\":[0,0,0,0],\"tabs\":[{\"id\":\"3352\"},{\"id\":\"3449\"}]},\"id\":\"3132\",\"type\":\"Tabs\"},{\"attributes\":{},\"id\":\"3294\",\"type\":\"SaveTool\"},{\"attributes\":{\"children\":[{\"id\":\"3134\"},{\"id\":\"3136\"},{\"id\":\"3140\"},{\"id\":\"3208\"},{\"id\":\"3273\"}],\"margin\":[0,0,0,0],\"name\":\"Column04894\"},\"id\":\"3133\",\"type\":\"Column\"},{\"attributes\":{},\"id\":\"3159\",\"type\":\"WheelZoomTool\"},{\"attributes\":{\"axis_label\":\"sale_price_sqr_foot\",\"formatter\":{\"id\":\"3321\"},\"major_label_policy\":{\"id\":\"3320\"},\"ticker\":{\"id\":\"3291\"}},\"id\":\"3290\",\"type\":\"LinearAxis\"},{\"attributes\":{\"margin\":[5,5,5,5],\"name\":\"VSpacer04936\",\"sizing_mode\":\"stretch_height\"},\"id\":\"3448\",\"type\":\"Spacer\"},{\"attributes\":{\"child\":{\"id\":\"3353\"},\"name\":\"Column04938\",\"title\":\"Prices\"},\"id\":\"3449\",\"type\":\"Panel\"},{\"attributes\":{},\"id\":\"3157\",\"type\":\"SaveTool\"},{\"attributes\":{\"text\":\"neighborhood: Alamo Square\",\"text_color\":\"black\",\"text_font_size\":\"12pt\"},\"id\":\"3278\",\"type\":\"Title\"},{\"attributes\":{},\"id\":\"3158\",\"type\":\"PanTool\"},{\"attributes\":{\"active_multi\":null,\"tools\":[{\"id\":\"3276\"},{\"id\":\"3294\"},{\"id\":\"3295\"},{\"id\":\"3296\"},{\"id\":\"3297\"},{\"id\":\"3298\"}]},\"id\":\"3300\",\"type\":\"Toolbar\"},{\"attributes\":{\"bottom_units\":\"screen\",\"fill_alpha\":0.5,\"fill_color\":\"lightgrey\",\"left_units\":\"screen\",\"level\":\"overlay\",\"line_alpha\":1.0,\"line_color\":\"black\",\"line_dash\":[4,4],\"line_width\":2,\"right_units\":\"screen\",\"syncable\":false,\"top_units\":\"screen\"},\"id\":\"3299\",\"type\":\"BoxAnnotation\"},{\"attributes\":{\"axis\":{\"id\":\"3217\"},\"grid_line_color\":null,\"ticker\":null},\"id\":\"3220\",\"type\":\"Grid\"},{\"attributes\":{\"margin\":[20,20,20,20],\"min_width\":250,\"options\":[\"Alamo Square\",\"Anza Vista\",\"Bayview\",\"Buena Vista Park\",\"Central Richmond\",\"Central Sunset\",\"Corona Heights\",\"Cow Hollow\",\"Croker Amazon\",\"Diamond Heights\",\"Downtown \",\"Eureka Valley/Dolores Heights\",\"Excelsior\",\"Financial District North\",\"Financial District South\",\"Forest Knolls\",\"Glen Park\",\"Golden Gate Heights\",\"Haight Ashbury\",\"Hayes Valley\",\"Hunters Point\",\"Ingleside \",\"Inner Mission\",\"Inner Parkside\",\"Inner Richmond\",\"Inner Sunset\",\"Jordan Park/Laurel Heights\",\"Lake --The Presidio\",\"Lone Mountain\",\"Lower Pacific Heights\",\"Marina\",\"Miraloma Park\",\"Mission Bay\",\"Mission Dolores\",\"Mission Terrace\",\"Nob Hill\",\"Noe Valley\",\"Oceanview\",\"Outer Parkside\",\"Outer Richmond \",\"Outer Sunset\",\"Pacific Heights\",\"Park North\",\"Parkside\",\"Parnassus/Ashbury Heights\",\"Portola\",\"Potrero Hill\",\"Presidio Heights\",\"Russian Hill\",\"South Beach\",\"South of Market\",\"Sunnyside\",\"Telegraph Hill\",\"Twin Peaks\",\"Union Square District\",\"Van Ness/ Civic Center\",\"West Portal\",\"Western Addition\",\"Yerba Buena\",\"Bernal Heights \",\"Clarendon Heights\",\"Duboce Triangle\",\"Ingleside Heights\",\"North Beach\",\"North Waterfront\",\"Outer Mission\",\"Westwood Highlands\",\"Merced Heights\",\"Midtown Terrace\",\"Visitacion Valley\",\"Silver Terrace\",\"Westwood Park\",\"Bayview Heights\"],\"title\":\"neighborhood\",\"value\":\"Alamo Square\",\"width\":250},\"id\":\"3350\",\"type\":\"Select\"},{\"attributes\":{\"active_multi\":null,\"tools\":[{\"id\":\"3139\"},{\"id\":\"3157\"},{\"id\":\"3158\"},{\"id\":\"3159\"},{\"id\":\"3160\"},{\"id\":\"3161\"}]},\"id\":\"3163\",\"type\":\"Toolbar\"},{\"attributes\":{},\"id\":\"3298\",\"type\":\"ResetTool\"},{\"attributes\":{\"source\":{\"id\":\"3170\"}},\"id\":\"3177\",\"type\":\"CDSView\"},{\"attributes\":{\"axis_label\":\"year\",\"formatter\":{\"id\":\"3318\"},\"major_label_policy\":{\"id\":\"3317\"},\"ticker\":{\"id\":\"3287\"}},\"id\":\"3286\",\"type\":\"LinearAxis\"},{\"attributes\":{\"data_source\":{\"id\":\"3307\"},\"glyph\":{\"id\":\"3310\"},\"hover_glyph\":null,\"muted_glyph\":{\"id\":\"3312\"},\"nonselection_glyph\":{\"id\":\"3311\"},\"selection_glyph\":{\"id\":\"3315\"},\"view\":{\"id\":\"3314\"}},\"id\":\"3313\",\"type\":\"GlyphRenderer\"},{\"attributes\":{\"factors\":[\"South Beach\",\"Glen Park\",\"Miraloma Park\",\"Cow Hollow\",\"Union Square District\",\"Golden Gate Heights\",\"Presidio Heights\",\"Sunnyside\",\"Telegraph Hill\",\"Pacific Heights\",\"Potrero Hill\",\"Mission Bay\",\"Diamond Heights\",\"Parnassus/Ashbury Heights\",\"Outer Parkside\",\"Jordan Park/Laurel Heights\",\"Central Sunset\",\"Eureka Valley/Dolores Heights\",\"Financial District North\",\"South of Market\",\"Lone Mountain\",\"West Portal\",\"Marina\",\"Noe Valley\",\"Lower Pacific Heights\",\"Corona Heights\",\"Outer Sunset\",\"Excelsior\",\"Russian Hill\",\"Buena Vista Park\",\"Outer Richmond \",\"Yerba Buena\",\"Twin Peaks\",\"Park North\",\"Lake --The Presidio\",\"Central Richmond\",\"Nob Hill\",\"Portola\",\"Alamo Square\",\"Inner Richmond\",\"Oceanview\",\"Inner Sunset\",\"Ingleside \",\"Parkside\",\"Hayes Valley\",\"Anza Vista\",\"Mission Terrace\",\"Mission Dolores\",\"Haight Ashbury\",\"Downtown \",\"Inner Mission\",\"Western Addition\",\"Forest Knolls\",\"Inner Parkside\",\"Hunters Point\",\"Bayview\",\"Croker Amazon\",\"Financial District South\",\"Van Ness/ Civic Center\"],\"tags\":[[[\"neighborhood\",\"neighborhood\",null]]]},\"id\":\"3356\",\"type\":\"FactorRange\"},{\"attributes\":{\"line_alpha\":0.1,\"line_color\":\"#30a2da\",\"line_width\":2,\"x\":{\"field\":\"year\"},\"y\":{\"field\":\"sale_price_sqr_foot\"}},\"id\":\"3311\",\"type\":\"Line\"},{\"attributes\":{\"axis_label\":\"year\",\"formatter\":{\"id\":\"3249\"},\"major_label_policy\":{\"id\":\"3248\"},\"ticker\":{\"id\":\"3218\"}},\"id\":\"3217\",\"type\":\"LinearAxis\"},{\"attributes\":{\"axis\":{\"id\":\"3286\"},\"grid_line_color\":null,\"ticker\":null},\"id\":\"3289\",\"type\":\"Grid\"},{\"attributes\":{},\"id\":\"3161\",\"type\":\"ResetTool\"},{\"attributes\":{},\"id\":\"3287\",\"type\":\"BasicTicker\"},{\"attributes\":{},\"id\":\"3284\",\"type\":\"LinearScale\"},{\"attributes\":{},\"id\":\"3282\",\"type\":\"LinearScale\"},{\"attributes\":{\"bottom_units\":\"screen\",\"fill_alpha\":0.5,\"fill_color\":\"lightgrey\",\"left_units\":\"screen\",\"level\":\"overlay\",\"line_alpha\":1.0,\"line_color\":\"black\",\"line_dash\":[4,4],\"line_width\":2,\"right_units\":\"screen\",\"syncable\":false,\"top_units\":\"screen\"},\"id\":\"3230\",\"type\":\"BoxAnnotation\"},{\"attributes\":{\"children\":[{\"id\":\"3354\"},{\"id\":\"3355\"}],\"margin\":[0,0,0,0],\"name\":\"Column04938\"},\"id\":\"3353\",\"type\":\"Column\"},{\"attributes\":{\"end\":1130.008474840318,\"reset_end\":733.2177371101802,\"reset_start\":306.3294011864627,\"start\":0.0,\"tags\":[[[\"sale_price_sqr_foot\",\"sale_price_sqr_foot\",null]]]},\"id\":\"3206\",\"type\":\"Range1d\"},{\"attributes\":{},\"id\":\"3318\",\"type\":\"BasicTickFormatter\"},{\"attributes\":{},\"id\":\"3308\",\"type\":\"Selection\"},{\"attributes\":{\"axis\":{\"id\":\"3290\"},\"dimension\":1,\"grid_line_color\":null,\"ticker\":null},\"id\":\"3293\",\"type\":\"Grid\"},{\"attributes\":{\"css_classes\":[\"markdown\"],\"margin\":[5,5,5,5],\"name\":\"Markdown04920\",\"text\":\"&lt;h2&gt;Most Exspensive Sanfrancisco Neighborhoods&lt;/h2&gt;\"},\"id\":\"3354\",\"type\":\"panel.models.markup.HTML\"},{\"attributes\":{},\"id\":\"3218\",\"type\":\"BasicTicker\"},{\"attributes\":{\"margin\":[5,5,5,5],\"name\":\"VSpacer04892\",\"sizing_mode\":\"stretch_height\"},\"id\":\"3351\",\"type\":\"Spacer\"},{\"attributes\":{\"text\":\"Sale Price Per Sq Ft\",\"text_color\":\"black\",\"text_font_size\":\"12pt\"},\"id\":\"3209\",\"type\":\"Title\"},{\"attributes\":{\"data\":{\"color\":[\"South Beach\",\"Glen Park\",\"Miraloma Park\",\"Cow Hollow\",\"Union Square District\",\"Golden Gate Heights\",\"Presidio Heights\",\"Sunnyside\",\"Telegraph Hill\",\"Pacific Heights\",\"Potrero Hill\",\"Mission Bay\",\"Diamond Heights\",\"Parnassus/Ashbury Heights\",\"Outer Parkside\",\"Jordan Park/Laurel Heights\",\"Central Sunset\",\"Eureka Valley/Dolores Heights\",\"Financial District North\",\"South of Market\",\"Lone Mountain\",\"West Portal\",\"Marina\",\"Noe Valley\",\"Lower Pacific Heights\",\"Corona Heights\",\"Outer Sunset\",\"Excelsior\",\"Russian Hill\",\"Buena Vista Park\",\"Outer Richmond \",\"Yerba Buena\",\"Twin Peaks\",\"Park North\",\"Lake --The Presidio\",\"Central Richmond\",\"Nob Hill\",\"Portola\",\"Alamo Square\",\"Inner Richmond\",\"Oceanview\",\"Inner Sunset\",\"Ingleside \",\"Parkside\",\"Hayes Valley\",\"Anza Vista\",\"Mission Terrace\",\"Mission Dolores\",\"Haight Ashbury\",\"Downtown \",\"Inner Mission\",\"Western Addition\",\"Forest Knolls\",\"Inner Parkside\",\"Hunters Point\",\"Bayview\",\"Croker Amazon\",\"Financial District South\",\"Van Ness/ Civic Center\"],\"neighborhood\":[\"South Beach\",\"Glen Park\",\"Miraloma Park\",\"Cow Hollow\",\"Union Square District\",\"Golden Gate Heights\",\"Presidio Heights\",\"Sunnyside\",\"Telegraph Hill\",\"Pacific Heights\",\"Potrero Hill\",\"Mission Bay\",\"Diamond Heights\",\"Parnassus/Ashbury Heights\",\"Outer Parkside\",\"Jordan Park/Laurel Heights\",\"Central Sunset\",\"Eureka Valley/Dolores Heights\",\"Financial District North\",\"South of Market\",\"Lone Mountain\",\"West Portal\",\"Marina\",\"Noe Valley\",\"Lower Pacific Heights\",\"Corona Heights\",\"Outer Sunset\",\"Excelsior\",\"Russian Hill\",\"Buena Vista Park\",\"Outer Richmond \",\"Yerba Buena\",\"Twin Peaks\",\"Park North\",\"Lake --The Presidio\",\"Central Richmond\",\"Nob Hill\",\"Portola\",\"Alamo Square\",\"Inner Richmond\",\"Oceanview\",\"Inner Sunset\",\"Ingleside \",\"Parkside\",\"Hayes Valley\",\"Anza Vista\",\"Mission Terrace\",\"Mission Dolores\",\"Haight Ashbury\",\"Downtown \",\"Inner Mission\",\"Western Addition\",\"Forest Knolls\",\"Inner Parkside\",\"Hunters Point\",\"Bayview\",\"Croker Amazon\",\"Financial District South\",\"Van Ness/ Civic Center\"],\"sale_price_sqr_foot\":{\"__ndarray__\":\"l7v/LmY0kEBoH3UGsVyGQJ7+Ya3eRIVALMKfLArLgUDghzcujMmBQF1Y/LBoPoFA1qRW7FcrgUB/pHziQPSAQAjqSxtZZoBAxNYMmEEIf0CHfz43M7d+QGCfz9PinH5ACCbRpeSOfECDiAR/FCR7QJ1Cn+ofA3tAuuY5ejQ+ekAG/baHwiJ6QE7pzZvkMXlA7AP43P8beUA29tdRvBR5QMM9Wo5X53hAX0cX7s+EeEBTHwwSSTZ4QBkuQhI30ndA76u8E+xgd0Ch/zTZvxV3QL7B/R38BHdArTyLdtrOdkCp6DxTkqV2QPE3ApdRtnVAB35J6gQidUDaEQJEB9J0QFjhNlzluHRAPTKCP0ZgdEDZUjclwAx0QP6gWCRx8HNAnsfa8dY6c0BITY1wf+JyQA5HO1jtMnJArudfYSjdcUCMmJ0r6qFxQHRb9c9QPHFAa4srL+gwcUCM2zn5qiJxQI8su0aPBHFAG/PQ2+u+cEDlSnYzBG5wQI8dqNfOH3BAQH/hMinPb0DpzvjjvjluQEkB/10zy21AgK0qWTbyakC1WnMVlCFqQNfGotB29mhABT/1V/9TZUA89ENEKENlQOHxGNKptGRA0ENLWkdaZED39D/L0wBbQA==\",\"dtype\":\"float64\",\"order\":\"little\",\"shape\":[59]}},\"selected\":{\"id\":\"3390\"},\"selection_policy\":{\"id\":\"3408\"}},\"id\":\"3389\",\"type\":\"ColumnDataSource\"},{\"attributes\":{},\"id\":\"3291\",\"type\":\"BasicTicker\"},{\"attributes\":{\"axis_label\":\"sale_price_sqr_foot\",\"formatter\":{\"id\":\"3252\"},\"major_label_policy\":{\"id\":\"3251\"},\"ticker\":{\"id\":\"3222\"}},\"id\":\"3221\",\"type\":\"LinearAxis\"},{\"attributes\":{\"below\":[{\"id\":\"3286\"}],\"center\":[{\"id\":\"3289\"},{\"id\":\"3293\"}],\"height\":300,\"left\":[{\"id\":\"3290\"}],\"margin\":[5,5,5,5],\"min_border_bottom\":10,\"min_border_left\":10,\"min_border_right\":10,\"min_border_top\":10,\"renderers\":[{\"id\":\"3313\"}],\"sizing_mode\":\"fixed\",\"title\":{\"id\":\"3278\"},\"toolbar\":{\"id\":\"3300\"},\"width\":700,\"x_range\":{\"id\":\"3137\"},\"x_scale\":{\"id\":\"3282\"},\"y_range\":{\"id\":\"3206\"},\"y_scale\":{\"id\":\"3284\"}},\"id\":\"3277\",\"subtype\":\"Figure\",\"type\":\"Plot\"},{\"attributes\":{\"bottom_units\":\"screen\",\"fill_alpha\":0.5,\"fill_color\":\"lightgrey\",\"left_units\":\"screen\",\"level\":\"overlay\",\"line_alpha\":1.0,\"line_color\":\"black\",\"line_dash\":[4,4],\"line_width\":2,\"right_units\":\"screen\",\"syncable\":false,\"top_units\":\"screen\"},\"id\":\"3380\",\"type\":\"BoxAnnotation\"},{\"attributes\":{\"line_color\":\"#30a2da\",\"line_width\":2,\"x\":{\"field\":\"year\"},\"y\":{\"field\":\"sale_price_sqr_foot\"}},\"id\":\"3315\",\"type\":\"Line\"},{\"attributes\":{\"children\":[{\"id\":\"3359\"},{\"id\":\"3443\"}],\"margin\":[0,0,0,0],\"name\":\"Row04923\"},\"id\":\"3355\",\"type\":\"Row\"},{\"attributes\":{\"callback\":null,\"renderers\":[{\"id\":\"3244\"}],\"tags\":[\"hv_created\"],\"tooltips\":[[\"year\",\"@{year}\"],[\"sale_price_sqr_foot\",\"@{sale_price_sqr_foot}\"]]},\"id\":\"3207\",\"type\":\"HoverTool\"},{\"attributes\":{\"css_classes\":[\"markdown\"],\"margin\":[5,5,5,5],\"name\":\"Markdown04871\",\"text\":\"&lt;h2&gt;Sanfrancisco Neighborhoods&lt;/h2&gt;\"},\"id\":\"3134\",\"type\":\"panel.models.markup.HTML\"},{\"attributes\":{},\"id\":\"3317\",\"type\":\"AllLabels\"},{\"attributes\":{\"line_color\":\"#30a2da\",\"line_width\":2,\"x\":{\"field\":\"year\"},\"y\":{\"field\":\"sale_price_sqr_foot\"}},\"id\":\"3246\",\"type\":\"Line\"},{\"attributes\":{\"overlay\":{\"id\":\"3299\"}},\"id\":\"3297\",\"type\":\"BoxZoomTool\"},{\"attributes\":{\"data_source\":{\"id\":\"3170\"},\"glyph\":{\"id\":\"3173\"},\"hover_glyph\":null,\"muted_glyph\":{\"id\":\"3175\"},\"nonselection_glyph\":{\"id\":\"3174\"},\"selection_glyph\":{\"id\":\"3178\"},\"view\":{\"id\":\"3177\"}},\"id\":\"3176\",\"type\":\"GlyphRenderer\"},{\"attributes\":{},\"id\":\"3215\",\"type\":\"LinearScale\"},{\"attributes\":{},\"id\":\"3184\",\"type\":\"BasicTickFormatter\"},{\"attributes\":{},\"id\":\"3262\",\"type\":\"UnionRenderers\"},{\"attributes\":{},\"id\":\"3213\",\"type\":\"LinearScale\"},{\"attributes\":{\"bottom_units\":\"screen\",\"fill_alpha\":0.5,\"fill_color\":\"lightgrey\",\"left_units\":\"screen\",\"level\":\"overlay\",\"line_alpha\":1.0,\"line_color\":\"black\",\"line_dash\":[4,4],\"line_width\":2,\"right_units\":\"screen\",\"syncable\":false,\"top_units\":\"screen\"},\"id\":\"3162\",\"type\":\"BoxAnnotation\"},{\"attributes\":{\"line_color\":\"#30a2da\",\"line_width\":2,\"x\":{\"field\":\"year\"},\"y\":{\"field\":\"sale_price_sqr_foot\"}},\"id\":\"3241\",\"type\":\"Line\"},{\"attributes\":{\"data\":{\"x\":[[2010,2011,2012,2013,2014,2015,2016]],\"y\":[[372560,374507,376454,378401,380348,382295,384242]]},\"selected\":{\"id\":\"3452\"},\"selection_policy\":{\"id\":\"3453\"}},\"id\":\"3135\",\"type\":\"ColumnDataSource\"},{\"attributes\":{\"data\":{\"housing_units\":[372560,374507,376454,378401,380348,382295,384242],\"year\":[2010,2011,2012,2013,2014,2015,2016]},\"selected\":{\"id\":\"3171\"},\"selection_policy\":{\"id\":\"3194\"}},\"id\":\"3170\",\"type\":\"ColumnDataSource\"},{\"attributes\":{},\"id\":\"3321\",\"type\":\"BasicTickFormatter\"},{\"attributes\":{},\"id\":\"3181\",\"type\":\"BasicTickFormatter\"},{\"attributes\":{\"line_color\":\"#30a2da\",\"line_width\":2,\"x\":{\"field\":\"year\"},\"y\":{\"field\":\"housing_units\"}},\"id\":\"3178\",\"type\":\"Line\"},{\"attributes\":{},\"id\":\"3180\",\"type\":\"AllLabels\"},{\"attributes\":{\"line_alpha\":0.1,\"line_color\":\"#30a2da\",\"line_width\":2,\"x\":{\"field\":\"year\"},\"y\":{\"field\":\"sale_price_sqr_foot\"}},\"id\":\"3242\",\"type\":\"Line\"},{\"attributes\":{},\"id\":\"3239\",\"type\":\"Selection\"},{\"attributes\":{\"children\":[{\"id\":\"3445\"}],\"css_classes\":[\"panel-widget-box\"],\"margin\":[5,5,5,5],\"name\":\"WidgetBox04924\"},\"id\":\"3444\",\"type\":\"Column\"},{\"attributes\":{\"axis\":{\"id\":\"3221\"},\"dimension\":1,\"grid_line_color\":null,\"ticker\":null},\"id\":\"3224\",\"type\":\"Grid\"},{\"attributes\":{\"label\":{\"field\":\"color\"},\"renderers\":[{\"id\":\"3397\"}]},\"id\":\"3410\",\"type\":\"LegendItem\"},{\"attributes\":{\"end\":6,\"js_property_callbacks\":{\"change:value\":[{\"id\":\"3492\"}]},\"margin\":[0,20,20,20],\"min_width\":250,\"show_value\":false,\"start\":0,\"tooltips\":false,\"value\":0,\"width\":250},\"id\":\"3447\",\"type\":\"Slider\"},{\"attributes\":{\"callback\":null,\"renderers\":[{\"id\":\"3176\"}],\"tags\":[\"hv_created\"],\"tooltips\":[[\"year\",\"@{year}\"],[\"housing_units\",\"@{housing_units}\"]]},\"id\":\"3139\",\"type\":\"HoverTool\"},{\"attributes\":{\"active_multi\":null,\"tools\":[{\"id\":\"3358\"},{\"id\":\"3375\"},{\"id\":\"3376\"},{\"id\":\"3377\"},{\"id\":\"3378\"},{\"id\":\"3379\"}]},\"id\":\"3381\",\"type\":\"Toolbar\"},{\"attributes\":{\"children\":[{\"id\":\"3444\"},{\"id\":\"3448\"}],\"margin\":[0,0,0,0],\"name\":\"Column04937\"},\"id\":\"3443\",\"type\":\"Column\"},{\"attributes\":{},\"id\":\"3222\",\"type\":\"BasicTicker\"},{\"attributes\":{},\"id\":\"3375\",\"type\":\"SaveTool\"},{\"attributes\":{\"active_multi\":null,\"tools\":[{\"id\":\"3207\"},{\"id\":\"3225\"},{\"id\":\"3226\"},{\"id\":\"3227\"},{\"id\":\"3228\"},{\"id\":\"3229\"}]},\"id\":\"3231\",\"type\":\"Toolbar\"},{\"attributes\":{\"factors\":[\"South Beach\",\"Glen Park\",\"Miraloma Park\",\"Cow Hollow\",\"Union Square District\",\"Golden Gate Heights\",\"Presidio Heights\",\"Sunnyside\",\"Telegraph Hill\",\"Pacific Heights\",\"Potrero Hill\",\"Mission Bay\",\"Diamond Heights\",\"Parnassus/Ashbury Heights\",\"Outer Parkside\",\"Jordan Park/Laurel Heights\",\"Central Sunset\",\"Eureka Valley/Dolores Heights\",\"Financial District North\",\"South of Market\",\"Lone Mountain\",\"West Portal\",\"Marina\",\"Noe Valley\",\"Lower Pacific Heights\",\"Corona Heights\",\"Outer Sunset\",\"Excelsior\",\"Russian Hill\",\"Buena Vista Park\",\"Outer Richmond \",\"Yerba Buena\",\"Twin Peaks\",\"Park North\",\"Lake --The Presidio\",\"Central Richmond\",\"Nob Hill\",\"Portola\",\"Alamo Square\",\"Inner Richmond\",\"Oceanview\",\"Inner Sunset\",\"Ingleside \",\"Parkside\",\"Hayes Valley\",\"Anza Vista\",\"Mission Terrace\",\"Mission Dolores\",\"Haight Ashbury\",\"Downtown \",\"Inner Mission\",\"Western Addition\",\"Forest Knolls\",\"Inner Parkside\",\"Hunters Point\",\"Bayview\",\"Croker Amazon\",\"Financial District South\",\"Van Ness/ Civic Center\"],\"palette\":[\"#440154\",\"#440255\",\"#440357\",\"#450558\",\"#45065a\",\"#45085b\",\"#46095c\",\"#460b5e\",\"#460c5f\",\"#460e61\",\"#470f62\",\"#471163\",\"#471265\",\"#471466\",\"#471567\",\"#471669\",\"#47186a\",\"#48196b\",\"#481a6c\",\"#481c6e\",\"#481d6f\",\"#481e70\",\"#482071\",\"#482172\",\"#482273\",\"#482374\",\"#472575\",\"#472676\",\"#472777\",\"#472878\",\"#472a79\",\"#472b7a\",\"#472c7b\",\"#462d7c\",\"#462f7c\",\"#46307d\",\"#46317e\",\"#45327f\",\"#45347f\",\"#453580\",\"#453681\",\"#443781\",\"#443982\",\"#433a83\",\"#433b83\",\"#433c84\",\"#423d84\",\"#423e85\",\"#424085\",\"#414186\",\"#414286\",\"#404387\",\"#404487\",\"#3f4587\",\"#3f4788\",\"#3e4888\",\"#3e4989\",\"#3d4a89\",\"#3d4b89\"]},\"id\":\"3388\",\"type\":\"CategoricalColorMapper\"},{\"attributes\":{},\"id\":\"3376\",\"type\":\"PanTool\"},{\"attributes\":{\"fill_color\":{\"field\":\"color\",\"transform\":{\"id\":\"3388\"}},\"top\":{\"field\":\"sale_price_sqr_foot\"},\"width\":{\"value\":0.8},\"x\":{\"field\":\"neighborhood\"}},\"id\":\"3394\",\"type\":\"VBar\"},{\"attributes\":{},\"id\":\"3377\",\"type\":\"WheelZoomTool\"},{\"attributes\":{\"overlay\":{\"id\":\"3380\"}},\"id\":\"3378\",\"type\":\"BoxZoomTool\"},{\"attributes\":{\"fill_alpha\":{\"value\":0.1},\"fill_color\":{\"field\":\"color\",\"transform\":{\"id\":\"3388\"}},\"line_alpha\":{\"value\":0.1},\"top\":{\"field\":\"sale_price_sqr_foot\"},\"width\":{\"value\":0.8},\"x\":{\"field\":\"neighborhood\"}},\"id\":\"3393\",\"type\":\"VBar\"},{\"attributes\":{\"axis\":{\"id\":\"3149\"},\"grid_line_color\":null,\"ticker\":null},\"id\":\"3152\",\"type\":\"Grid\"},{\"attributes\":{},\"id\":\"3225\",\"type\":\"SaveTool\"},{\"attributes\":{\"data_source\":{\"id\":\"3389\"},\"glyph\":{\"id\":\"3392\"},\"hover_glyph\":{\"id\":\"3395\"},\"muted_glyph\":{\"id\":\"3396\"},\"nonselection_glyph\":{\"id\":\"3393\"},\"selection_glyph\":{\"id\":\"3394\"},\"view\":{\"id\":\"3398\"}},\"id\":\"3397\",\"type\":\"GlyphRenderer\"},{\"attributes\":{\"fill_alpha\":{\"value\":0.2},\"fill_color\":{\"field\":\"color\",\"transform\":{\"id\":\"3388\"}},\"line_alpha\":{\"value\":0.2},\"top\":{\"field\":\"sale_price_sqr_foot\"},\"width\":{\"value\":0.8},\"x\":{\"field\":\"neighborhood\"}},\"id\":\"3396\",\"type\":\"VBar\"},{\"attributes\":{\"fill_color\":{\"field\":\"color\",\"transform\":{\"id\":\"3388\"}},\"top\":{\"field\":\"sale_price_sqr_foot\"},\"width\":{\"value\":0.8},\"x\":{\"field\":\"neighborhood\"}},\"id\":\"3395\",\"type\":\"VBar\"},{\"attributes\":{},\"id\":\"3379\",\"type\":\"ResetTool\"},{\"attributes\":{},\"id\":\"3227\",\"type\":\"WheelZoomTool\"},{\"attributes\":{\"line_alpha\":0.2,\"line_color\":\"#30a2da\",\"line_width\":2,\"x\":{\"field\":\"year\"},\"y\":{\"field\":\"housing_units\"}},\"id\":\"3175\",\"type\":\"Line\"},{\"attributes\":{},\"id\":\"3154\",\"type\":\"BasicTicker\"},{\"attributes\":{\"line_alpha\":0.2,\"line_color\":\"#30a2da\",\"line_width\":2,\"x\":{\"field\":\"year\"},\"y\":{\"field\":\"sale_price_sqr_foot\"}},\"id\":\"3243\",\"type\":\"Line\"},{\"attributes\":{\"client_comm_id\":\"3ae28d70b20a4b76b026a0d000550dcd\",\"comm_id\":\"f24a84ccb13144d49b397487407132c7\",\"plot_id\":\"3132\"},\"id\":\"3778\",\"type\":\"panel.models.comm_manager.CommManager\"},{\"attributes\":{\"line_alpha\":0.1,\"line_color\":\"#30a2da\",\"line_width\":2,\"x\":{\"field\":\"year\"},\"y\":{\"field\":\"housing_units\"}},\"id\":\"3174\",\"type\":\"Line\"},{\"attributes\":{\"overlay\":{\"id\":\"3230\"}},\"id\":\"3228\",\"type\":\"BoxZoomTool\"},{\"attributes\":{\"source\":{\"id\":\"3389\"}},\"id\":\"3398\",\"type\":\"CDSView\"},{\"attributes\":{\"margin\":[20,0,0,20],\"name\":\"\",\"style\":{\"white-space\":\"nowrap\"},\"text\":\"year: <b>2010</b>\",\"width\":250},\"id\":\"3446\",\"type\":\"Div\"},{\"attributes\":{\"source\":{\"id\":\"3238\"}},\"id\":\"3245\",\"type\":\"CDSView\"},{\"attributes\":{},\"id\":\"3408\",\"type\":\"UnionRenderers\"},{\"attributes\":{\"items\":[{\"id\":\"3410\"}],\"location\":[0,0]},\"id\":\"3409\",\"type\":\"Legend\"},{\"attributes\":{},\"id\":\"3145\",\"type\":\"LinearScale\"},{\"attributes\":{},\"id\":\"3401\",\"type\":\"AllLabels\"},{\"attributes\":{\"axis_label\":\"neighborhood\",\"formatter\":{\"id\":\"3405\"},\"major_label_policy\":{\"id\":\"3404\"},\"ticker\":{\"id\":\"3369\"}},\"id\":\"3368\",\"type\":\"CategoricalAxis\"},{\"attributes\":{},\"id\":\"3229\",\"type\":\"ResetTool\"},{\"attributes\":{},\"id\":\"3171\",\"type\":\"Selection\"},{\"attributes\":{},\"id\":\"3402\",\"type\":\"BasicTickFormatter\"},{\"attributes\":{\"child\":{\"id\":\"3133\"},\"name\":\"Column04894\",\"title\":\"Most Expensive\"},\"id\":\"3352\",\"type\":\"Panel\"},{\"attributes\":{},\"id\":\"3226\",\"type\":\"PanTool\"},{\"attributes\":{},\"id\":\"3404\",\"type\":\"AllLabels\"},{\"attributes\":{},\"id\":\"3248\",\"type\":\"AllLabels\"},{\"attributes\":{},\"id\":\"3249\",\"type\":\"BasicTickFormatter\"},{\"attributes\":{\"children\":[{\"id\":\"3446\"},{\"id\":\"3447\"}],\"margin\":[0,0,0,0],\"min_width\":290,\"name\":\"Column04933\",\"width\":290},\"id\":\"3445\",\"type\":\"Column\"},{\"attributes\":{\"line_color\":\"#30a2da\",\"line_width\":2,\"x\":{\"field\":\"year\"},\"y\":{\"field\":\"sale_price_sqr_foot\"}},\"id\":\"3310\",\"type\":\"Line\"},{\"attributes\":{},\"id\":\"3405\",\"type\":\"CategoricalTickFormatter\"},{\"attributes\":{},\"id\":\"3453\",\"type\":\"UnionRenderers\"},{\"attributes\":{\"callback\":null,\"renderers\":[{\"id\":\"3397\"}],\"tags\":[\"hv_created\"],\"tooltips\":[[\"neighborhood\",\"@{neighborhood}\"],[\"sale_price_sqr_foot\",\"@{sale_price_sqr_foot}\"]]},\"id\":\"3358\",\"type\":\"HoverTool\"},{\"attributes\":{\"data\":{\"sale_price_sqr_foot\":{\"__ndarray__\":\"tQKjeIIVd0Do7CdydF51QGdijk899nhAaBKk2Jo5fkDGKCTbN2KBQPETFqRSxINAUB33UCbNhUA=\",\"dtype\":\"float64\",\"order\":\"little\",\"shape\":[7]},\"year\":[2010,2011,2012,2013,2014,2015,2016]},\"selected\":{\"id\":\"3239\"},\"selection_policy\":{\"id\":\"3262\"}},\"id\":\"3238\",\"type\":\"ColumnDataSource\"},{\"attributes\":{\"data\":{\"sale_price_sqr_foot\":{\"__ndarray__\":\"Dkc7WO0yckCafszcbwhxQIGRs5ot42ZAJzog0LQ8eEAWMinKGEd+QI0V5FDt0IJAVCHcmLVPdUA=\",\"dtype\":\"float64\",\"order\":\"little\",\"shape\":[7]},\"year\":[2010,2011,2012,2013,2014,2015,2016]},\"selected\":{\"id\":\"3308\"},\"selection_policy\":{\"id\":\"3337\"}},\"id\":\"3307\",\"type\":\"ColumnDataSource\"},{\"attributes\":{\"callback\":null,\"renderers\":[{\"id\":\"3313\"}],\"tags\":[\"hv_created\"],\"tooltips\":[[\"year\",\"@{year}\"],[\"sale_price_sqr_foot\",\"@{sale_price_sqr_foot}\"]]},\"id\":\"3276\",\"type\":\"HoverTool\"},{\"attributes\":{\"args\":{\"model\":{\"id\":\"3136\"}},\"code\":\"model.visible = (cb_obj.active == 0);\",\"tags\":[\"plotly_tab_fix3136\"]},\"id\":\"3693\",\"type\":\"CustomJS\"},{\"attributes\":{},\"id\":\"3390\",\"type\":\"Selection\"},{\"attributes\":{},\"id\":\"3251\",\"type\":\"AllLabels\"},{\"attributes\":{\"below\":[{\"id\":\"3368\"}],\"center\":[{\"id\":\"3370\"},{\"id\":\"3374\"},{\"id\":\"3409\"}],\"height\":400,\"left\":[{\"id\":\"3371\"}],\"margin\":[5,5,5,5],\"min_border_bottom\":10,\"min_border_left\":10,\"min_border_right\":10,\"min_border_top\":10,\"renderers\":[{\"id\":\"3397\"}],\"right\":[{\"id\":\"3409\"}],\"sizing_mode\":\"fixed\",\"title\":{\"id\":\"3360\"},\"toolbar\":{\"id\":\"3381\"},\"width\":1000,\"x_range\":{\"id\":\"3356\"},\"x_scale\":{\"id\":\"3364\"},\"y_range\":{\"id\":\"3206\"},\"y_scale\":{\"id\":\"3366\"}},\"id\":\"3359\",\"subtype\":\"Figure\",\"type\":\"Plot\"},{\"attributes\":{\"below\":[{\"id\":\"3149\"}],\"center\":[{\"id\":\"3152\"},{\"id\":\"3156\"}],\"height\":300,\"left\":[{\"id\":\"3153\"}],\"margin\":[5,5,5,5],\"min_border_bottom\":10,\"min_border_left\":10,\"min_border_right\":10,\"min_border_top\":10,\"renderers\":[{\"id\":\"3176\"}],\"sizing_mode\":\"fixed\",\"title\":{\"id\":\"3141\"},\"toolbar\":{\"id\":\"3163\"},\"width\":700,\"x_range\":{\"id\":\"3137\"},\"x_scale\":{\"id\":\"3145\"},\"y_range\":{\"id\":\"3138\"},\"y_scale\":{\"id\":\"3147\"}},\"id\":\"3140\",\"subtype\":\"Figure\",\"type\":\"Plot\"},{\"attributes\":{},\"id\":\"3147\",\"type\":\"LinearScale\"},{\"attributes\":{\"children\":[{\"id\":\"3349\"},{\"id\":\"3351\"}],\"margin\":[0,0,0,0],\"name\":\"Column04893\"},\"id\":\"3348\",\"type\":\"Column\"},{\"attributes\":{},\"id\":\"3364\",\"type\":\"CategoricalScale\"},{\"attributes\":{\"children\":[{\"id\":\"3277\"},{\"id\":\"3348\"}],\"margin\":[0,0,0,0],\"name\":\"Row04886\"},\"id\":\"3273\",\"type\":\"Row\"},{\"attributes\":{},\"id\":\"3366\",\"type\":\"LinearScale\"},{\"attributes\":{},\"id\":\"3296\",\"type\":\"WheelZoomTool\"},{\"attributes\":{\"data_source\":{\"id\":\"3238\"},\"glyph\":{\"id\":\"3241\"},\"hover_glyph\":null,\"muted_glyph\":{\"id\":\"3243\"},\"nonselection_glyph\":{\"id\":\"3242\"},\"selection_glyph\":{\"id\":\"3246\"},\"view\":{\"id\":\"3245\"}},\"id\":\"3244\",\"type\":\"GlyphRenderer\"},{\"attributes\":{\"args\":{\"bidirectional\":false,\"properties\":{},\"source\":{\"id\":\"3447\"},\"target\":{\"id\":\"3446\"}},\"code\":\"try { \\n    var labels = ['year: <b>2010</b>', 'year: <b>2011</b>', 'year: <b>2012</b>', 'year: <b>2013</b>', 'year: <b>2014</b>', 'year: <b>2015</b>', 'year: <b>2016</b>']\\n    target.text = labels[source.value]\\n     } catch(err) { console.log(err) }\",\"tags\":[140667876638288]},\"id\":\"3492\",\"type\":\"CustomJS\"},{\"attributes\":{\"axis\":{\"id\":\"3371\"},\"dimension\":1,\"grid_line_color\":null,\"ticker\":null},\"id\":\"3374\",\"type\":\"Grid\"},{\"attributes\":{\"axis_label\":\"year\",\"formatter\":{\"id\":\"3181\"},\"major_label_policy\":{\"id\":\"3180\"},\"ticker\":{\"id\":\"3150\"}},\"id\":\"3149\",\"type\":\"LinearAxis\"},{\"attributes\":{\"text\":\"year: 2010\",\"text_color\":\"black\",\"text_font_size\":\"12pt\"},\"id\":\"3360\",\"type\":\"Title\"},{\"attributes\":{},\"id\":\"3150\",\"type\":\"BasicTicker\"},{\"attributes\":{\"end\":385410.2,\"reset_end\":385410.2,\"reset_start\":371391.8,\"start\":371391.8,\"tags\":[[[\"housing_units\",\"housing_units\",null]]]},\"id\":\"3138\",\"type\":\"Range1d\"},{\"attributes\":{\"line_color\":\"#30a2da\",\"line_width\":2,\"x\":{\"field\":\"year\"},\"y\":{\"field\":\"housing_units\"}},\"id\":\"3173\",\"type\":\"Line\"},{\"attributes\":{},\"id\":\"3369\",\"type\":\"CategoricalTicker\"},{\"attributes\":{\"data\":[{\"alignmentgroup\":\"True\",\"hovertemplate\":\"year=%{x}<br>housing_units=%{y}<extra></extra>\",\"legendgroup\":\"\",\"marker\":{\"color\":\"#636efa\",\"pattern\":{\"shape\":\"\"}},\"name\":\"\",\"offsetgroup\":\"\",\"orientation\":\"v\",\"showlegend\":false,\"textposition\":\"auto\",\"type\":\"bar\",\"xaxis\":\"x\",\"yaxis\":\"y\"}],\"data_sources\":[{\"id\":\"3135\"}],\"layout\":{\"autosize\":true,\"barmode\":\"relative\",\"legend\":{\"tracegroupgap\":0},\"template\":{\"data\":{\"bar\":[{\"error_x\":{\"color\":\"#2a3f5f\"},\"error_y\":{\"color\":\"#2a3f5f\"},\"marker\":{\"line\":{\"color\":\"#E5ECF6\",\"width\":0.5},\"pattern\":{\"fillmode\":\"overlay\",\"size\":10,\"solidity\":0.2}},\"type\":\"bar\"}],\"barpolar\":[{\"marker\":{\"line\":{\"color\":\"#E5ECF6\",\"width\":0.5},\"pattern\":{\"fillmode\":\"overlay\",\"size\":10,\"solidity\":0.2}},\"type\":\"barpolar\"}],\"carpet\":[{\"aaxis\":{\"endlinecolor\":\"#2a3f5f\",\"gridcolor\":\"white\",\"linecolor\":\"white\",\"minorgridcolor\":\"white\",\"startlinecolor\":\"#2a3f5f\"},\"baxis\":{\"endlinecolor\":\"#2a3f5f\",\"gridcolor\":\"white\",\"linecolor\":\"white\",\"minorgridcolor\":\"white\",\"startlinecolor\":\"#2a3f5f\"},\"type\":\"carpet\"}],\"choropleth\":[{\"colorbar\":{\"outlinewidth\":0,\"ticks\":\"\"},\"type\":\"choropleth\"}],\"contour\":[{\"colorbar\":{\"outlinewidth\":0,\"ticks\":\"\"},\"colorscale\":[[0.0,\"#0d0887\"],[0.1111111111111111,\"#46039f\"],[0.2222222222222222,\"#7201a8\"],[0.3333333333333333,\"#9c179e\"],[0.4444444444444444,\"#bd3786\"],[0.5555555555555556,\"#d8576b\"],[0.6666666666666666,\"#ed7953\"],[0.7777777777777778,\"#fb9f3a\"],[0.8888888888888888,\"#fdca26\"],[1.0,\"#f0f921\"]],\"type\":\"contour\"}],\"contourcarpet\":[{\"colorbar\":{\"outlinewidth\":0,\"ticks\":\"\"},\"type\":\"contourcarpet\"}],\"heatmap\":[{\"colorbar\":{\"outlinewidth\":0,\"ticks\":\"\"},\"colorscale\":[[0.0,\"#0d0887\"],[0.1111111111111111,\"#46039f\"],[0.2222222222222222,\"#7201a8\"],[0.3333333333333333,\"#9c179e\"],[0.4444444444444444,\"#bd3786\"],[0.5555555555555556,\"#d8576b\"],[0.6666666666666666,\"#ed7953\"],[0.7777777777777778,\"#fb9f3a\"],[0.8888888888888888,\"#fdca26\"],[1.0,\"#f0f921\"]],\"type\":\"heatmap\"}],\"heatmapgl\":[{\"colorbar\":{\"outlinewidth\":0,\"ticks\":\"\"},\"colorscale\":[[0.0,\"#0d0887\"],[0.1111111111111111,\"#46039f\"],[0.2222222222222222,\"#7201a8\"],[0.3333333333333333,\"#9c179e\"],[0.4444444444444444,\"#bd3786\"],[0.5555555555555556,\"#d8576b\"],[0.6666666666666666,\"#ed7953\"],[0.7777777777777778,\"#fb9f3a\"],[0.8888888888888888,\"#fdca26\"],[1.0,\"#f0f921\"]],\"type\":\"heatmapgl\"}],\"histogram\":[{\"marker\":{\"pattern\":{\"fillmode\":\"overlay\",\"size\":10,\"solidity\":0.2}},\"type\":\"histogram\"}],\"histogram2d\":[{\"colorbar\":{\"outlinewidth\":0,\"ticks\":\"\"},\"colorscale\":[[0.0,\"#0d0887\"],[0.1111111111111111,\"#46039f\"],[0.2222222222222222,\"#7201a8\"],[0.3333333333333333,\"#9c179e\"],[0.4444444444444444,\"#bd3786\"],[0.5555555555555556,\"#d8576b\"],[0.6666666666666666,\"#ed7953\"],[0.7777777777777778,\"#fb9f3a\"],[0.8888888888888888,\"#fdca26\"],[1.0,\"#f0f921\"]],\"type\":\"histogram2d\"}],\"histogram2dcontour\":[{\"colorbar\":{\"outlinewidth\":0,\"ticks\":\"\"},\"colorscale\":[[0.0,\"#0d0887\"],[0.1111111111111111,\"#46039f\"],[0.2222222222222222,\"#7201a8\"],[0.3333333333333333,\"#9c179e\"],[0.4444444444444444,\"#bd3786\"],[0.5555555555555556,\"#d8576b\"],[0.6666666666666666,\"#ed7953\"],[0.7777777777777778,\"#fb9f3a\"],[0.8888888888888888,\"#fdca26\"],[1.0,\"#f0f921\"]],\"type\":\"histogram2dcontour\"}],\"mesh3d\":[{\"colorbar\":{\"outlinewidth\":0,\"ticks\":\"\"},\"type\":\"mesh3d\"}],\"parcoords\":[{\"line\":{\"colorbar\":{\"outlinewidth\":0,\"ticks\":\"\"}},\"type\":\"parcoords\"}],\"pie\":[{\"automargin\":true,\"type\":\"pie\"}],\"scatter\":[{\"marker\":{\"colorbar\":{\"outlinewidth\":0,\"ticks\":\"\"}},\"type\":\"scatter\"}],\"scatter3d\":[{\"line\":{\"colorbar\":{\"outlinewidth\":0,\"ticks\":\"\"}},\"marker\":{\"colorbar\":{\"outlinewidth\":0,\"ticks\":\"\"}},\"type\":\"scatter3d\"}],\"scattercarpet\":[{\"marker\":{\"colorbar\":{\"outlinewidth\":0,\"ticks\":\"\"}},\"type\":\"scattercarpet\"}],\"scattergeo\":[{\"marker\":{\"colorbar\":{\"outlinewidth\":0,\"ticks\":\"\"}},\"type\":\"scattergeo\"}],\"scattergl\":[{\"marker\":{\"colorbar\":{\"outlinewidth\":0,\"ticks\":\"\"}},\"type\":\"scattergl\"}],\"scattermapbox\":[{\"marker\":{\"colorbar\":{\"outlinewidth\":0,\"ticks\":\"\"}},\"type\":\"scattermapbox\"}],\"scatterpolar\":[{\"marker\":{\"colorbar\":{\"outlinewidth\":0,\"ticks\":\"\"}},\"type\":\"scatterpolar\"}],\"scatterpolargl\":[{\"marker\":{\"colorbar\":{\"outlinewidth\":0,\"ticks\":\"\"}},\"type\":\"scatterpolargl\"}],\"scatterternary\":[{\"marker\":{\"colorbar\":{\"outlinewidth\":0,\"ticks\":\"\"}},\"type\":\"scatterternary\"}],\"surface\":[{\"colorbar\":{\"outlinewidth\":0,\"ticks\":\"\"},\"colorscale\":[[0.0,\"#0d0887\"],[0.1111111111111111,\"#46039f\"],[0.2222222222222222,\"#7201a8\"],[0.3333333333333333,\"#9c179e\"],[0.4444444444444444,\"#bd3786\"],[0.5555555555555556,\"#d8576b\"],[0.6666666666666666,\"#ed7953\"],[0.7777777777777778,\"#fb9f3a\"],[0.8888888888888888,\"#fdca26\"],[1.0,\"#f0f921\"]],\"type\":\"surface\"}],\"table\":[{\"cells\":{\"fill\":{\"color\":\"#EBF0F8\"},\"line\":{\"color\":\"white\"}},\"header\":{\"fill\":{\"color\":\"#C8D4E3\"},\"line\":{\"color\":\"white\"}},\"type\":\"table\"}]},\"layout\":{\"annotationdefaults\":{\"arrowcolor\":\"#2a3f5f\",\"arrowhead\":0,\"arrowwidth\":1},\"autotypenumbers\":\"strict\",\"coloraxis\":{\"colorbar\":{\"outlinewidth\":0,\"ticks\":\"\"}},\"colorscale\":{\"diverging\":[[0,\"#8e0152\"],[0.1,\"#c51b7d\"],[0.2,\"#de77ae\"],[0.3,\"#f1b6da\"],[0.4,\"#fde0ef\"],[0.5,\"#f7f7f7\"],[0.6,\"#e6f5d0\"],[0.7,\"#b8e186\"],[0.8,\"#7fbc41\"],[0.9,\"#4d9221\"],[1,\"#276419\"]],\"sequential\":[[0.0,\"#0d0887\"],[0.1111111111111111,\"#46039f\"],[0.2222222222222222,\"#7201a8\"],[0.3333333333333333,\"#9c179e\"],[0.4444444444444444,\"#bd3786\"],[0.5555555555555556,\"#d8576b\"],[0.6666666666666666,\"#ed7953\"],[0.7777777777777778,\"#fb9f3a\"],[0.8888888888888888,\"#fdca26\"],[1.0,\"#f0f921\"]],\"sequentialminus\":[[0.0,\"#0d0887\"],[0.1111111111111111,\"#46039f\"],[0.2222222222222222,\"#7201a8\"],[0.3333333333333333,\"#9c179e\"],[0.4444444444444444,\"#bd3786\"],[0.5555555555555556,\"#d8576b\"],[0.6666666666666666,\"#ed7953\"],[0.7777777777777778,\"#fb9f3a\"],[0.8888888888888888,\"#fdca26\"],[1.0,\"#f0f921\"]]},\"colorway\":[\"#636efa\",\"#EF553B\",\"#00cc96\",\"#ab63fa\",\"#FFA15A\",\"#19d3f3\",\"#FF6692\",\"#B6E880\",\"#FF97FF\",\"#FECB52\"],\"font\":{\"color\":\"#2a3f5f\"},\"geo\":{\"bgcolor\":\"white\",\"lakecolor\":\"white\",\"landcolor\":\"#E5ECF6\",\"showlakes\":true,\"showland\":true,\"subunitcolor\":\"white\"},\"hoverlabel\":{\"align\":\"left\"},\"hovermode\":\"closest\",\"mapbox\":{\"style\":\"light\"},\"paper_bgcolor\":\"white\",\"plot_bgcolor\":\"#E5ECF6\",\"polar\":{\"angularaxis\":{\"gridcolor\":\"white\",\"linecolor\":\"white\",\"ticks\":\"\"},\"bgcolor\":\"#E5ECF6\",\"radialaxis\":{\"gridcolor\":\"white\",\"linecolor\":\"white\",\"ticks\":\"\"}},\"scene\":{\"xaxis\":{\"backgroundcolor\":\"#E5ECF6\",\"gridcolor\":\"white\",\"gridwidth\":2,\"linecolor\":\"white\",\"showbackground\":true,\"ticks\":\"\",\"zerolinecolor\":\"white\"},\"yaxis\":{\"backgroundcolor\":\"#E5ECF6\",\"gridcolor\":\"white\",\"gridwidth\":2,\"linecolor\":\"white\",\"showbackground\":true,\"ticks\":\"\",\"zerolinecolor\":\"white\"},\"zaxis\":{\"backgroundcolor\":\"#E5ECF6\",\"gridcolor\":\"white\",\"gridwidth\":2,\"linecolor\":\"white\",\"showbackground\":true,\"ticks\":\"\",\"zerolinecolor\":\"white\"}},\"shapedefaults\":{\"line\":{\"color\":\"#2a3f5f\"}},\"ternary\":{\"aaxis\":{\"gridcolor\":\"white\",\"linecolor\":\"white\",\"ticks\":\"\"},\"baxis\":{\"gridcolor\":\"white\",\"linecolor\":\"white\",\"ticks\":\"\"},\"bgcolor\":\"#E5ECF6\",\"caxis\":{\"gridcolor\":\"white\",\"linecolor\":\"white\",\"ticks\":\"\"}},\"title\":{\"x\":0.05},\"xaxis\":{\"automargin\":true,\"gridcolor\":\"white\",\"linecolor\":\"white\",\"ticks\":\"\",\"title\":{\"standoff\":15},\"zerolinecolor\":\"white\",\"zerolinewidth\":2},\"yaxis\":{\"automargin\":true,\"gridcolor\":\"white\",\"linecolor\":\"white\",\"ticks\":\"\",\"title\":{\"standoff\":15},\"zerolinecolor\":\"white\",\"zerolinewidth\":2}}},\"title\":{\"text\":\"Housing Units Per Year\"},\"width\":1000,\"xaxis\":{\"anchor\":\"y\",\"domain\":[0.0,1.0],\"title\":{\"text\":\"year\"}},\"yaxis\":{\"anchor\":\"x\",\"domain\":[0.0,1.0],\"title\":{\"text\":\"housing_units\"}}},\"margin\":[5,5,5,5],\"name\":\"Plotly04873\",\"sizing_mode\":\"stretch_both\",\"viewport\":{\"xaxis.range\":[2009.5,2016.5],\"yaxis.range\":[0,404465.2631578947]},\"viewport_update_throttle\":200},\"id\":\"3136\",\"type\":\"panel.models.plotly.PlotlyPlot\"},{\"attributes\":{\"children\":[{\"id\":\"3350\"}],\"css_classes\":[\"panel-widget-box\"],\"margin\":[5,5,5,5],\"name\":\"WidgetBox04887\"},\"id\":\"3349\",\"type\":\"Column\"},{\"attributes\":{\"axis_label\":\"housing_units\",\"formatter\":{\"id\":\"3184\"},\"major_label_policy\":{\"id\":\"3183\"},\"ticker\":{\"id\":\"3154\"}},\"id\":\"3153\",\"type\":\"LinearAxis\"},{\"attributes\":{\"axis\":{\"id\":\"3368\"},\"grid_line_color\":null,\"ticker\":null},\"id\":\"3370\",\"type\":\"Grid\"},{\"attributes\":{\"text\":\"Gross Rent\",\"text_color\":\"black\",\"text_font_size\":\"12pt\"},\"id\":\"3141\",\"type\":\"Title\"},{\"attributes\":{},\"id\":\"3372\",\"type\":\"BasicTicker\"},{\"attributes\":{},\"id\":\"3452\",\"type\":\"Selection\"},{\"attributes\":{\"axis_label\":\"sale_price_sqr_foot\",\"formatter\":{\"id\":\"3402\"},\"major_label_policy\":{\"id\":\"3401\"},\"ticker\":{\"id\":\"3372\"}},\"id\":\"3371\",\"type\":\"LinearAxis\"},{\"attributes\":{\"fill_color\":{\"field\":\"color\",\"transform\":{\"id\":\"3388\"}},\"top\":{\"field\":\"sale_price_sqr_foot\"},\"width\":{\"value\":0.8},\"x\":{\"field\":\"neighborhood\"}},\"id\":\"3392\",\"type\":\"VBar\"}],\"root_ids\":[\"3132\",\"3778\"]},\"title\":\"Bokeh Application\",\"version\":\"2.3.2\"}};\n",
       "    var render_items = [{\"docid\":\"d1849ced-0b3c-4eb3-b9e8-05176bc45ad5\",\"root_ids\":[\"3132\"],\"roots\":{\"3132\":\"88e22651-ee4b-492b-b0bd-b2961692084c\"}}];\n",
       "    root.Bokeh.embed.embed_items_notebook(docs_json, render_items);\n",
       "  }\n",
       "  if (root.Bokeh !== undefined && root.Bokeh.Panel !== undefined && ( root['Plotly'] !== undefined)) {\n",
       "    embed_document(root);\n",
       "  } else {\n",
       "    var attempts = 0;\n",
       "    var timer = setInterval(function(root) {\n",
       "      if (root.Bokeh !== undefined && root.Bokeh.Panel !== undefined && (root['Plotly'] !== undefined)) {\n",
       "        clearInterval(timer);\n",
       "        embed_document(root);\n",
       "      } else if (document.readyState == \"complete\") {\n",
       "        attempts++;\n",
       "        if (attempts > 200) {\n",
       "          clearInterval(timer);\n",
       "          console.log(\"Bokeh: ERROR: Unable to run BokehJS code because BokehJS library is missing\");\n",
       "        }\n",
       "      }\n",
       "    }, 25, root)\n",
       "  }\n",
       "})(window);</script>"
      ],
      "text/plain": [
       "Tabs\n",
       "    [0] Column\n",
       "        [0] Markdown(str)\n",
       "        [1] Plotly(Figure, relayout_data={'autosize': True}, viewport={'xaxis.range': [2009.5, ...})\n",
       "        [2] HoloViews(Curve)\n",
       "        [3] HoloViews(Curve)\n",
       "        [4] Row\n",
       "            [0] HoloViews(DynamicMap)\n",
       "            [1] Column\n",
       "                [0] WidgetBox\n",
       "                    [0] Select(margin=(20, 20, 20, 20), name='neighborhood', options=['Alamo Square', ...], value='Alamo Square', width=250)\n",
       "                [1] VSpacer()\n",
       "    [1] Column\n",
       "        [0] Markdown(str)\n",
       "        [1] Row\n",
       "            [0] HoloViews(DynamicMap)\n",
       "            [1] Column\n",
       "                [0] WidgetBox\n",
       "                    [0] DiscreteSlider(formatter='%d', margin=(20, 20, 20, 20), name='year', options=OrderedDict([('2010', ...]), value=2010, width=250)\n",
       "                [1] VSpacer()"
      ]
     },
     "execution_count": 198,
     "metadata": {
      "application/vnd.holoviews_exec.v0+json": {
       "id": "3132"
      }
     },
     "output_type": "execute_result"
    }
   ],
   "source": [
    "# Serve the# dashboard\n",
    "# YOUR CODE HERE!\n",
    "\n",
    "tabs.servable()"
   ]
  },
  {
   "cell_type": "markdown",
   "metadata": {},
   "source": [
    "# Debugging\n",
    "\n",
    "Note: Some of the Plotly express plots may not render in the notebook through the panel functions.\n",
    "\n",
    "However, you can test each plot by uncommenting the following code"
   ]
  },
  {
   "cell_type": "code",
   "execution_count": 168,
   "metadata": {},
   "outputs": [
    {
     "data": {
      "application/vnd.plotly.v1+json": {
       "config": {
        "plotlyServerURL": "https://plot.ly"
       },
       "data": [
        {
         "alignmentgroup": "True",
         "hovertemplate": "year=%{x}<br>housing_units=%{y}<extra></extra>",
         "legendgroup": "",
         "marker": {
          "color": "#636efa",
          "pattern": {
           "shape": ""
          }
         },
         "name": "",
         "offsetgroup": "",
         "orientation": "v",
         "showlegend": false,
         "textposition": "auto",
         "type": "bar",
         "x": [
          2010,
          2011,
          2012,
          2013,
          2014,
          2015,
          2016
         ],
         "xaxis": "x",
         "y": [
          372560,
          374507,
          376454,
          378401,
          380348,
          382295,
          384242
         ],
         "yaxis": "y"
        }
       ],
       "layout": {
        "autosize": true,
        "barmode": "relative",
        "legend": {
         "tracegroupgap": 0
        },
        "template": {
         "data": {
          "bar": [
           {
            "error_x": {
             "color": "#2a3f5f"
            },
            "error_y": {
             "color": "#2a3f5f"
            },
            "marker": {
             "line": {
              "color": "#E5ECF6",
              "width": 0.5
             },
             "pattern": {
              "fillmode": "overlay",
              "size": 10,
              "solidity": 0.2
             }
            },
            "type": "bar"
           }
          ],
          "barpolar": [
           {
            "marker": {
             "line": {
              "color": "#E5ECF6",
              "width": 0.5
             },
             "pattern": {
              "fillmode": "overlay",
              "size": 10,
              "solidity": 0.2
             }
            },
            "type": "barpolar"
           }
          ],
          "carpet": [
           {
            "aaxis": {
             "endlinecolor": "#2a3f5f",
             "gridcolor": "white",
             "linecolor": "white",
             "minorgridcolor": "white",
             "startlinecolor": "#2a3f5f"
            },
            "baxis": {
             "endlinecolor": "#2a3f5f",
             "gridcolor": "white",
             "linecolor": "white",
             "minorgridcolor": "white",
             "startlinecolor": "#2a3f5f"
            },
            "type": "carpet"
           }
          ],
          "choropleth": [
           {
            "colorbar": {
             "outlinewidth": 0,
             "ticks": ""
            },
            "type": "choropleth"
           }
          ],
          "contour": [
           {
            "colorbar": {
             "outlinewidth": 0,
             "ticks": ""
            },
            "colorscale": [
             [
              0,
              "#0d0887"
             ],
             [
              0.1111111111111111,
              "#46039f"
             ],
             [
              0.2222222222222222,
              "#7201a8"
             ],
             [
              0.3333333333333333,
              "#9c179e"
             ],
             [
              0.4444444444444444,
              "#bd3786"
             ],
             [
              0.5555555555555556,
              "#d8576b"
             ],
             [
              0.6666666666666666,
              "#ed7953"
             ],
             [
              0.7777777777777778,
              "#fb9f3a"
             ],
             [
              0.8888888888888888,
              "#fdca26"
             ],
             [
              1,
              "#f0f921"
             ]
            ],
            "type": "contour"
           }
          ],
          "contourcarpet": [
           {
            "colorbar": {
             "outlinewidth": 0,
             "ticks": ""
            },
            "type": "contourcarpet"
           }
          ],
          "heatmap": [
           {
            "colorbar": {
             "outlinewidth": 0,
             "ticks": ""
            },
            "colorscale": [
             [
              0,
              "#0d0887"
             ],
             [
              0.1111111111111111,
              "#46039f"
             ],
             [
              0.2222222222222222,
              "#7201a8"
             ],
             [
              0.3333333333333333,
              "#9c179e"
             ],
             [
              0.4444444444444444,
              "#bd3786"
             ],
             [
              0.5555555555555556,
              "#d8576b"
             ],
             [
              0.6666666666666666,
              "#ed7953"
             ],
             [
              0.7777777777777778,
              "#fb9f3a"
             ],
             [
              0.8888888888888888,
              "#fdca26"
             ],
             [
              1,
              "#f0f921"
             ]
            ],
            "type": "heatmap"
           }
          ],
          "heatmapgl": [
           {
            "colorbar": {
             "outlinewidth": 0,
             "ticks": ""
            },
            "colorscale": [
             [
              0,
              "#0d0887"
             ],
             [
              0.1111111111111111,
              "#46039f"
             ],
             [
              0.2222222222222222,
              "#7201a8"
             ],
             [
              0.3333333333333333,
              "#9c179e"
             ],
             [
              0.4444444444444444,
              "#bd3786"
             ],
             [
              0.5555555555555556,
              "#d8576b"
             ],
             [
              0.6666666666666666,
              "#ed7953"
             ],
             [
              0.7777777777777778,
              "#fb9f3a"
             ],
             [
              0.8888888888888888,
              "#fdca26"
             ],
             [
              1,
              "#f0f921"
             ]
            ],
            "type": "heatmapgl"
           }
          ],
          "histogram": [
           {
            "marker": {
             "pattern": {
              "fillmode": "overlay",
              "size": 10,
              "solidity": 0.2
             }
            },
            "type": "histogram"
           }
          ],
          "histogram2d": [
           {
            "colorbar": {
             "outlinewidth": 0,
             "ticks": ""
            },
            "colorscale": [
             [
              0,
              "#0d0887"
             ],
             [
              0.1111111111111111,
              "#46039f"
             ],
             [
              0.2222222222222222,
              "#7201a8"
             ],
             [
              0.3333333333333333,
              "#9c179e"
             ],
             [
              0.4444444444444444,
              "#bd3786"
             ],
             [
              0.5555555555555556,
              "#d8576b"
             ],
             [
              0.6666666666666666,
              "#ed7953"
             ],
             [
              0.7777777777777778,
              "#fb9f3a"
             ],
             [
              0.8888888888888888,
              "#fdca26"
             ],
             [
              1,
              "#f0f921"
             ]
            ],
            "type": "histogram2d"
           }
          ],
          "histogram2dcontour": [
           {
            "colorbar": {
             "outlinewidth": 0,
             "ticks": ""
            },
            "colorscale": [
             [
              0,
              "#0d0887"
             ],
             [
              0.1111111111111111,
              "#46039f"
             ],
             [
              0.2222222222222222,
              "#7201a8"
             ],
             [
              0.3333333333333333,
              "#9c179e"
             ],
             [
              0.4444444444444444,
              "#bd3786"
             ],
             [
              0.5555555555555556,
              "#d8576b"
             ],
             [
              0.6666666666666666,
              "#ed7953"
             ],
             [
              0.7777777777777778,
              "#fb9f3a"
             ],
             [
              0.8888888888888888,
              "#fdca26"
             ],
             [
              1,
              "#f0f921"
             ]
            ],
            "type": "histogram2dcontour"
           }
          ],
          "mesh3d": [
           {
            "colorbar": {
             "outlinewidth": 0,
             "ticks": ""
            },
            "type": "mesh3d"
           }
          ],
          "parcoords": [
           {
            "line": {
             "colorbar": {
              "outlinewidth": 0,
              "ticks": ""
             }
            },
            "type": "parcoords"
           }
          ],
          "pie": [
           {
            "automargin": true,
            "type": "pie"
           }
          ],
          "scatter": [
           {
            "marker": {
             "colorbar": {
              "outlinewidth": 0,
              "ticks": ""
             }
            },
            "type": "scatter"
           }
          ],
          "scatter3d": [
           {
            "line": {
             "colorbar": {
              "outlinewidth": 0,
              "ticks": ""
             }
            },
            "marker": {
             "colorbar": {
              "outlinewidth": 0,
              "ticks": ""
             }
            },
            "type": "scatter3d"
           }
          ],
          "scattercarpet": [
           {
            "marker": {
             "colorbar": {
              "outlinewidth": 0,
              "ticks": ""
             }
            },
            "type": "scattercarpet"
           }
          ],
          "scattergeo": [
           {
            "marker": {
             "colorbar": {
              "outlinewidth": 0,
              "ticks": ""
             }
            },
            "type": "scattergeo"
           }
          ],
          "scattergl": [
           {
            "marker": {
             "colorbar": {
              "outlinewidth": 0,
              "ticks": ""
             }
            },
            "type": "scattergl"
           }
          ],
          "scattermapbox": [
           {
            "marker": {
             "colorbar": {
              "outlinewidth": 0,
              "ticks": ""
             }
            },
            "type": "scattermapbox"
           }
          ],
          "scatterpolar": [
           {
            "marker": {
             "colorbar": {
              "outlinewidth": 0,
              "ticks": ""
             }
            },
            "type": "scatterpolar"
           }
          ],
          "scatterpolargl": [
           {
            "marker": {
             "colorbar": {
              "outlinewidth": 0,
              "ticks": ""
             }
            },
            "type": "scatterpolargl"
           }
          ],
          "scatterternary": [
           {
            "marker": {
             "colorbar": {
              "outlinewidth": 0,
              "ticks": ""
             }
            },
            "type": "scatterternary"
           }
          ],
          "surface": [
           {
            "colorbar": {
             "outlinewidth": 0,
             "ticks": ""
            },
            "colorscale": [
             [
              0,
              "#0d0887"
             ],
             [
              0.1111111111111111,
              "#46039f"
             ],
             [
              0.2222222222222222,
              "#7201a8"
             ],
             [
              0.3333333333333333,
              "#9c179e"
             ],
             [
              0.4444444444444444,
              "#bd3786"
             ],
             [
              0.5555555555555556,
              "#d8576b"
             ],
             [
              0.6666666666666666,
              "#ed7953"
             ],
             [
              0.7777777777777778,
              "#fb9f3a"
             ],
             [
              0.8888888888888888,
              "#fdca26"
             ],
             [
              1,
              "#f0f921"
             ]
            ],
            "type": "surface"
           }
          ],
          "table": [
           {
            "cells": {
             "fill": {
              "color": "#EBF0F8"
             },
             "line": {
              "color": "white"
             }
            },
            "header": {
             "fill": {
              "color": "#C8D4E3"
             },
             "line": {
              "color": "white"
             }
            },
            "type": "table"
           }
          ]
         },
         "layout": {
          "annotationdefaults": {
           "arrowcolor": "#2a3f5f",
           "arrowhead": 0,
           "arrowwidth": 1
          },
          "autotypenumbers": "strict",
          "coloraxis": {
           "colorbar": {
            "outlinewidth": 0,
            "ticks": ""
           }
          },
          "colorscale": {
           "diverging": [
            [
             0,
             "#8e0152"
            ],
            [
             0.1,
             "#c51b7d"
            ],
            [
             0.2,
             "#de77ae"
            ],
            [
             0.3,
             "#f1b6da"
            ],
            [
             0.4,
             "#fde0ef"
            ],
            [
             0.5,
             "#f7f7f7"
            ],
            [
             0.6,
             "#e6f5d0"
            ],
            [
             0.7,
             "#b8e186"
            ],
            [
             0.8,
             "#7fbc41"
            ],
            [
             0.9,
             "#4d9221"
            ],
            [
             1,
             "#276419"
            ]
           ],
           "sequential": [
            [
             0,
             "#0d0887"
            ],
            [
             0.1111111111111111,
             "#46039f"
            ],
            [
             0.2222222222222222,
             "#7201a8"
            ],
            [
             0.3333333333333333,
             "#9c179e"
            ],
            [
             0.4444444444444444,
             "#bd3786"
            ],
            [
             0.5555555555555556,
             "#d8576b"
            ],
            [
             0.6666666666666666,
             "#ed7953"
            ],
            [
             0.7777777777777778,
             "#fb9f3a"
            ],
            [
             0.8888888888888888,
             "#fdca26"
            ],
            [
             1,
             "#f0f921"
            ]
           ],
           "sequentialminus": [
            [
             0,
             "#0d0887"
            ],
            [
             0.1111111111111111,
             "#46039f"
            ],
            [
             0.2222222222222222,
             "#7201a8"
            ],
            [
             0.3333333333333333,
             "#9c179e"
            ],
            [
             0.4444444444444444,
             "#bd3786"
            ],
            [
             0.5555555555555556,
             "#d8576b"
            ],
            [
             0.6666666666666666,
             "#ed7953"
            ],
            [
             0.7777777777777778,
             "#fb9f3a"
            ],
            [
             0.8888888888888888,
             "#fdca26"
            ],
            [
             1,
             "#f0f921"
            ]
           ]
          },
          "colorway": [
           "#636efa",
           "#EF553B",
           "#00cc96",
           "#ab63fa",
           "#FFA15A",
           "#19d3f3",
           "#FF6692",
           "#B6E880",
           "#FF97FF",
           "#FECB52"
          ],
          "font": {
           "color": "#2a3f5f"
          },
          "geo": {
           "bgcolor": "white",
           "lakecolor": "white",
           "landcolor": "#E5ECF6",
           "showlakes": true,
           "showland": true,
           "subunitcolor": "white"
          },
          "hoverlabel": {
           "align": "left"
          },
          "hovermode": "closest",
          "mapbox": {
           "style": "light"
          },
          "paper_bgcolor": "white",
          "plot_bgcolor": "#E5ECF6",
          "polar": {
           "angularaxis": {
            "gridcolor": "white",
            "linecolor": "white",
            "ticks": ""
           },
           "bgcolor": "#E5ECF6",
           "radialaxis": {
            "gridcolor": "white",
            "linecolor": "white",
            "ticks": ""
           }
          },
          "scene": {
           "xaxis": {
            "backgroundcolor": "#E5ECF6",
            "gridcolor": "white",
            "gridwidth": 2,
            "linecolor": "white",
            "showbackground": true,
            "ticks": "",
            "zerolinecolor": "white"
           },
           "yaxis": {
            "backgroundcolor": "#E5ECF6",
            "gridcolor": "white",
            "gridwidth": 2,
            "linecolor": "white",
            "showbackground": true,
            "ticks": "",
            "zerolinecolor": "white"
           },
           "zaxis": {
            "backgroundcolor": "#E5ECF6",
            "gridcolor": "white",
            "gridwidth": 2,
            "linecolor": "white",
            "showbackground": true,
            "ticks": "",
            "zerolinecolor": "white"
           }
          },
          "shapedefaults": {
           "line": {
            "color": "#2a3f5f"
           }
          },
          "ternary": {
           "aaxis": {
            "gridcolor": "white",
            "linecolor": "white",
            "ticks": ""
           },
           "baxis": {
            "gridcolor": "white",
            "linecolor": "white",
            "ticks": ""
           },
           "bgcolor": "#E5ECF6",
           "caxis": {
            "gridcolor": "white",
            "linecolor": "white",
            "ticks": ""
           }
          },
          "title": {
           "x": 0.05
          },
          "xaxis": {
           "automargin": true,
           "gridcolor": "white",
           "linecolor": "white",
           "ticks": "",
           "title": {
            "standoff": 15
           },
           "zerolinecolor": "white",
           "zerolinewidth": 2
          },
          "yaxis": {
           "automargin": true,
           "gridcolor": "white",
           "linecolor": "white",
           "ticks": "",
           "title": {
            "standoff": 15
           },
           "zerolinecolor": "white",
           "zerolinewidth": 2
          }
         }
        },
        "title": {
         "text": "Housing Units Per Year"
        },
        "xaxis": {
         "anchor": "y",
         "autorange": true,
         "domain": [
          0,
          1
         ],
         "range": [
          2009.5,
          2016.5
         ],
         "title": {
          "text": "year"
         },
         "type": "linear"
        },
        "yaxis": {
         "anchor": "x",
         "autorange": true,
         "domain": [
          0,
          1
         ],
         "range": [
          0,
          404465.2631578947
         ],
         "title": {
          "text": "housing_units"
         },
         "type": "linear"
        }
       }
      },
      "image/png": "[encoded data removed]",
      "text/html": [
       "<div>                            <div id=\"e0730c09-75f1-4e7d-a4e4-bea3d0aa60ae\" class=\"plotly-graph-div\" style=\"height:525px; width:1000px;\"></div>            <script type=\"text/javascript\">                require([\"plotly\"], function(Plotly) {                    window.PLOTLYENV=window.PLOTLYENV || {};                                    if (document.getElementById(\"e0730c09-75f1-4e7d-a4e4-bea3d0aa60ae\")) {                    Plotly.newPlot(                        \"e0730c09-75f1-4e7d-a4e4-bea3d0aa60ae\",                        [{\"alignmentgroup\":\"True\",\"hovertemplate\":\"year=%{x}<br>housing_units=%{y}<extra></extra>\",\"legendgroup\":\"\",\"marker\":{\"color\":\"#636efa\",\"pattern\":{\"shape\":\"\"}},\"name\":\"\",\"offsetgroup\":\"\",\"orientation\":\"v\",\"showlegend\":false,\"textposition\":\"auto\",\"type\":\"bar\",\"x\":[2010,2011,2012,2013,2014,2015,2016],\"xaxis\":\"x\",\"y\":[372560,374507,376454,378401,380348,382295,384242],\"yaxis\":\"y\"}],                        {\"barmode\":\"relative\",\"legend\":{\"tracegroupgap\":0},\"template\":{\"data\":{\"bar\":[{\"error_x\":{\"color\":\"#2a3f5f\"},\"error_y\":{\"color\":\"#2a3f5f\"},\"marker\":{\"line\":{\"color\":\"#E5ECF6\",\"width\":0.5},\"pattern\":{\"fillmode\":\"overlay\",\"size\":10,\"solidity\":0.2}},\"type\":\"bar\"}],\"barpolar\":[{\"marker\":{\"line\":{\"color\":\"#E5ECF6\",\"width\":0.5},\"pattern\":{\"fillmode\":\"overlay\",\"size\":10,\"solidity\":0.2}},\"type\":\"barpolar\"}],\"carpet\":[{\"aaxis\":{\"endlinecolor\":\"#2a3f5f\",\"gridcolor\":\"white\",\"linecolor\":\"white\",\"minorgridcolor\":\"white\",\"startlinecolor\":\"#2a3f5f\"},\"baxis\":{\"endlinecolor\":\"#2a3f5f\",\"gridcolor\":\"white\",\"linecolor\":\"white\",\"minorgridcolor\":\"white\",\"startlinecolor\":\"#2a3f5f\"},\"type\":\"carpet\"}],\"choropleth\":[{\"colorbar\":{\"outlinewidth\":0,\"ticks\":\"\"},\"type\":\"choropleth\"}],\"contour\":[{\"colorbar\":{\"outlinewidth\":0,\"ticks\":\"\"},\"colorscale\":[[0.0,\"#0d0887\"],[0.1111111111111111,\"#46039f\"],[0.2222222222222222,\"#7201a8\"],[0.3333333333333333,\"#9c179e\"],[0.4444444444444444,\"#bd3786\"],[0.5555555555555556,\"#d8576b\"],[0.6666666666666666,\"#ed7953\"],[0.7777777777777778,\"#fb9f3a\"],[0.8888888888888888,\"#fdca26\"],[1.0,\"#f0f921\"]],\"type\":\"contour\"}],\"contourcarpet\":[{\"colorbar\":{\"outlinewidth\":0,\"ticks\":\"\"},\"type\":\"contourcarpet\"}],\"heatmap\":[{\"colorbar\":{\"outlinewidth\":0,\"ticks\":\"\"},\"colorscale\":[[0.0,\"#0d0887\"],[0.1111111111111111,\"#46039f\"],[0.2222222222222222,\"#7201a8\"],[0.3333333333333333,\"#9c179e\"],[0.4444444444444444,\"#bd3786\"],[0.5555555555555556,\"#d8576b\"],[0.6666666666666666,\"#ed7953\"],[0.7777777777777778,\"#fb9f3a\"],[0.8888888888888888,\"#fdca26\"],[1.0,\"#f0f921\"]],\"type\":\"heatmap\"}],\"heatmapgl\":[{\"colorbar\":{\"outlinewidth\":0,\"ticks\":\"\"},\"colorscale\":[[0.0,\"#0d0887\"],[0.1111111111111111,\"#46039f\"],[0.2222222222222222,\"#7201a8\"],[0.3333333333333333,\"#9c179e\"],[0.4444444444444444,\"#bd3786\"],[0.5555555555555556,\"#d8576b\"],[0.6666666666666666,\"#ed7953\"],[0.7777777777777778,\"#fb9f3a\"],[0.8888888888888888,\"#fdca26\"],[1.0,\"#f0f921\"]],\"type\":\"heatmapgl\"}],\"histogram\":[{\"marker\":{\"pattern\":{\"fillmode\":\"overlay\",\"size\":10,\"solidity\":0.2}},\"type\":\"histogram\"}],\"histogram2d\":[{\"colorbar\":{\"outlinewidth\":0,\"ticks\":\"\"},\"colorscale\":[[0.0,\"#0d0887\"],[0.1111111111111111,\"#46039f\"],[0.2222222222222222,\"#7201a8\"],[0.3333333333333333,\"#9c179e\"],[0.4444444444444444,\"#bd3786\"],[0.5555555555555556,\"#d8576b\"],[0.6666666666666666,\"#ed7953\"],[0.7777777777777778,\"#fb9f3a\"],[0.8888888888888888,\"#fdca26\"],[1.0,\"#f0f921\"]],\"type\":\"histogram2d\"}],\"histogram2dcontour\":[{\"colorbar\":{\"outlinewidth\":0,\"ticks\":\"\"},\"colorscale\":[[0.0,\"#0d0887\"],[0.1111111111111111,\"#46039f\"],[0.2222222222222222,\"#7201a8\"],[0.3333333333333333,\"#9c179e\"],[0.4444444444444444,\"#bd3786\"],[0.5555555555555556,\"#d8576b\"],[0.6666666666666666,\"#ed7953\"],[0.7777777777777778,\"#fb9f3a\"],[0.8888888888888888,\"#fdca26\"],[1.0,\"#f0f921\"]],\"type\":\"histogram2dcontour\"}],\"mesh3d\":[{\"colorbar\":{\"outlinewidth\":0,\"ticks\":\"\"},\"type\":\"mesh3d\"}],\"parcoords\":[{\"line\":{\"colorbar\":{\"outlinewidth\":0,\"ticks\":\"\"}},\"type\":\"parcoords\"}],\"pie\":[{\"automargin\":true,\"type\":\"pie\"}],\"scatter\":[{\"marker\":{\"colorbar\":{\"outlinewidth\":0,\"ticks\":\"\"}},\"type\":\"scatter\"}],\"scatter3d\":[{\"line\":{\"colorbar\":{\"outlinewidth\":0,\"ticks\":\"\"}},\"marker\":{\"colorbar\":{\"outlinewidth\":0,\"ticks\":\"\"}},\"type\":\"scatter3d\"}],\"scattercarpet\":[{\"marker\":{\"colorbar\":{\"outlinewidth\":0,\"ticks\":\"\"}},\"type\":\"scattercarpet\"}],\"scattergeo\":[{\"marker\":{\"colorbar\":{\"outlinewidth\":0,\"ticks\":\"\"}},\"type\":\"scattergeo\"}],\"scattergl\":[{\"marker\":{\"colorbar\":{\"outlinewidth\":0,\"ticks\":\"\"}},\"type\":\"scattergl\"}],\"scattermapbox\":[{\"marker\":{\"colorbar\":{\"outlinewidth\":0,\"ticks\":\"\"}},\"type\":\"scattermapbox\"}],\"scatterpolar\":[{\"marker\":{\"colorbar\":{\"outlinewidth\":0,\"ticks\":\"\"}},\"type\":\"scatterpolar\"}],\"scatterpolargl\":[{\"marker\":{\"colorbar\":{\"outlinewidth\":0,\"ticks\":\"\"}},\"type\":\"scatterpolargl\"}],\"scatterternary\":[{\"marker\":{\"colorbar\":{\"outlinewidth\":0,\"ticks\":\"\"}},\"type\":\"scatterternary\"}],\"surface\":[{\"colorbar\":{\"outlinewidth\":0,\"ticks\":\"\"},\"colorscale\":[[0.0,\"#0d0887\"],[0.1111111111111111,\"#46039f\"],[0.2222222222222222,\"#7201a8\"],[0.3333333333333333,\"#9c179e\"],[0.4444444444444444,\"#bd3786\"],[0.5555555555555556,\"#d8576b\"],[0.6666666666666666,\"#ed7953\"],[0.7777777777777778,\"#fb9f3a\"],[0.8888888888888888,\"#fdca26\"],[1.0,\"#f0f921\"]],\"type\":\"surface\"}],\"table\":[{\"cells\":{\"fill\":{\"color\":\"#EBF0F8\"},\"line\":{\"color\":\"white\"}},\"header\":{\"fill\":{\"color\":\"#C8D4E3\"},\"line\":{\"color\":\"white\"}},\"type\":\"table\"}]},\"layout\":{\"annotationdefaults\":{\"arrowcolor\":\"#2a3f5f\",\"arrowhead\":0,\"arrowwidth\":1},\"autotypenumbers\":\"strict\",\"coloraxis\":{\"colorbar\":{\"outlinewidth\":0,\"ticks\":\"\"}},\"colorscale\":{\"diverging\":[[0,\"#8e0152\"],[0.1,\"#c51b7d\"],[0.2,\"#de77ae\"],[0.3,\"#f1b6da\"],[0.4,\"#fde0ef\"],[0.5,\"#f7f7f7\"],[0.6,\"#e6f5d0\"],[0.7,\"#b8e186\"],[0.8,\"#7fbc41\"],[0.9,\"#4d9221\"],[1,\"#276419\"]],\"sequential\":[[0.0,\"#0d0887\"],[0.1111111111111111,\"#46039f\"],[0.2222222222222222,\"#7201a8\"],[0.3333333333333333,\"#9c179e\"],[0.4444444444444444,\"#bd3786\"],[0.5555555555555556,\"#d8576b\"],[0.6666666666666666,\"#ed7953\"],[0.7777777777777778,\"#fb9f3a\"],[0.8888888888888888,\"#fdca26\"],[1.0,\"#f0f921\"]],\"sequentialminus\":[[0.0,\"#0d0887\"],[0.1111111111111111,\"#46039f\"],[0.2222222222222222,\"#7201a8\"],[0.3333333333333333,\"#9c179e\"],[0.4444444444444444,\"#bd3786\"],[0.5555555555555556,\"#d8576b\"],[0.6666666666666666,\"#ed7953\"],[0.7777777777777778,\"#fb9f3a\"],[0.8888888888888888,\"#fdca26\"],[1.0,\"#f0f921\"]]},\"colorway\":[\"#636efa\",\"#EF553B\",\"#00cc96\",\"#ab63fa\",\"#FFA15A\",\"#19d3f3\",\"#FF6692\",\"#B6E880\",\"#FF97FF\",\"#FECB52\"],\"font\":{\"color\":\"#2a3f5f\"},\"geo\":{\"bgcolor\":\"white\",\"lakecolor\":\"white\",\"landcolor\":\"#E5ECF6\",\"showlakes\":true,\"showland\":true,\"subunitcolor\":\"white\"},\"hoverlabel\":{\"align\":\"left\"},\"hovermode\":\"closest\",\"mapbox\":{\"style\":\"light\"},\"paper_bgcolor\":\"white\",\"plot_bgcolor\":\"#E5ECF6\",\"polar\":{\"angularaxis\":{\"gridcolor\":\"white\",\"linecolor\":\"white\",\"ticks\":\"\"},\"bgcolor\":\"#E5ECF6\",\"radialaxis\":{\"gridcolor\":\"white\",\"linecolor\":\"white\",\"ticks\":\"\"}},\"scene\":{\"xaxis\":{\"backgroundcolor\":\"#E5ECF6\",\"gridcolor\":\"white\",\"gridwidth\":2,\"linecolor\":\"white\",\"showbackground\":true,\"ticks\":\"\",\"zerolinecolor\":\"white\"},\"yaxis\":{\"backgroundcolor\":\"#E5ECF6\",\"gridcolor\":\"white\",\"gridwidth\":2,\"linecolor\":\"white\",\"showbackground\":true,\"ticks\":\"\",\"zerolinecolor\":\"white\"},\"zaxis\":{\"backgroundcolor\":\"#E5ECF6\",\"gridcolor\":\"white\",\"gridwidth\":2,\"linecolor\":\"white\",\"showbackground\":true,\"ticks\":\"\",\"zerolinecolor\":\"white\"}},\"shapedefaults\":{\"line\":{\"color\":\"#2a3f5f\"}},\"ternary\":{\"aaxis\":{\"gridcolor\":\"white\",\"linecolor\":\"white\",\"ticks\":\"\"},\"baxis\":{\"gridcolor\":\"white\",\"linecolor\":\"white\",\"ticks\":\"\"},\"bgcolor\":\"#E5ECF6\",\"caxis\":{\"gridcolor\":\"white\",\"linecolor\":\"white\",\"ticks\":\"\"}},\"title\":{\"x\":0.05},\"xaxis\":{\"automargin\":true,\"gridcolor\":\"white\",\"linecolor\":\"white\",\"ticks\":\"\",\"title\":{\"standoff\":15},\"zerolinecolor\":\"white\",\"zerolinewidth\":2},\"yaxis\":{\"automargin\":true,\"gridcolor\":\"white\",\"linecolor\":\"white\",\"ticks\":\"\",\"title\":{\"standoff\":15},\"zerolinecolor\":\"white\",\"zerolinewidth\":2}}},\"title\":{\"text\":\"Housing Units Per Year\"},\"width\":1000,\"xaxis\":{\"anchor\":\"y\",\"domain\":[0.0,1.0],\"title\":{\"text\":\"year\"}},\"yaxis\":{\"anchor\":\"x\",\"domain\":[0.0,1.0],\"title\":{\"text\":\"housing_units\"}}},                        {\"responsive\": true}                    ).then(function(){\n",
       "                            \n",
       "var gd = document.getElementById('e0730c09-75f1-4e7d-a4e4-bea3d0aa60ae');\n",
       "var x = new MutationObserver(function (mutations, observer) {{\n",
       "        var display = window.getComputedStyle(gd).display;\n",
       "        if (!display || display === 'none') {{\n",
       "            console.log([gd, 'removed!']);\n",
       "            Plotly.purge(gd);\n",
       "            observer.disconnect();\n",
       "        }}\n",
       "}});\n",
       "\n",
       "// Listen for the removal of the full notebook cells\n",
       "var notebookContainer = gd.closest('#notebook-container');\n",
       "if (notebookContainer) {{\n",
       "    x.observe(notebookContainer, {childList: true});\n",
       "}}\n",
       "\n",
       "// Listen for the clearing of the current output cell\n",
       "var outputEl = gd.closest('.output');\n",
       "if (outputEl) {{\n",
       "    x.observe(outputEl, {childList: true});\n",
       "}}\n",
       "\n",
       "                        })                };                });            </script>        </div>"
      ]
     },
     "metadata": {},
     "output_type": "display_data"
    }
   ],
   "source": [
    "housing_units_per_year()"
   ]
  },
  {
   "cell_type": "code",
   "execution_count": 169,
   "metadata": {},
   "outputs": [
    {
     "data": {},
     "metadata": {},
     "output_type": "display_data"
    },
    {
     "data": {
      "application/vnd.holoviews_exec.v0+json": "",
      "text/html": [
       "<div id='1432'>\n",
       "\n",
       "\n",
       "\n",
       "\n",
       "\n",
       "  <div class=\"bk-root\" id=\"d613a1d7-eca2-4d15-903d-2e1828d8c027\" data-root-id=\"1432\"></div>\n",
       "</div>\n",
       "<script type=\"application/javascript\">(function(root) {\n",
       "  function embed_document(root) {\n",
       "    var docs_json = {\"4e780f47-ab74-4154-8a0d-2cd557971888\":{\"defs\":[{\"extends\":null,\"module\":null,\"name\":\"ReactiveHTML1\",\"overrides\":[],\"properties\":[]},{\"extends\":null,\"module\":null,\"name\":\"FlexBox1\",\"overrides\":[],\"properties\":[{\"default\":\"flex-start\",\"kind\":null,\"name\":\"align_content\"},{\"default\":\"flex-start\",\"kind\":null,\"name\":\"align_items\"},{\"default\":\"row\",\"kind\":null,\"name\":\"flex_direction\"},{\"default\":\"wrap\",\"kind\":null,\"name\":\"flex_wrap\"},{\"default\":\"flex-start\",\"kind\":null,\"name\":\"justify_content\"}]},{\"extends\":null,\"module\":null,\"name\":\"TemplateActions1\",\"overrides\":[],\"properties\":[{\"default\":0,\"kind\":null,\"name\":\"open_modal\"},{\"default\":0,\"kind\":null,\"name\":\"close_modal\"}]},{\"extends\":null,\"module\":null,\"name\":\"MaterialTemplateActions1\",\"overrides\":[],\"properties\":[{\"default\":0,\"kind\":null,\"name\":\"open_modal\"},{\"default\":0,\"kind\":null,\"name\":\"close_modal\"}]}],\"roots\":{\"references\":[{\"attributes\":{\"below\":[{\"id\":\"1446\"}],\"center\":[{\"id\":\"1449\"},{\"id\":\"1453\"}],\"height\":300,\"left\":[{\"id\":\"1450\"}],\"margin\":[5,5,5,5],\"min_border_bottom\":10,\"min_border_left\":10,\"min_border_right\":10,\"min_border_top\":10,\"renderers\":[{\"id\":\"1473\"}],\"sizing_mode\":\"fixed\",\"title\":{\"id\":\"1438\"},\"toolbar\":{\"id\":\"1460\"},\"width\":700,\"x_range\":{\"id\":\"1434\"},\"x_scale\":{\"id\":\"1442\"},\"y_range\":{\"id\":\"1435\"},\"y_scale\":{\"id\":\"1444\"}},\"id\":\"1437\",\"subtype\":\"Figure\",\"type\":\"Plot\"},{\"attributes\":{\"bottom_units\":\"screen\",\"fill_alpha\":0.5,\"fill_color\":\"lightgrey\",\"left_units\":\"screen\",\"level\":\"overlay\",\"line_alpha\":1.0,\"line_color\":\"black\",\"line_dash\":[4,4],\"line_width\":2,\"right_units\":\"screen\",\"syncable\":false,\"top_units\":\"screen\"},\"id\":\"1459\",\"type\":\"BoxAnnotation\"},{\"attributes\":{\"source\":{\"id\":\"1467\"}},\"id\":\"1474\",\"type\":\"CDSView\"},{\"attributes\":{\"callback\":null,\"renderers\":[{\"id\":\"1473\"}],\"tags\":[\"hv_created\"],\"tooltips\":[[\"year\",\"@{year}\"],[\"housing_units\",\"@{housing_units}\"]]},\"id\":\"1436\",\"type\":\"HoverTool\"},{\"attributes\":{},\"id\":\"1458\",\"type\":\"ResetTool\"},{\"attributes\":{\"axis\":{\"id\":\"1450\"},\"dimension\":1,\"grid_line_color\":null,\"ticker\":null},\"id\":\"1453\",\"type\":\"Grid\"},{\"attributes\":{},\"id\":\"1468\",\"type\":\"Selection\"},{\"attributes\":{\"text\":\"Gross Rent\",\"text_color\":\"black\",\"text_font_size\":\"12pt\"},\"id\":\"1438\",\"type\":\"Title\"},{\"attributes\":{},\"id\":\"1478\",\"type\":\"BasicTickFormatter\"},{\"attributes\":{},\"id\":\"1447\",\"type\":\"BasicTicker\"},{\"attributes\":{\"axis\":{\"id\":\"1446\"},\"grid_line_color\":null,\"ticker\":null},\"id\":\"1449\",\"type\":\"Grid\"},{\"attributes\":{},\"id\":\"1491\",\"type\":\"UnionRenderers\"},{\"attributes\":{},\"id\":\"1451\",\"type\":\"BasicTicker\"},{\"attributes\":{},\"id\":\"1481\",\"type\":\"BasicTickFormatter\"},{\"attributes\":{\"axis_label\":\"housing_units\",\"formatter\":{\"id\":\"1481\"},\"major_label_policy\":{\"id\":\"1480\"},\"ticker\":{\"id\":\"1451\"}},\"id\":\"1450\",\"type\":\"LinearAxis\"},{\"attributes\":{\"margin\":[5,5,5,5],\"name\":\"HSpacer03224\",\"sizing_mode\":\"stretch_width\"},\"id\":\"1502\",\"type\":\"Spacer\"},{\"attributes\":{\"line_alpha\":0.2,\"line_color\":\"#30a2da\",\"line_width\":2,\"x\":{\"field\":\"year\"},\"y\":{\"field\":\"housing_units\"}},\"id\":\"1472\",\"type\":\"Line\"},{\"attributes\":{},\"id\":\"1477\",\"type\":\"AllLabels\"},{\"attributes\":{\"data\":{\"housing_units\":[372560,374507,376454,378401,380348,382295,384242],\"year\":[2010,2011,2012,2013,2014,2015,2016]},\"selected\":{\"id\":\"1468\"},\"selection_policy\":{\"id\":\"1491\"}},\"id\":\"1467\",\"type\":\"ColumnDataSource\"},{\"attributes\":{\"end\":385410.2,\"reset_end\":385410.2,\"reset_start\":371391.8,\"start\":371391.8,\"tags\":[[[\"housing_units\",\"housing_units\",null]]]},\"id\":\"1435\",\"type\":\"Range1d\"},{\"attributes\":{\"line_alpha\":0.1,\"line_color\":\"#30a2da\",\"line_width\":2,\"x\":{\"field\":\"year\"},\"y\":{\"field\":\"housing_units\"}},\"id\":\"1471\",\"type\":\"Line\"},{\"attributes\":{\"end\":2016.0,\"reset_end\":2016.0,\"reset_start\":2010.0,\"start\":2010.0,\"tags\":[[[\"year\",\"year\",null]]]},\"id\":\"1434\",\"type\":\"Range1d\"},{\"attributes\":{\"active_multi\":null,\"tools\":[{\"id\":\"1436\"},{\"id\":\"1454\"},{\"id\":\"1455\"},{\"id\":\"1456\"},{\"id\":\"1457\"},{\"id\":\"1458\"}]},\"id\":\"1460\",\"type\":\"Toolbar\"},{\"attributes\":{\"margin\":[5,5,5,5],\"name\":\"HSpacer03223\",\"sizing_mode\":\"stretch_width\"},\"id\":\"1433\",\"type\":\"Spacer\"},{\"attributes\":{\"axis_label\":\"year\",\"formatter\":{\"id\":\"1478\"},\"major_label_policy\":{\"id\":\"1477\"},\"ticker\":{\"id\":\"1447\"}},\"id\":\"1446\",\"type\":\"LinearAxis\"},{\"attributes\":{},\"id\":\"1454\",\"type\":\"SaveTool\"},{\"attributes\":{\"children\":[{\"id\":\"1433\"},{\"id\":\"1437\"},{\"id\":\"1502\"}],\"margin\":[0,0,0,0],\"name\":\"Row03219\",\"tags\":[\"embedded\"]},\"id\":\"1432\",\"type\":\"Row\"},{\"attributes\":{\"data_source\":{\"id\":\"1467\"},\"glyph\":{\"id\":\"1470\"},\"hover_glyph\":null,\"muted_glyph\":{\"id\":\"1472\"},\"nonselection_glyph\":{\"id\":\"1471\"},\"selection_glyph\":{\"id\":\"1475\"},\"view\":{\"id\":\"1474\"}},\"id\":\"1473\",\"type\":\"GlyphRenderer\"},{\"attributes\":{},\"id\":\"1455\",\"type\":\"PanTool\"},{\"attributes\":{\"line_color\":\"#30a2da\",\"line_width\":2,\"x\":{\"field\":\"year\"},\"y\":{\"field\":\"housing_units\"}},\"id\":\"1470\",\"type\":\"Line\"},{\"attributes\":{\"line_color\":\"#30a2da\",\"line_width\":2,\"x\":{\"field\":\"year\"},\"y\":{\"field\":\"housing_units\"}},\"id\":\"1475\",\"type\":\"Line\"},{\"attributes\":{},\"id\":\"1442\",\"type\":\"LinearScale\"},{\"attributes\":{},\"id\":\"1480\",\"type\":\"AllLabels\"},{\"attributes\":{},\"id\":\"1456\",\"type\":\"WheelZoomTool\"},{\"attributes\":{\"overlay\":{\"id\":\"1459\"}},\"id\":\"1457\",\"type\":\"BoxZoomTool\"},{\"attributes\":{},\"id\":\"1444\",\"type\":\"LinearScale\"}],\"root_ids\":[\"1432\"]},\"title\":\"Bokeh Application\",\"version\":\"2.3.2\"}};\n",
       "    var render_items = [{\"docid\":\"4e780f47-ab74-4154-8a0d-2cd557971888\",\"root_ids\":[\"1432\"],\"roots\":{\"1432\":\"d613a1d7-eca2-4d15-903d-2e1828d8c027\"}}];\n",
       "    root.Bokeh.embed.embed_items_notebook(docs_json, render_items);\n",
       "  }\n",
       "  if (root.Bokeh !== undefined && root.Bokeh.Panel !== undefined && ( root['Plotly'] !== undefined)) {\n",
       "    embed_document(root);\n",
       "  } else {\n",
       "    var attempts = 0;\n",
       "    var timer = setInterval(function(root) {\n",
       "      if (root.Bokeh !== undefined && root.Bokeh.Panel !== undefined && (root['Plotly'] !== undefined)) {\n",
       "        clearInterval(timer);\n",
       "        embed_document(root);\n",
       "      } else if (document.readyState == \"complete\") {\n",
       "        attempts++;\n",
       "        if (attempts > 200) {\n",
       "          clearInterval(timer);\n",
       "          console.log(\"Bokeh: ERROR: Unable to run BokehJS code because BokehJS library is missing\");\n",
       "        }\n",
       "      }\n",
       "    }, 25, root)\n",
       "  }\n",
       "})(window);</script>"
      ],
      "text/plain": [
       ":Curve   [year]   (housing_units)"
      ]
     },
     "execution_count": 169,
     "metadata": {
      "application/vnd.holoviews_exec.v0+json": {
       "id": "1432"
      }
     },
     "output_type": "execute_result"
    }
   ],
   "source": [
    "average_gross_rent()"
   ]
  },
  {
   "cell_type": "code",
   "execution_count": 182,
   "metadata": {},
   "outputs": [
    {
     "data": {},
     "metadata": {},
     "output_type": "display_data"
    },
    {
     "data": {
      "application/vnd.holoviews_exec.v0+json": "",
      "text/html": [
       "<div id='1554'>\n",
       "\n",
       "\n",
       "\n",
       "\n",
       "\n",
       "  <div class=\"bk-root\" id=\"2d34d69a-7676-44af-88bb-bf7eab7f6867\" data-root-id=\"1554\"></div>\n",
       "</div>\n",
       "<script type=\"application/javascript\">(function(root) {\n",
       "  function embed_document(root) {\n",
       "    var docs_json = {\"6acd5adb-6e1c-4711-b3e7-7eea4a0b88c9\":{\"defs\":[{\"extends\":null,\"module\":null,\"name\":\"ReactiveHTML1\",\"overrides\":[],\"properties\":[]},{\"extends\":null,\"module\":null,\"name\":\"FlexBox1\",\"overrides\":[],\"properties\":[{\"default\":\"flex-start\",\"kind\":null,\"name\":\"align_content\"},{\"default\":\"flex-start\",\"kind\":null,\"name\":\"align_items\"},{\"default\":\"row\",\"kind\":null,\"name\":\"flex_direction\"},{\"default\":\"wrap\",\"kind\":null,\"name\":\"flex_wrap\"},{\"default\":\"flex-start\",\"kind\":null,\"name\":\"justify_content\"}]},{\"extends\":null,\"module\":null,\"name\":\"TemplateActions1\",\"overrides\":[],\"properties\":[{\"default\":0,\"kind\":null,\"name\":\"open_modal\"},{\"default\":0,\"kind\":null,\"name\":\"close_modal\"}]},{\"extends\":null,\"module\":null,\"name\":\"MaterialTemplateActions1\",\"overrides\":[],\"properties\":[{\"default\":0,\"kind\":null,\"name\":\"open_modal\"},{\"default\":0,\"kind\":null,\"name\":\"close_modal\"}]}],\"roots\":{\"references\":[{\"attributes\":{},\"id\":\"1566\",\"type\":\"LinearScale\"},{\"attributes\":{\"active_multi\":null,\"tools\":[{\"id\":\"1558\"},{\"id\":\"1576\"},{\"id\":\"1577\"},{\"id\":\"1578\"},{\"id\":\"1579\"},{\"id\":\"1580\"}]},\"id\":\"1582\",\"type\":\"Toolbar\"},{\"attributes\":{},\"id\":\"1580\",\"type\":\"ResetTool\"},{\"attributes\":{\"margin\":[5,5,5,5],\"name\":\"HSpacer03740\",\"sizing_mode\":\"stretch_width\"},\"id\":\"1555\",\"type\":\"Spacer\"},{\"attributes\":{\"data_source\":{\"id\":\"1589\"},\"glyph\":{\"id\":\"1592\"},\"hover_glyph\":null,\"muted_glyph\":{\"id\":\"1594\"},\"nonselection_glyph\":{\"id\":\"1593\"},\"selection_glyph\":{\"id\":\"1597\"},\"view\":{\"id\":\"1596\"}},\"id\":\"1595\",\"type\":\"GlyphRenderer\"},{\"attributes\":{\"below\":[{\"id\":\"1568\"}],\"center\":[{\"id\":\"1571\"},{\"id\":\"1575\"}],\"height\":300,\"left\":[{\"id\":\"1572\"}],\"margin\":[5,5,5,5],\"min_border_bottom\":10,\"min_border_left\":10,\"min_border_right\":10,\"min_border_top\":10,\"renderers\":[{\"id\":\"1595\"}],\"sizing_mode\":\"fixed\",\"title\":{\"id\":\"1560\"},\"toolbar\":{\"id\":\"1582\"},\"width\":700,\"x_range\":{\"id\":\"1556\"},\"x_scale\":{\"id\":\"1564\"},\"y_range\":{\"id\":\"1557\"},\"y_scale\":{\"id\":\"1566\"}},\"id\":\"1559\",\"subtype\":\"Figure\",\"type\":\"Plot\"},{\"attributes\":{\"axis_label\":\"year\",\"formatter\":{\"id\":\"1600\"},\"major_label_policy\":{\"id\":\"1599\"},\"ticker\":{\"id\":\"1569\"}},\"id\":\"1568\",\"type\":\"LinearAxis\"},{\"attributes\":{},\"id\":\"1600\",\"type\":\"BasicTickFormatter\"},{\"attributes\":{},\"id\":\"1613\",\"type\":\"UnionRenderers\"},{\"attributes\":{\"children\":[{\"id\":\"1555\"},{\"id\":\"1559\"},{\"id\":\"1624\"}],\"margin\":[0,0,0,0],\"name\":\"Row03736\",\"tags\":[\"embedded\"]},\"id\":\"1554\",\"type\":\"Row\"},{\"attributes\":{\"axis\":{\"id\":\"1572\"},\"dimension\":1,\"grid_line_color\":null,\"ticker\":null},\"id\":\"1575\",\"type\":\"Grid\"},{\"attributes\":{},\"id\":\"1603\",\"type\":\"BasicTickFormatter\"},{\"attributes\":{},\"id\":\"1569\",\"type\":\"BasicTicker\"},{\"attributes\":{\"axis\":{\"id\":\"1568\"},\"grid_line_color\":null,\"ticker\":null},\"id\":\"1571\",\"type\":\"Grid\"},{\"attributes\":{},\"id\":\"1599\",\"type\":\"AllLabels\"},{\"attributes\":{\"margin\":[5,5,5,5],\"name\":\"HSpacer03741\",\"sizing_mode\":\"stretch_width\"},\"id\":\"1624\",\"type\":\"Spacer\"},{\"attributes\":{},\"id\":\"1590\",\"type\":\"Selection\"},{\"attributes\":{},\"id\":\"1573\",\"type\":\"BasicTicker\"},{\"attributes\":{\"axis_label\":\"sale_price_sqr_foot\",\"formatter\":{\"id\":\"1603\"},\"major_label_policy\":{\"id\":\"1602\"},\"ticker\":{\"id\":\"1573\"}},\"id\":\"1572\",\"type\":\"LinearAxis\"},{\"attributes\":{},\"id\":\"1602\",\"type\":\"AllLabels\"},{\"attributes\":{\"data\":{\"sale_price_sqr_foot\":{\"__ndarray__\":\"tQKjeIIVd0Do7CdydF51QGdijk899nhAaBKk2Jo5fkDGKCTbN2KBQPETFqRSxINAUB33UCbNhUA=\",\"dtype\":\"float64\",\"order\":\"little\",\"shape\":[7]},\"year\":[2010,2011,2012,2013,2014,2015,2016]},\"selected\":{\"id\":\"1590\"},\"selection_policy\":{\"id\":\"1613\"}},\"id\":\"1589\",\"type\":\"ColumnDataSource\"},{\"attributes\":{\"line_alpha\":0.2,\"line_color\":\"#30a2da\",\"line_width\":2,\"x\":{\"field\":\"year\"},\"y\":{\"field\":\"sale_price_sqr_foot\"}},\"id\":\"1594\",\"type\":\"Line\"},{\"attributes\":{\"line_alpha\":0.1,\"line_color\":\"#30a2da\",\"line_width\":2,\"x\":{\"field\":\"year\"},\"y\":{\"field\":\"sale_price_sqr_foot\"}},\"id\":\"1593\",\"type\":\"Line\"},{\"attributes\":{\"end\":2016.0,\"reset_end\":2016.0,\"reset_start\":2010.0,\"start\":2010.0,\"tags\":[[[\"year\",\"year\",null]]]},\"id\":\"1556\",\"type\":\"Range1d\"},{\"attributes\":{\"bottom_units\":\"screen\",\"fill_alpha\":0.5,\"fill_color\":\"lightgrey\",\"left_units\":\"screen\",\"level\":\"overlay\",\"line_alpha\":1.0,\"line_color\":\"black\",\"line_dash\":[4,4],\"line_width\":2,\"right_units\":\"screen\",\"syncable\":false,\"top_units\":\"screen\"},\"id\":\"1581\",\"type\":\"BoxAnnotation\"},{\"attributes\":{\"end\":733.2177371101802,\"reset_end\":733.2177371101802,\"reset_start\":306.3294011864627,\"start\":306.3294011864627,\"tags\":[[[\"sale_price_sqr_foot\",\"sale_price_sqr_foot\",null]]]},\"id\":\"1557\",\"type\":\"Range1d\"},{\"attributes\":{\"text\":\"Sale Price Per Sq Ft\",\"text_color\":\"black\",\"text_font_size\":\"12pt\"},\"id\":\"1560\",\"type\":\"Title\"},{\"attributes\":{},\"id\":\"1576\",\"type\":\"SaveTool\"},{\"attributes\":{},\"id\":\"1577\",\"type\":\"PanTool\"},{\"attributes\":{\"line_color\":\"#30a2da\",\"line_width\":2,\"x\":{\"field\":\"year\"},\"y\":{\"field\":\"sale_price_sqr_foot\"}},\"id\":\"1592\",\"type\":\"Line\"},{\"attributes\":{\"line_color\":\"#30a2da\",\"line_width\":2,\"x\":{\"field\":\"year\"},\"y\":{\"field\":\"sale_price_sqr_foot\"}},\"id\":\"1597\",\"type\":\"Line\"},{\"attributes\":{\"source\":{\"id\":\"1589\"}},\"id\":\"1596\",\"type\":\"CDSView\"},{\"attributes\":{},\"id\":\"1578\",\"type\":\"WheelZoomTool\"},{\"attributes\":{},\"id\":\"1564\",\"type\":\"LinearScale\"},{\"attributes\":{\"overlay\":{\"id\":\"1581\"}},\"id\":\"1579\",\"type\":\"BoxZoomTool\"},{\"attributes\":{\"callback\":null,\"renderers\":[{\"id\":\"1595\"}],\"tags\":[\"hv_created\"],\"tooltips\":[[\"year\",\"@{year}\"],[\"sale_price_sqr_foot\",\"@{sale_price_sqr_foot}\"]]},\"id\":\"1558\",\"type\":\"HoverTool\"}],\"root_ids\":[\"1554\"]},\"title\":\"Bokeh Application\",\"version\":\"2.3.2\"}};\n",
       "    var render_items = [{\"docid\":\"6acd5adb-6e1c-4711-b3e7-7eea4a0b88c9\",\"root_ids\":[\"1554\"],\"roots\":{\"1554\":\"2d34d69a-7676-44af-88bb-bf7eab7f6867\"}}];\n",
       "    root.Bokeh.embed.embed_items_notebook(docs_json, render_items);\n",
       "  }\n",
       "  if (root.Bokeh !== undefined && root.Bokeh.Panel !== undefined && ( root['Plotly'] !== undefined)) {\n",
       "    embed_document(root);\n",
       "  } else {\n",
       "    var attempts = 0;\n",
       "    var timer = setInterval(function(root) {\n",
       "      if (root.Bokeh !== undefined && root.Bokeh.Panel !== undefined && (root['Plotly'] !== undefined)) {\n",
       "        clearInterval(timer);\n",
       "        embed_document(root);\n",
       "      } else if (document.readyState == \"complete\") {\n",
       "        attempts++;\n",
       "        if (attempts > 200) {\n",
       "          clearInterval(timer);\n",
       "          console.log(\"Bokeh: ERROR: Unable to run BokehJS code because BokehJS library is missing\");\n",
       "        }\n",
       "      }\n",
       "    }, 25, root)\n",
       "  }\n",
       "})(window);</script>"
      ],
      "text/plain": [
       ":Curve   [year]   (sale_price_sqr_foot)"
      ]
     },
     "execution_count": 182,
     "metadata": {
      "application/vnd.holoviews_exec.v0+json": {
       "id": "1554"
      }
     },
     "output_type": "execute_result"
    }
   ],
   "source": [
    "avg_sale_price()"
   ]
  },
  {
   "cell_type": "code",
   "execution_count": 184,
   "metadata": {},
   "outputs": [
    {
     "data": {},
     "metadata": {},
     "output_type": "display_data"
    },
    {
     "data": {
      "application/vnd.holoviews_exec.v0+json": "",
      "text/html": [
       "<div id='1676'>\n",
       "\n",
       "\n",
       "\n",
       "\n",
       "\n",
       "  <div class=\"bk-root\" id=\"9b21ccd7-3851-4695-ae00-07baf38d4755\" data-root-id=\"1676\"></div>\n",
       "</div>\n",
       "<script type=\"application/javascript\">(function(root) {\n",
       "  function embed_document(root) {\n",
       "    var docs_json = {\"cfdb31ad-d6fe-4ca4-bf33-e39badcc1d08\":{\"defs\":[{\"extends\":null,\"module\":null,\"name\":\"ReactiveHTML1\",\"overrides\":[],\"properties\":[]},{\"extends\":null,\"module\":null,\"name\":\"FlexBox1\",\"overrides\":[],\"properties\":[{\"default\":\"flex-start\",\"kind\":null,\"name\":\"align_content\"},{\"default\":\"flex-start\",\"kind\":null,\"name\":\"align_items\"},{\"default\":\"row\",\"kind\":null,\"name\":\"flex_direction\"},{\"default\":\"wrap\",\"kind\":null,\"name\":\"flex_wrap\"},{\"default\":\"flex-start\",\"kind\":null,\"name\":\"justify_content\"}]},{\"extends\":null,\"module\":null,\"name\":\"TemplateActions1\",\"overrides\":[],\"properties\":[{\"default\":0,\"kind\":null,\"name\":\"open_modal\"},{\"default\":0,\"kind\":null,\"name\":\"close_modal\"}]},{\"extends\":null,\"module\":null,\"name\":\"MaterialTemplateActions1\",\"overrides\":[],\"properties\":[{\"default\":0,\"kind\":null,\"name\":\"open_modal\"},{\"default\":0,\"kind\":null,\"name\":\"close_modal\"}]}],\"roots\":{\"references\":[{\"attributes\":{\"axis\":{\"id\":\"1690\"},\"grid_line_color\":null,\"ticker\":null},\"id\":\"1693\",\"type\":\"Grid\"},{\"attributes\":{},\"id\":\"1695\",\"type\":\"BasicTicker\"},{\"attributes\":{\"data\":{\"sale_price_sqr_foot\":{\"__ndarray__\":\"Dkc7WO0yckCafszcbwhxQIGRs5ot42ZAJzog0LQ8eEAWMinKGEd+QI0V5FDt0IJAVCHcmLVPdUA=\",\"dtype\":\"float64\",\"order\":\"little\",\"shape\":[7]},\"year\":[2010,2011,2012,2013,2014,2015,2016]},\"selected\":{\"id\":\"1712\"},\"selection_policy\":{\"id\":\"1741\"}},\"id\":\"1711\",\"type\":\"ColumnDataSource\"},{\"attributes\":{\"end\":2016.0,\"reset_end\":2016.0,\"reset_start\":2010.0,\"start\":2010.0,\"tags\":[[[\"year\",\"year\",null]]]},\"id\":\"1678\",\"type\":\"Range1d\"},{\"attributes\":{\"axis_label\":\"sale_price_sqr_foot\",\"formatter\":{\"id\":\"1725\"},\"major_label_policy\":{\"id\":\"1724\"},\"ticker\":{\"id\":\"1695\"}},\"id\":\"1694\",\"type\":\"LinearAxis\"},{\"attributes\":{},\"id\":\"1725\",\"type\":\"BasicTickFormatter\"},{\"attributes\":{\"line_color\":\"#30a2da\",\"line_width\":2,\"x\":{\"field\":\"year\"},\"y\":{\"field\":\"sale_price_sqr_foot\"}},\"id\":\"1719\",\"type\":\"Line\"},{\"attributes\":{\"line_color\":\"#30a2da\",\"line_width\":2,\"x\":{\"field\":\"year\"},\"y\":{\"field\":\"sale_price_sqr_foot\"}},\"id\":\"1714\",\"type\":\"Line\"},{\"attributes\":{\"source\":{\"id\":\"1711\"}},\"id\":\"1718\",\"type\":\"CDSView\"},{\"attributes\":{\"line_alpha\":0.2,\"line_color\":\"#30a2da\",\"line_width\":2,\"x\":{\"field\":\"year\"},\"y\":{\"field\":\"sale_price_sqr_foot\"}},\"id\":\"1716\",\"type\":\"Line\"},{\"attributes\":{\"bottom_units\":\"screen\",\"fill_alpha\":0.5,\"fill_color\":\"lightgrey\",\"left_units\":\"screen\",\"level\":\"overlay\",\"line_alpha\":1.0,\"line_color\":\"black\",\"line_dash\":[4,4],\"line_width\":2,\"right_units\":\"screen\",\"syncable\":false,\"top_units\":\"screen\"},\"id\":\"1703\",\"type\":\"BoxAnnotation\"},{\"attributes\":{\"below\":[{\"id\":\"1690\"}],\"center\":[{\"id\":\"1693\"},{\"id\":\"1697\"}],\"height\":300,\"left\":[{\"id\":\"1694\"}],\"margin\":[5,5,5,5],\"min_border_bottom\":10,\"min_border_left\":10,\"min_border_right\":10,\"min_border_top\":10,\"renderers\":[{\"id\":\"1717\"}],\"sizing_mode\":\"fixed\",\"title\":{\"id\":\"1682\"},\"toolbar\":{\"id\":\"1704\"},\"width\":700,\"x_range\":{\"id\":\"1678\"},\"x_scale\":{\"id\":\"1686\"},\"y_range\":{\"id\":\"1679\"},\"y_scale\":{\"id\":\"1688\"}},\"id\":\"1681\",\"subtype\":\"Figure\",\"type\":\"Plot\"},{\"attributes\":{},\"id\":\"1686\",\"type\":\"LinearScale\"},{\"attributes\":{\"active_multi\":null,\"tools\":[{\"id\":\"1680\"},{\"id\":\"1698\"},{\"id\":\"1699\"},{\"id\":\"1700\"},{\"id\":\"1701\"},{\"id\":\"1702\"}]},\"id\":\"1704\",\"type\":\"Toolbar\"},{\"attributes\":{},\"id\":\"1712\",\"type\":\"Selection\"},{\"attributes\":{\"children\":[{\"id\":\"1754\"},{\"id\":\"1755\"},{\"id\":\"1757\"}],\"margin\":[0,0,0,0],\"name\":\"Column03870\"},\"id\":\"1753\",\"type\":\"Column\"},{\"attributes\":{\"axis_label\":\"year\",\"formatter\":{\"id\":\"1722\"},\"major_label_policy\":{\"id\":\"1721\"},\"ticker\":{\"id\":\"1691\"}},\"id\":\"1690\",\"type\":\"LinearAxis\"},{\"attributes\":{},\"id\":\"1698\",\"type\":\"SaveTool\"},{\"attributes\":{\"end\":644.0175329447045,\"reset_end\":644.0175329447045,\"reset_start\":141.1976609302527,\"start\":141.1976609302527,\"tags\":[[[\"sale_price_sqr_foot\",\"sale_price_sqr_foot\",null]]]},\"id\":\"1679\",\"type\":\"Range1d\"},{\"attributes\":{},\"id\":\"1699\",\"type\":\"PanTool\"},{\"attributes\":{\"margin\":[5,5,5,5],\"name\":\"HSpacer03871\",\"sizing_mode\":\"stretch_width\"},\"id\":\"1677\",\"type\":\"Spacer\"},{\"attributes\":{},\"id\":\"1700\",\"type\":\"WheelZoomTool\"},{\"attributes\":{},\"id\":\"1741\",\"type\":\"UnionRenderers\"},{\"attributes\":{\"margin\":[5,5,5,5],\"name\":\"VSpacer03868\",\"sizing_mode\":\"stretch_height\"},\"id\":\"1754\",\"type\":\"Spacer\"},{\"attributes\":{},\"id\":\"1688\",\"type\":\"LinearScale\"},{\"attributes\":{\"overlay\":{\"id\":\"1703\"}},\"id\":\"1701\",\"type\":\"BoxZoomTool\"},{\"attributes\":{\"margin\":[20,20,20,20],\"min_width\":250,\"options\":[\"Alamo Square\",\"Anza Vista\",\"Bayview\",\"Buena Vista Park\",\"Central Richmond\",\"Central Sunset\",\"Corona Heights\",\"Cow Hollow\",\"Croker Amazon\",\"Diamond Heights\",\"Downtown \",\"Eureka Valley/Dolores Heights\",\"Excelsior\",\"Financial District North\",\"Financial District South\",\"Forest Knolls\",\"Glen Park\",\"Golden Gate Heights\",\"Haight Ashbury\",\"Hayes Valley\",\"Hunters Point\",\"Ingleside \",\"Inner Mission\",\"Inner Parkside\",\"Inner Richmond\",\"Inner Sunset\",\"Jordan Park/Laurel Heights\",\"Lake --The Presidio\",\"Lone Mountain\",\"Lower Pacific Heights\",\"Marina\",\"Miraloma Park\",\"Mission Bay\",\"Mission Dolores\",\"Mission Terrace\",\"Nob Hill\",\"Noe Valley\",\"Oceanview\",\"Outer Parkside\",\"Outer Richmond \",\"Outer Sunset\",\"Pacific Heights\",\"Park North\",\"Parkside\",\"Parnassus/Ashbury Heights\",\"Portola\",\"Potrero Hill\",\"Presidio Heights\",\"Russian Hill\",\"South Beach\",\"South of Market\",\"Sunnyside\",\"Telegraph Hill\",\"Twin Peaks\",\"Union Square District\",\"Van Ness/ Civic Center\",\"West Portal\",\"Western Addition\",\"Yerba Buena\",\"Bernal Heights \",\"Clarendon Heights\",\"Duboce Triangle\",\"Ingleside Heights\",\"North Beach\",\"North Waterfront\",\"Outer Mission\",\"Westwood Highlands\",\"Merced Heights\",\"Midtown Terrace\",\"Visitacion Valley\",\"Silver Terrace\",\"Westwood Park\",\"Bayview Heights\"],\"title\":\"neighborhood\",\"value\":\"Alamo Square\",\"width\":250},\"id\":\"1756\",\"type\":\"Select\"},{\"attributes\":{\"data_source\":{\"id\":\"1711\"},\"glyph\":{\"id\":\"1714\"},\"hover_glyph\":null,\"muted_glyph\":{\"id\":\"1716\"},\"nonselection_glyph\":{\"id\":\"1715\"},\"selection_glyph\":{\"id\":\"1719\"},\"view\":{\"id\":\"1718\"}},\"id\":\"1717\",\"type\":\"GlyphRenderer\"},{\"attributes\":{},\"id\":\"1691\",\"type\":\"BasicTicker\"},{\"attributes\":{\"client_comm_id\":\"f4479e846d5a467383af9d1467a0f038\",\"comm_id\":\"13a0315745a64ca7bec2b5572e2a383c\",\"plot_id\":\"1676\"},\"id\":\"1788\",\"type\":\"panel.models.comm_manager.CommManager\"},{\"attributes\":{\"children\":[{\"id\":\"1677\"},{\"id\":\"1681\"},{\"id\":\"1752\"},{\"id\":\"1753\"}],\"margin\":[0,0,0,0],\"name\":\"Row03862\"},\"id\":\"1676\",\"type\":\"Row\"},{\"attributes\":{\"margin\":[5,5,5,5],\"name\":\"HSpacer03872\",\"sizing_mode\":\"stretch_width\"},\"id\":\"1752\",\"type\":\"Spacer\"},{\"attributes\":{\"callback\":null,\"renderers\":[{\"id\":\"1717\"}],\"tags\":[\"hv_created\"],\"tooltips\":[[\"year\",\"@{year}\"],[\"sale_price_sqr_foot\",\"@{sale_price_sqr_foot}\"]]},\"id\":\"1680\",\"type\":\"HoverTool\"},{\"attributes\":{},\"id\":\"1702\",\"type\":\"ResetTool\"},{\"attributes\":{\"line_alpha\":0.1,\"line_color\":\"#30a2da\",\"line_width\":2,\"x\":{\"field\":\"year\"},\"y\":{\"field\":\"sale_price_sqr_foot\"}},\"id\":\"1715\",\"type\":\"Line\"},{\"attributes\":{\"margin\":[5,5,5,5],\"name\":\"VSpacer03869\",\"sizing_mode\":\"stretch_height\"},\"id\":\"1757\",\"type\":\"Spacer\"},{\"attributes\":{},\"id\":\"1721\",\"type\":\"AllLabels\"},{\"attributes\":{\"axis\":{\"id\":\"1694\"},\"dimension\":1,\"grid_line_color\":null,\"ticker\":null},\"id\":\"1697\",\"type\":\"Grid\"},{\"attributes\":{\"children\":[{\"id\":\"1756\"}],\"css_classes\":[\"panel-widget-box\"],\"margin\":[5,5,5,5],\"name\":\"WidgetBox03863\"},\"id\":\"1755\",\"type\":\"Column\"},{\"attributes\":{\"text\":\"neighborhood: Alamo Square\",\"text_color\":\"black\",\"text_font_size\":\"12pt\"},\"id\":\"1682\",\"type\":\"Title\"},{\"attributes\":{},\"id\":\"1722\",\"type\":\"BasicTickFormatter\"},{\"attributes\":{},\"id\":\"1724\",\"type\":\"AllLabels\"}],\"root_ids\":[\"1676\",\"1788\"]},\"title\":\"Bokeh Application\",\"version\":\"2.3.2\"}};\n",
       "    var render_items = [{\"docid\":\"cfdb31ad-d6fe-4ca4-bf33-e39badcc1d08\",\"root_ids\":[\"1676\"],\"roots\":{\"1676\":\"9b21ccd7-3851-4695-ae00-07baf38d4755\"}}];\n",
       "    root.Bokeh.embed.embed_items_notebook(docs_json, render_items);\n",
       "  }\n",
       "  if (root.Bokeh !== undefined && root.Bokeh.Panel !== undefined && ( root['Plotly'] !== undefined)) {\n",
       "    embed_document(root);\n",
       "  } else {\n",
       "    var attempts = 0;\n",
       "    var timer = setInterval(function(root) {\n",
       "      if (root.Bokeh !== undefined && root.Bokeh.Panel !== undefined && (root['Plotly'] !== undefined)) {\n",
       "        clearInterval(timer);\n",
       "        embed_document(root);\n",
       "      } else if (document.readyState == \"complete\") {\n",
       "        attempts++;\n",
       "        if (attempts > 200) {\n",
       "          clearInterval(timer);\n",
       "          console.log(\"Bokeh: ERROR: Unable to run BokehJS code because BokehJS library is missing\");\n",
       "        }\n",
       "      }\n",
       "    }, 25, root)\n",
       "  }\n",
       "})(window);</script>"
      ],
      "text/plain": [
       ":DynamicMap   [neighborhood]\n",
       "   :Curve   [year]   (sale_price_sqr_foot)"
      ]
     },
     "execution_count": 184,
     "metadata": {
      "application/vnd.holoviews_exec.v0+json": {
       "id": "1676"
      }
     },
     "output_type": "execute_result"
    }
   ],
   "source": [
    "average_price_by_neighborhood()"
   ]
  },
  {
   "cell_type": "code",
   "execution_count": 187,
   "metadata": {},
   "outputs": [
    {
     "data": {},
     "metadata": {},
     "output_type": "display_data"
    },
    {
     "data": {
      "application/vnd.holoviews_exec.v0+json": "",
      "text/html": [
       "<div id='1839'>\n",
       "\n",
       "\n",
       "\n",
       "\n",
       "\n",
       "  <div class=\"bk-root\" id=\"8d868394-62db-490f-8030-619f9caafa37\" data-root-id=\"1839\"></div>\n",
       "</div>\n",
       "<script type=\"application/javascript\">(function(root) {\n",
       "  function embed_document(root) {\n",
       "    var docs_json = {\"e33a21e3-5fa9-44db-9477-7bee1fef0b84\":{\"defs\":[{\"extends\":null,\"module\":null,\"name\":\"ReactiveHTML1\",\"overrides\":[],\"properties\":[]},{\"extends\":null,\"module\":null,\"name\":\"FlexBox1\",\"overrides\":[],\"properties\":[{\"default\":\"flex-start\",\"kind\":null,\"name\":\"align_content\"},{\"default\":\"flex-start\",\"kind\":null,\"name\":\"align_items\"},{\"default\":\"row\",\"kind\":null,\"name\":\"flex_direction\"},{\"default\":\"wrap\",\"kind\":null,\"name\":\"flex_wrap\"},{\"default\":\"flex-start\",\"kind\":null,\"name\":\"justify_content\"}]},{\"extends\":null,\"module\":null,\"name\":\"TemplateActions1\",\"overrides\":[],\"properties\":[{\"default\":0,\"kind\":null,\"name\":\"open_modal\"},{\"default\":0,\"kind\":null,\"name\":\"close_modal\"}]},{\"extends\":null,\"module\":null,\"name\":\"MaterialTemplateActions1\",\"overrides\":[],\"properties\":[{\"default\":0,\"kind\":null,\"name\":\"open_modal\"},{\"default\":0,\"kind\":null,\"name\":\"close_modal\"}]}],\"roots\":{\"references\":[{\"attributes\":{},\"id\":\"1883\",\"type\":\"AllLabels\"},{\"attributes\":{},\"id\":\"1851\",\"type\":\"LinearScale\"},{\"attributes\":{},\"id\":\"1886\",\"type\":\"AllLabels\"},{\"attributes\":{\"fill_color\":{\"value\":\"#30a2da\"},\"top\":{\"field\":\"sale_price_sqr_foot\"},\"width\":{\"value\":0.8},\"x\":{\"field\":\"neighborhood\"}},\"id\":\"1876\",\"type\":\"VBar\"},{\"attributes\":{\"axis\":{\"id\":\"1856\"},\"dimension\":1,\"grid_line_color\":null,\"ticker\":null},\"id\":\"1859\",\"type\":\"Grid\"},{\"attributes\":{\"margin\":[5,5,5,5],\"name\":\"HSpacer04252\",\"sizing_mode\":\"stretch_width\"},\"id\":\"1908\",\"type\":\"Spacer\"},{\"attributes\":{\"axis_label\":\"neighborhood\",\"formatter\":{\"id\":\"1884\"},\"major_label_policy\":{\"id\":\"1883\"},\"ticker\":{\"id\":\"1854\"}},\"id\":\"1853\",\"type\":\"CategoricalAxis\"},{\"attributes\":{\"text_color\":\"black\",\"text_font_size\":\"12pt\"},\"id\":\"1845\",\"type\":\"Title\"},{\"attributes\":{\"children\":[{\"id\":\"1840\"},{\"id\":\"1844\"},{\"id\":\"1908\"}],\"margin\":[0,0,0,0],\"name\":\"Row04247\",\"tags\":[\"embedded\"]},\"id\":\"1839\",\"type\":\"Row\"},{\"attributes\":{},\"id\":\"1854\",\"type\":\"CategoricalTicker\"},{\"attributes\":{\"axis\":{\"id\":\"1853\"},\"grid_line_color\":null,\"ticker\":null},\"id\":\"1855\",\"type\":\"Grid\"},{\"attributes\":{\"bottom\":{\"value\":0},\"fill_alpha\":{\"value\":1.0},\"fill_color\":{\"value\":\"#30a2da\"},\"hatch_alpha\":{\"value\":1.0},\"hatch_color\":{\"value\":\"black\"},\"hatch_scale\":{\"value\":12.0},\"hatch_weight\":{\"value\":1.0},\"line_alpha\":{\"value\":1.0},\"line_cap\":{\"value\":\"butt\"},\"line_color\":{\"value\":\"black\"},\"line_dash\":{\"value\":[]},\"line_dash_offset\":{\"value\":0},\"line_join\":{\"value\":\"bevel\"},\"line_width\":{\"value\":1},\"top\":{\"field\":\"sale_price_sqr_foot\"},\"width\":{\"value\":0.8},\"x\":{\"field\":\"neighborhood\"}},\"id\":\"1881\",\"type\":\"VBar\"},{\"attributes\":{},\"id\":\"1857\",\"type\":\"BasicTicker\"},{\"attributes\":{},\"id\":\"1897\",\"type\":\"UnionRenderers\"},{\"attributes\":{\"axis_label\":\"sale_price_sqr_foot\",\"formatter\":{\"id\":\"1887\"},\"major_label_policy\":{\"id\":\"1886\"},\"ticker\":{\"id\":\"1857\"}},\"id\":\"1856\",\"type\":\"LinearAxis\"},{\"attributes\":{\"factors\":[\"Union Square District\",\"Presidio Heights\",\"Merced Heights\",\"Miraloma Park\",\"Parnassus/Ashbury Heights\",\"Outer Richmond \",\"Marina\",\"South of Market\",\"Corona Heights\",\"Cow Hollow\",\"Potrero Hill\",\"South Beach\",\"Eureka Valley/Dolores Heights\",\"Russian Hill\",\"Telegraph Hill\",\"Pacific Heights\",\"Bernal Heights \",\"Twin Peaks\",\"Yerba Buena\",\"Golden Gate Heights\",\"Glen Park\",\"Mission Bay\",\"Lone Mountain\",\"North Waterfront\",\"Mission Terrace\",\"Buena Vista Park\",\"Lower Pacific Heights\",\"Noe Valley\",\"Nob Hill\",\"Inner Parkside\",\"Sunnyside\",\"Westwood Highlands\",\"Westwood Park\",\"Outer Parkside\",\"Downtown \",\"Jordan Park/Laurel Heights\",\"Midtown Terrace\",\"Financial District South\",\"Financial District North\",\"West Portal\",\"Van Ness/ Civic Center\",\"Central Richmond\",\"Inner Mission\",\"Ingleside \",\"Mission Dolores\",\"Inner Sunset\",\"Duboce Triangle\",\"Anza Vista\",\"Park North\",\"Alamo Square\",\"Bayview Heights\",\"Central Sunset\",\"Haight Ashbury\",\"Ingleside Heights\",\"Lake --The Presidio\",\"Croker Amazon\",\"Outer Mission\",\"Portola\",\"Hayes Valley\",\"Excelsior\",\"Diamond Heights\",\"Clarendon Heights\",\"North Beach\",\"Outer Sunset\",\"Inner Richmond\",\"Western Addition\",\"Parkside\",\"Oceanview\",\"Forest Knolls\",\"Visitacion Valley\",\"Bayview\",\"Hunters Point\",\"Silver Terrace\"],\"tags\":[[[\"neighborhood\",\"neighborhood\",null]]]},\"id\":\"1841\",\"type\":\"FactorRange\"},{\"attributes\":{\"fill_alpha\":{\"value\":0.1},\"fill_color\":{\"value\":\"#30a2da\"},\"line_alpha\":{\"value\":0.1},\"top\":{\"field\":\"sale_price_sqr_foot\"},\"width\":{\"value\":0.8},\"x\":{\"field\":\"neighborhood\"}},\"id\":\"1877\",\"type\":\"VBar\"},{\"attributes\":{\"fill_alpha\":{\"value\":0.2},\"fill_color\":{\"value\":\"#30a2da\"},\"line_alpha\":{\"value\":0.2},\"top\":{\"field\":\"sale_price_sqr_foot\"},\"width\":{\"value\":0.8},\"x\":{\"field\":\"neighborhood\"}},\"id\":\"1878\",\"type\":\"VBar\"},{\"attributes\":{\"data\":{\"neighborhood\":[\"Union Square District\",\"Presidio Heights\",\"Merced Heights\",\"Union Square District\",\"Miraloma Park\",\"Parnassus/Ashbury Heights\",\"Outer Richmond \",\"Marina\",\"South of Market\",\"Corona Heights\",\"Cow Hollow\",\"Potrero Hill\",\"South Beach\",\"Eureka Valley/Dolores Heights\",\"Russian Hill\",\"Telegraph Hill\",\"Pacific Heights\",\"Bernal Heights \",\"Twin Peaks\",\"Yerba Buena\",\"Golden Gate Heights\",\"Glen Park\",\"Mission Bay\",\"Lone Mountain\",\"Pacific Heights\",\"Telegraph Hill\",\"North Waterfront\",\"Corona Heights\",\"Mission Terrace\",\"Buena Vista Park\",\"Pacific Heights\",\"Potrero Hill\",\"Lower Pacific Heights\",\"Noe Valley\",\"Russian Hill\",\"Eureka Valley/Dolores Heights\",\"Nob Hill\",\"Parnassus/Ashbury Heights\",\"Golden Gate Heights\",\"Inner Parkside\",\"Miraloma Park\",\"Yerba Buena\",\"Sunnyside\",\"Westwood Highlands\",\"Westwood Park\",\"Outer Parkside\",\"Eureka Valley/Dolores Heights\",\"Downtown \",\"South of Market\",\"Lower Pacific Heights\",\"Glen Park\",\"Russian Hill\",\"Telegraph Hill\",\"Potrero Hill\",\"Cow Hollow\",\"Jordan Park/Laurel Heights\",\"Midtown Terrace\",\"Financial District South\",\"Financial District North\",\"Cow Hollow\",\"Mission Bay\",\"West Portal\",\"Miraloma Park\",\"Van Ness/ Civic Center\",\"Central Richmond\",\"Marina\",\"Noe Valley\",\"Telegraph Hill\",\"Outer Parkside\",\"Outer Parkside\",\"Inner Mission\",\"Ingleside \",\"Cow Hollow\",\"Marina\",\"Mission Dolores\",\"Inner Sunset\",\"Lower Pacific Heights\",\"Duboce Triangle\",\"Westwood Park\",\"Bernal Heights \",\"Duboce Triangle\",\"Anza Vista\",\"Park North\",\"Noe Valley\",\"Financial District South\",\"Glen Park\",\"Jordan Park/Laurel Heights\",\"Eureka Valley/Dolores Heights\",\"Parnassus/Ashbury Heights\",\"Presidio Heights\",\"Alamo Square\",\"Potrero Hill\",\"Cow Hollow\",\"Inner Parkside\",\"Mission Terrace\",\"Bayview Heights\",\"West Portal\",\"Pacific Heights\",\"Jordan Park/Laurel Heights\",\"Mission Terrace\",\"Central Sunset\",\"Jordan Park/Laurel Heights\",\"Haight Ashbury\",\"Mission Dolores\",\"Ingleside Heights\",\"Cow Hollow\",\"Union Square District\",\"Lake --The Presidio\",\"Golden Gate Heights\",\"Croker Amazon\",\"Outer Mission\",\"Twin Peaks\",\"Union Square District\",\"Glen Park\",\"Van Ness/ Civic Center\",\"Golden Gate Heights\",\"Buena Vista Park\",\"Presidio Heights\",\"Lower Pacific Heights\",\"Lone Mountain\",\"Noe Valley\",\"Bernal Heights \",\"Sunnyside\",\"Portola\",\"Hayes Valley\",\"Excelsior\",\"Diamond Heights\",\"Haight Ashbury\",\"South of Market\",\"Nob Hill\",\"Merced Heights\",\"Eureka Valley/Dolores Heights\",\"Telegraph Hill\",\"South Beach\",\"Clarendon Heights\",\"Inner Parkside\",\"North Beach\",\"Parnassus/Ashbury Heights\",\"Presidio Heights\",\"Park North\",\"Outer Sunset\",\"Pacific Heights\",\"Mission Bay\",\"Russian Hill\",\"Sunnyside\",\"Pacific Heights\",\"Potrero Hill\",\"Haight Ashbury\",\"Pacific Heights\",\"Presidio Heights\",\"Inner Richmond\",\"Sunnyside\",\"Yerba Buena\",\"Hayes Valley\",\"Potrero Hill\",\"Outer Sunset\",\"Mission Bay\",\"Downtown \",\"Alamo Square\",\"Telegraph Hill\",\"North Waterfront\",\"Western Addition\",\"Yerba Buena\",\"Haight Ashbury\",\"Nob Hill\",\"Van Ness/ Civic Center\",\"Central Richmond\",\"Bernal Heights \",\"Inner Sunset\",\"Potrero Hill\",\"Parnassus/Ashbury Heights\",\"Nob Hill\",\"Telegraph Hill\",\"Anza Vista\",\"Inner Mission\",\"South of Market\",\"Glen Park\",\"Bernal Heights \",\"Glen Park\",\"Diamond Heights\",\"Central Sunset\",\"Buena Vista Park\",\"Clarendon Heights\",\"Financial District South\",\"Central Sunset\",\"Anza Vista\",\"Duboce Triangle\",\"North Beach\",\"Russian Hill\",\"Parkside\",\"Inner Sunset\",\"Marina\",\"Union Square District\",\"Oceanview\",\"Sunnyside\",\"Yerba Buena\",\"Outer Richmond \",\"Sunnyside\",\"Inner Mission\",\"Inner Sunset\",\"Forest Knolls\",\"Parnassus/Ashbury Heights\",\"Lake --The Presidio\",\"Outer Parkside\",\"Marina\",\"Inner Richmond\",\"Western Addition\",\"Hayes Valley\",\"Downtown \",\"Noe Valley\",\"Mission Dolores\",\"Jordan Park/Laurel Heights\",\"Lake --The Presidio\",\"Presidio Heights\",\"Parnassus/Ashbury Heights\",\"Central Richmond\",\"Merced Heights\",\"South of Market\",\"Jordan Park/Laurel Heights\",\"Haight Ashbury\",\"Central Sunset\",\"Twin Peaks\",\"Croker Amazon\",\"Miraloma Park\",\"Twin Peaks\",\"Excelsior\",\"Russian Hill\",\"Eureka Valley/Dolores Heights\",\"Outer Sunset\",\"Financial District North\",\"North Beach\",\"Inner Richmond\",\"Eureka Valley/Dolores Heights\",\"Outer Richmond \",\"Financial District North\",\"South of Market\",\"Lone Mountain\",\"Midtown Terrace\",\"Lower Pacific Heights\",\"North Beach\",\"Haight Ashbury\",\"West Portal\",\"Central Sunset\",\"Marina\",\"Cow Hollow\",\"North Waterfront\",\"South Beach\",\"Alamo Square\",\"Marina\",\"Van Ness/ Civic Center\",\"Jordan Park/Laurel Heights\",\"Diamond Heights\",\"Noe Valley\",\"Lake --The Presidio\",\"North Waterfront\",\"Parkside\",\"Inner Mission\",\"Lone Mountain\",\"Lower Pacific Heights\",\"Noe Valley\",\"Inner Richmond\",\"Outer Parkside\",\"Park North\",\"Excelsior\",\"Corona Heights\",\"Outer Sunset\",\"Bernal Heights \",\"Diamond Heights\",\"Excelsior\",\"Parkside\",\"Russian Hill\",\"Downtown \",\"Inner Richmond\",\"Excelsior\",\"Outer Sunset\",\"Corona Heights\",\"Ingleside \",\"Financial District South\",\"Portola\",\"Golden Gate Heights\",\"Buena Vista Park\",\"North Waterfront\",\"Van Ness/ Civic Center\",\"Anza Vista\",\"Central Richmond\",\"Alamo Square\",\"Nob Hill\",\"Outer Richmond \",\"Buena Vista Park\",\"Outer Richmond \",\"South of Market\",\"Inner Mission\",\"Central Sunset\",\"Yerba Buena\",\"Outer Richmond \",\"Twin Peaks\",\"Central Sunset\",\"Lake --The Presidio\",\"Visitacion Valley\",\"Park North\",\"Inner Sunset\",\"West Portal\",\"Outer Sunset\",\"Mission Dolores\",\"Lake --The Presidio\",\"Westwood Highlands\",\"Central Richmond\",\"Lone Mountain\",\"Lone Mountain\",\"Outer Parkside\",\"Nob Hill\",\"Nob Hill\",\"Hayes Valley\",\"Twin Peaks\",\"Lower Pacific Heights\",\"Inner Richmond\",\"Inner Sunset\",\"Visitacion Valley\",\"Portola\",\"Union Square District\",\"Croker Amazon\",\"Mission Terrace\",\"Outer Sunset\",\"Duboce Triangle\",\"Mission Dolores\",\"Visitacion Valley\",\"Alamo Square\",\"North Beach\",\"Excelsior\",\"Park North\",\"Park North\",\"Financial District North\",\"Inner Richmond\",\"Van Ness/ Civic Center\",\"Twin Peaks\",\"Inner Mission\",\"Oceanview\",\"Visitacion Valley\",\"Financial District North\",\"Hayes Valley\",\"Central Richmond\",\"Inner Sunset\",\"Ingleside \",\"Financial District North\",\"Western Addition\",\"Parkside\",\"Alamo Square\",\"Hayes Valley\",\"Outer Richmond \",\"Downtown \",\"Anza Vista\",\"Oceanview\",\"Mission Terrace\",\"Central Richmond\",\"Bayview\",\"Mission Dolores\",\"Bayview\",\"Haight Ashbury\",\"Outer Parkside\",\"Downtown \",\"Inner Mission\",\"Portola\",\"Downtown \",\"Western Addition\",\"Croker Amazon\",\"Corona Heights\",\"Outer Mission\",\"Mission Bay\",\"Parkside\",\"Western Addition\",\"Western Addition\",\"Park North\",\"Forest Knolls\",\"Portola\",\"Inner Parkside\",\"Ingleside Heights\",\"Ingleside \",\"Alamo Square\",\"Hayes Valley\",\"Bayview\",\"Buena Vista Park\",\"Hunters Point\",\"Silver Terrace\",\"Bayview\",\"Bayview\",\"Croker Amazon\",\"Financial District South\",\"Croker Amazon\",\"Outer Mission\",\"Van Ness/ Civic Center\",\"Anza Vista\",\"Outer Mission\",\"Mission Bay\",\"Hunters Point\",\"Parkside\",\"Presidio Heights\",\"Financial District North\"],\"sale_price_sqr_foot\":{\"__ndarray__\":\"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\",\"dtype\":\"float64\",\"order\":\"little\",\"shape\":[397]}},\"selected\":{\"id\":\"1874\"},\"selection_policy\":{\"id\":\"1897\"}},\"id\":\"1873\",\"type\":\"ColumnDataSource\"},{\"attributes\":{\"margin\":[5,5,5,5],\"name\":\"HSpacer04251\",\"sizing_mode\":\"stretch_width\"},\"id\":\"1840\",\"type\":\"Spacer\"},{\"attributes\":{\"bottom_units\":\"screen\",\"fill_alpha\":0.5,\"fill_color\":\"lightgrey\",\"left_units\":\"screen\",\"level\":\"overlay\",\"line_alpha\":1.0,\"line_color\":\"black\",\"line_dash\":[4,4],\"line_width\":2,\"right_units\":\"screen\",\"syncable\":false,\"top_units\":\"screen\"},\"id\":\"1865\",\"type\":\"BoxAnnotation\"},{\"attributes\":{\"end\":2480.495852663006,\"reset_end\":2480.495852663006,\"reset_start\":0.0,\"tags\":[[[\"sale_price_sqr_foot\",\"sale_price_sqr_foot\",null]]]},\"id\":\"1842\",\"type\":\"Range1d\"},{\"attributes\":{\"data_source\":{\"id\":\"1873\"},\"glyph\":{\"id\":\"1876\"},\"hover_glyph\":null,\"muted_glyph\":{\"id\":\"1878\"},\"nonselection_glyph\":{\"id\":\"1877\"},\"selection_glyph\":{\"id\":\"1881\"},\"view\":{\"id\":\"1880\"}},\"id\":\"1879\",\"type\":\"GlyphRenderer\"},{\"attributes\":{\"active_multi\":null,\"tools\":[{\"id\":\"1843\"},{\"id\":\"1860\"},{\"id\":\"1861\"},{\"id\":\"1862\"},{\"id\":\"1863\"},{\"id\":\"1864\"}]},\"id\":\"1866\",\"type\":\"Toolbar\"},{\"attributes\":{},\"id\":\"1860\",\"type\":\"SaveTool\"},{\"attributes\":{},\"id\":\"1861\",\"type\":\"PanTool\"},{\"attributes\":{\"callback\":null,\"renderers\":[{\"id\":\"1879\"}],\"tags\":[\"hv_created\"],\"tooltips\":[[\"neighborhood\",\"@{neighborhood}\"],[\"sale_price_sqr_foot\",\"@{sale_price_sqr_foot}\"]]},\"id\":\"1843\",\"type\":\"HoverTool\"},{\"attributes\":{},\"id\":\"1887\",\"type\":\"BasicTickFormatter\"},{\"attributes\":{},\"id\":\"1862\",\"type\":\"WheelZoomTool\"},{\"attributes\":{},\"id\":\"1864\",\"type\":\"ResetTool\"},{\"attributes\":{},\"id\":\"1884\",\"type\":\"CategoricalTickFormatter\"},{\"attributes\":{\"overlay\":{\"id\":\"1865\"}},\"id\":\"1863\",\"type\":\"BoxZoomTool\"},{\"attributes\":{},\"id\":\"1874\",\"type\":\"Selection\"},{\"attributes\":{},\"id\":\"1849\",\"type\":\"CategoricalScale\"},{\"attributes\":{\"source\":{\"id\":\"1873\"}},\"id\":\"1880\",\"type\":\"CDSView\"},{\"attributes\":{\"below\":[{\"id\":\"1853\"}],\"center\":[{\"id\":\"1855\"},{\"id\":\"1859\"}],\"height\":400,\"left\":[{\"id\":\"1856\"}],\"margin\":[5,5,5,5],\"min_border_bottom\":10,\"min_border_left\":10,\"min_border_right\":10,\"min_border_top\":10,\"renderers\":[{\"id\":\"1879\"}],\"sizing_mode\":\"fixed\",\"title\":{\"id\":\"1845\"},\"toolbar\":{\"id\":\"1866\"},\"width\":1000,\"x_range\":{\"id\":\"1841\"},\"x_scale\":{\"id\":\"1849\"},\"y_range\":{\"id\":\"1842\"},\"y_scale\":{\"id\":\"1851\"}},\"id\":\"1844\",\"subtype\":\"Figure\",\"type\":\"Plot\"}],\"root_ids\":[\"1839\"]},\"title\":\"Bokeh Application\",\"version\":\"2.3.2\"}};\n",
       "    var render_items = [{\"docid\":\"e33a21e3-5fa9-44db-9477-7bee1fef0b84\",\"root_ids\":[\"1839\"],\"roots\":{\"1839\":\"8d868394-62db-490f-8030-619f9caafa37\"}}];\n",
       "    root.Bokeh.embed.embed_items_notebook(docs_json, render_items);\n",
       "  }\n",
       "  if (root.Bokeh !== undefined && root.Bokeh.Panel !== undefined && ( root['Plotly'] !== undefined)) {\n",
       "    embed_document(root);\n",
       "  } else {\n",
       "    var attempts = 0;\n",
       "    var timer = setInterval(function(root) {\n",
       "      if (root.Bokeh !== undefined && root.Bokeh.Panel !== undefined && (root['Plotly'] !== undefined)) {\n",
       "        clearInterval(timer);\n",
       "        embed_document(root);\n",
       "      } else if (document.readyState == \"complete\") {\n",
       "        attempts++;\n",
       "        if (attempts > 200) {\n",
       "          clearInterval(timer);\n",
       "          console.log(\"Bokeh: ERROR: Unable to run BokehJS code because BokehJS library is missing\");\n",
       "        }\n",
       "      }\n",
       "    }, 25, root)\n",
       "  }\n",
       "})(window);</script>"
      ],
      "text/plain": [
       ":Bars   [neighborhood]   (sale_price_sqr_foot)"
      ]
     },
     "execution_count": 187,
     "metadata": {
      "application/vnd.holoviews_exec.v0+json": {
       "id": "1839"
      }
     },
     "output_type": "execute_result"
    }
   ],
   "source": [
    "top_most_expensive_neighborhoods()"
   ]
  },
  {
   "cell_type": "code",
   "execution_count": null,
   "metadata": {},
   "outputs": [],
   "source": [
    "# most_expensive_neighborhoods_rent_sales()"
   ]
  },
  {
   "cell_type": "code",
   "execution_count": null,
   "metadata": {},
   "outputs": [],
   "source": [
    "# neighborhood_map().show()"
   ]
  },
  {
   "cell_type": "code",
   "execution_count": null,
   "metadata": {},
   "outputs": [],
   "source": [
    "# parallel_categories()"
   ]
  },
  {
   "cell_type": "code",
   "execution_count": null,
   "metadata": {},
   "outputs": [],
   "source": [
    "# parallel_coordinates()"
   ]
  },
  {
   "cell_type": "code",
   "execution_count": null,
   "metadata": {},
   "outputs": [],
   "source": [
    "# sunburst()"
   ]
  },
  {
   "cell_type": "code",
   "execution_count": null,
   "metadata": {},
   "outputs": [],
   "source": []
  }
 ],
 "metadata": {
  "file_extension": ".py",
  "kernelspec": {
   "display_name": "Python 3",
   "language": "python",
   "name": "python3"
  },
  "language_info": {
   "codemirror_mode": {
    "name": "ipython",
    "version": 3
   },
   "file_extension": ".py",
   "mimetype": "text/x-python",
   "name": "python",
   "nbconvert_exporter": "python",
   "pygments_lexer": "ipython3",
   "version": "3.7.10"
  },
  "mimetype": "text/x-python",
  "name": "python",
  "npconvert_exporter": "python",
  "pygments_lexer": "ipython3",
  "version": 3
 },
 "nbformat": 4,
 "nbformat_minor": 4
}
